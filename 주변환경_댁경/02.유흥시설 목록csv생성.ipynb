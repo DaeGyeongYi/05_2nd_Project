{
 "cells": [
  {
   "cell_type": "code",
   "execution_count": 232,
   "id": "9fe5f6aa",
   "metadata": {},
   "outputs": [],
   "source": [
    "import pandas as pd\n"
   ]
  },
  {
   "cell_type": "code",
   "execution_count": 233,
   "id": "7272368a",
   "metadata": {},
   "outputs": [],
   "source": [
    "df = pd.read_csv(\"../Data/주변환경_Data/원본_유흥시설 목록.csv\",encoding='cp949',low_memory=False)"
   ]
  },
  {
   "cell_type": "code",
   "execution_count": 234,
   "id": "b6662616",
   "metadata": {
    "scrolled": true
   },
   "outputs": [
    {
     "data": {
      "text/plain": [
       "Index(['번호', '개방서비스명', '개방서비스id', '개방자치단체코드', '관리번호', '인허가일자', '인허가취소일자',\n",
       "       '영업상태구분코드', '영업상태명', '상세영업상태코드', '상세영업상태명', '폐업일자', '휴업시작일자', '휴업종료일자',\n",
       "       '재개업일자', '소재지전화', '소재지면적', '소재지우편번호', '소재지전체주소', '도로명전체주소', '도로명우편번호',\n",
       "       '사업장명', '최종수정시점', '데이터갱신구분', '데이터갱신일자', '업태구분명', '좌표정보(x)', '좌표정보(y)',\n",
       "       '위생업태명', '남성종사자수', '여성종사자수', '영업장주변구분명', '등급구분명', '급수시설구분명', '총종업원수',\n",
       "       '본사종업원수', '공장사무직종업원수', '공장판매직종업원수', '공장생산직종업원수', '건물소유구분명', '보증액',\n",
       "       '월세액', '다중이용업소여부', '시설총규모', '전통업소지정번호', '전통업소주된음식', '홈페이지',\n",
       "       'Unnamed: 47'],\n",
       "      dtype='object')"
      ]
     },
     "execution_count": 234,
     "metadata": {},
     "output_type": "execute_result"
    }
   ],
   "source": [
    "df.columns"
   ]
  },
  {
   "cell_type": "code",
   "execution_count": 235,
   "id": "621ec2e0",
   "metadata": {
    "scrolled": true
   },
   "outputs": [],
   "source": [
    "df = df[df.영업상태명=='영업/정상']"
   ]
  },
  {
   "cell_type": "code",
   "execution_count": 236,
   "id": "021da75c",
   "metadata": {},
   "outputs": [],
   "source": [
    "df = df.drop(['개방자치단체코드','재개업일자','번호', '개방서비스명', '개방서비스id','관리번호', '인허가일자', \n",
    "         '인허가취소일자','영업상태구분코드', '영업상태명','사업장명','상세영업상태코드', \n",
    "         '상세영업상태명','폐업일자', '휴업시작일자', '휴업종료일자',\n",
    "         '데이터갱신구분', '데이터갱신일자', '업태구분명','좌표정보(x)', '좌표정보(y)',\n",
    "         '본사종업원수', '공장사무직종업원수', '공장판매직종업원수', '공장생산직종업원수',\n",
    "         '최종수정시점','홈페이지','남성종사자수', '여성종사자수','위생업태명','급수시설구분명',\n",
    "        '건물소유구분명', '보증액','월세액', '다중이용업소여부', '시설총규모', '전통업소지정번호', \n",
    "         '전통업소주된음식', '홈페이지','등급구분명','총종업원수','Unnamed: 47','소재지면적','소재지전화',\n",
    "        \"소재지우편번호\",\"도로명우편번호\"],axis=1)"
   ]
  },
  {
   "cell_type": "code",
   "execution_count": 237,
   "id": "b7162096",
   "metadata": {},
   "outputs": [],
   "source": [
    "df = df.astype(str)"
   ]
  },
  {
   "cell_type": "code",
   "execution_count": 238,
   "id": "60ad755a",
   "metadata": {
    "scrolled": true
   },
   "outputs": [],
   "source": [
    "df.loc[df.소재지전체주소.str.contains('세종특별'),'소재지전체주소'] = '세종특별자치시 '"
   ]
  },
  {
   "cell_type": "code",
   "execution_count": 239,
   "id": "7d7ee955",
   "metadata": {
    "scrolled": true
   },
   "outputs": [],
   "source": [
    "tmp = []\n",
    "for i in (df.소재지전체주소.astype(str) + df.도로명전체주소.astype(str)):\n",
    "      tmp.append(str(i.split(' ')[0]+\" \"+i.split(' ')[1]))\n"
   ]
  },
  {
   "cell_type": "code",
   "execution_count": 240,
   "id": "bbf80ba2",
   "metadata": {},
   "outputs": [],
   "source": [
    "for i in range(len(tmp)):\n",
    "    if 'nan' in tmp[i]:\n",
    "         tmp[i]=tmp[i].replace(\"nan\",\"\")"
   ]
  },
  {
   "cell_type": "code",
   "execution_count": 241,
   "id": "39775099",
   "metadata": {
    "scrolled": false
   },
   "outputs": [],
   "source": [
    "df['주소']=tmp"
   ]
  },
  {
   "cell_type": "code",
   "execution_count": 242,
   "id": "4c1e01a8",
   "metadata": {},
   "outputs": [],
   "source": [
    "df = df.drop(['소재지전체주소','도로명전체주소'],axis=1)"
   ]
  },
  {
   "cell_type": "code",
   "execution_count": 243,
   "id": "ee50edeb",
   "metadata": {
    "scrolled": true
   },
   "outputs": [],
   "source": [
    "df=df.astype(str)"
   ]
  },
  {
   "cell_type": "code",
   "execution_count": 244,
   "id": "3c9781a4",
   "metadata": {},
   "outputs": [
    {
     "data": {
      "text/html": [
       "<div>\n",
       "<style scoped>\n",
       "    .dataframe tbody tr th:only-of-type {\n",
       "        vertical-align: middle;\n",
       "    }\n",
       "\n",
       "    .dataframe tbody tr th {\n",
       "        vertical-align: top;\n",
       "    }\n",
       "\n",
       "    .dataframe thead th {\n",
       "        text-align: right;\n",
       "    }\n",
       "</style>\n",
       "<table border=\"1\" class=\"dataframe\">\n",
       "  <thead>\n",
       "    <tr style=\"text-align: right;\">\n",
       "      <th></th>\n",
       "      <th>영업장주변구분명</th>\n",
       "      <th>주소</th>\n",
       "    </tr>\n",
       "  </thead>\n",
       "  <tbody>\n",
       "    <tr>\n",
       "      <th>0</th>\n",
       "      <td>nan</td>\n",
       "      <td>광주광역시 광산구</td>\n",
       "    </tr>\n",
       "    <tr>\n",
       "      <th>1</th>\n",
       "      <td>nan</td>\n",
       "      <td>광주광역시 광산구</td>\n",
       "    </tr>\n",
       "    <tr>\n",
       "      <th>2</th>\n",
       "      <td>유흥업소밀집지역</td>\n",
       "      <td>광주광역시 광산구</td>\n",
       "    </tr>\n",
       "    <tr>\n",
       "      <th>3</th>\n",
       "      <td>기타</td>\n",
       "      <td>광주광역시 광산구</td>\n",
       "    </tr>\n",
       "    <tr>\n",
       "      <th>4</th>\n",
       "      <td>nan</td>\n",
       "      <td>광주광역시 광산구</td>\n",
       "    </tr>\n",
       "    <tr>\n",
       "      <th>...</th>\n",
       "      <td>...</td>\n",
       "      <td>...</td>\n",
       "    </tr>\n",
       "    <tr>\n",
       "      <th>26892</th>\n",
       "      <td>기타</td>\n",
       "      <td>경상북도 안동시</td>\n",
       "    </tr>\n",
       "    <tr>\n",
       "      <th>26893</th>\n",
       "      <td>기타</td>\n",
       "      <td>울산광역시 울주군</td>\n",
       "    </tr>\n",
       "    <tr>\n",
       "      <th>26894</th>\n",
       "      <td>아파트지역</td>\n",
       "      <td>전라남도 광양시</td>\n",
       "    </tr>\n",
       "    <tr>\n",
       "      <th>26895</th>\n",
       "      <td>유흥업소밀집지역</td>\n",
       "      <td>서울특별시 관악구</td>\n",
       "    </tr>\n",
       "    <tr>\n",
       "      <th>26896</th>\n",
       "      <td>nan</td>\n",
       "      <td>경상남도 양산시</td>\n",
       "    </tr>\n",
       "  </tbody>\n",
       "</table>\n",
       "<p>26897 rows × 2 columns</p>\n",
       "</div>"
      ],
      "text/plain": [
       "       영업장주변구분명         주소\n",
       "0           nan  광주광역시 광산구\n",
       "1           nan  광주광역시 광산구\n",
       "2      유흥업소밀집지역  광주광역시 광산구\n",
       "3            기타  광주광역시 광산구\n",
       "4           nan  광주광역시 광산구\n",
       "...         ...        ...\n",
       "26892        기타   경상북도 안동시\n",
       "26893        기타  울산광역시 울주군\n",
       "26894     아파트지역   전라남도 광양시\n",
       "26895  유흥업소밀집지역  서울특별시 관악구\n",
       "26896       nan   경상남도 양산시\n",
       "\n",
       "[26897 rows x 2 columns]"
      ]
     },
     "execution_count": 244,
     "metadata": {},
     "output_type": "execute_result"
    }
   ],
   "source": [
    "df"
   ]
  },
  {
   "cell_type": "code",
   "execution_count": 245,
   "id": "7f8e17ab",
   "metadata": {},
   "outputs": [],
   "source": [
    "df.loc[df['영업장주변구분명']=='nan','영업장주변구분명'] = '미분류'"
   ]
  },
  {
   "cell_type": "code",
   "execution_count": 253,
   "id": "4d205de6",
   "metadata": {},
   "outputs": [
    {
     "data": {
      "text/html": [
       "<div>\n",
       "<style scoped>\n",
       "    .dataframe tbody tr th:only-of-type {\n",
       "        vertical-align: middle;\n",
       "    }\n",
       "\n",
       "    .dataframe tbody tr th {\n",
       "        vertical-align: top;\n",
       "    }\n",
       "\n",
       "    .dataframe thead th {\n",
       "        text-align: right;\n",
       "    }\n",
       "</style>\n",
       "<table border=\"1\" class=\"dataframe\">\n",
       "  <thead>\n",
       "    <tr style=\"text-align: right;\">\n",
       "      <th></th>\n",
       "      <th>영업장주변구분명</th>\n",
       "      <th>주소</th>\n",
       "    </tr>\n",
       "  </thead>\n",
       "  <tbody>\n",
       "    <tr>\n",
       "      <th>3681</th>\n",
       "      <td>미분류</td>\n",
       "      <td>강원도 강릉시</td>\n",
       "    </tr>\n",
       "    <tr>\n",
       "      <th>3711</th>\n",
       "      <td>미분류</td>\n",
       "      <td>강원도 강릉시</td>\n",
       "    </tr>\n",
       "    <tr>\n",
       "      <th>3712</th>\n",
       "      <td>유흥업소밀집지역</td>\n",
       "      <td>강원도 강릉시</td>\n",
       "    </tr>\n",
       "    <tr>\n",
       "      <th>3713</th>\n",
       "      <td>기타</td>\n",
       "      <td>강원도 강릉시</td>\n",
       "    </tr>\n",
       "    <tr>\n",
       "      <th>3714</th>\n",
       "      <td>유흥업소밀집지역</td>\n",
       "      <td>강원도 강릉시</td>\n",
       "    </tr>\n",
       "    <tr>\n",
       "      <th>...</th>\n",
       "      <td>...</td>\n",
       "      <td>...</td>\n",
       "    </tr>\n",
       "    <tr>\n",
       "      <th>25967</th>\n",
       "      <td>학교정화(상대)</td>\n",
       "      <td>충청북도 충주시</td>\n",
       "    </tr>\n",
       "    <tr>\n",
       "      <th>25968</th>\n",
       "      <td>미분류</td>\n",
       "      <td>충청북도 충주시</td>\n",
       "    </tr>\n",
       "    <tr>\n",
       "      <th>26059</th>\n",
       "      <td>미분류</td>\n",
       "      <td>충청북도 충주시</td>\n",
       "    </tr>\n",
       "    <tr>\n",
       "      <th>25858</th>\n",
       "      <td>미분류</td>\n",
       "      <td>충청북도 충주시</td>\n",
       "    </tr>\n",
       "    <tr>\n",
       "      <th>26187</th>\n",
       "      <td>미분류</td>\n",
       "      <td>충청북도 충주시</td>\n",
       "    </tr>\n",
       "  </tbody>\n",
       "</table>\n",
       "<p>26897 rows × 2 columns</p>\n",
       "</div>"
      ],
      "text/plain": [
       "       영업장주변구분명        주소\n",
       "3681        미분류   강원도 강릉시\n",
       "3711        미분류   강원도 강릉시\n",
       "3712   유흥업소밀집지역   강원도 강릉시\n",
       "3713         기타   강원도 강릉시\n",
       "3714   유흥업소밀집지역   강원도 강릉시\n",
       "...         ...       ...\n",
       "25967  학교정화(상대)  충청북도 충주시\n",
       "25968       미분류  충청북도 충주시\n",
       "26059       미분류  충청북도 충주시\n",
       "25858       미분류  충청북도 충주시\n",
       "26187       미분류  충청북도 충주시\n",
       "\n",
       "[26897 rows x 2 columns]"
      ]
     },
     "execution_count": 253,
     "metadata": {},
     "output_type": "execute_result"
    }
   ],
   "source": [
    "df.sort_values(by='주소')"
   ]
  },
  {
   "cell_type": "code",
   "execution_count": 246,
   "id": "ef79f83d",
   "metadata": {
    "scrolled": false
   },
   "outputs": [],
   "source": [
    "df2 = pd.DataFrame(df['영업장주변구분명'].groupby([df['주소'],df['영업장주변구분명']]).size())"
   ]
  },
  {
   "cell_type": "code",
   "execution_count": 247,
   "id": "59f01f65",
   "metadata": {},
   "outputs": [],
   "source": [
    "df2['주소']= [df2.index[i][0] for i in range(1025)]\n",
    "df2['영업장주변구분']= [df2.index[i][1] for i in range(1025)]"
   ]
  },
  {
   "cell_type": "code",
   "execution_count": 248,
   "id": "70496608",
   "metadata": {},
   "outputs": [],
   "source": [
    "df2.reset_index(drop=True,inplace=True)"
   ]
  },
  {
   "cell_type": "code",
   "execution_count": 249,
   "id": "1265142a",
   "metadata": {},
   "outputs": [],
   "source": [
    "df2=df2[['주소','영업장주변구분','영업장주변구분명']]"
   ]
  },
  {
   "cell_type": "code",
   "execution_count": 250,
   "id": "3f9ee0be",
   "metadata": {},
   "outputs": [],
   "source": [
    "df2 = df2.rename({\"영업장주변구분명\":\"개수\"},axis=1)"
   ]
  },
  {
   "cell_type": "code",
   "execution_count": 251,
   "id": "3fdb16fa",
   "metadata": {
    "scrolled": true
   },
   "outputs": [],
   "source": [
    "df2.loc[df2.주소.str.contains('세종'), \"주소\"] = '세종특별자치시'"
   ]
  },
  {
   "cell_type": "code",
   "execution_count": 229,
   "id": "9798a5fa",
   "metadata": {},
   "outputs": [],
   "source": [
    "df2.to_csv(\"../Data/주변환경_Data/수정본_유흥업소지역별현황.csv\")"
   ]
  }
 ],
 "metadata": {
  "kernelspec": {
   "display_name": "Python 3",
   "language": "python",
   "name": "python3"
  },
  "language_info": {
   "codemirror_mode": {
    "name": "ipython",
    "version": 3
   },
   "file_extension": ".py",
   "mimetype": "text/x-python",
   "name": "python",
   "nbconvert_exporter": "python",
   "pygments_lexer": "ipython3",
   "version": "3.8.8"
  }
 },
 "nbformat": 4,
 "nbformat_minor": 5
}
