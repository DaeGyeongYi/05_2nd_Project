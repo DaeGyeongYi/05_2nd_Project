{
 "cells": [
  {
   "cell_type": "code",
   "execution_count": 11,
   "id": "9fe5f6aa",
   "metadata": {},
   "outputs": [],
   "source": [
    "import pandas as pd\n"
   ]
  },
  {
   "cell_type": "code",
   "execution_count": 12,
   "id": "7272368a",
   "metadata": {},
   "outputs": [],
   "source": [
    "df = pd.read_csv(\"../Data/주변환경_Data/원본_유흥시설 목록.csv\",encoding='cp949',low_memory=False)"
   ]
  },
  {
   "cell_type": "code",
   "execution_count": 13,
   "id": "b6662616",
   "metadata": {},
   "outputs": [
    {
     "data": {
      "text/plain": [
       "Index(['번호', '개방서비스명', '개방서비스id', '개방자치단체코드', '관리번호', '인허가일자', '인허가취소일자',\n",
       "       '영업상태구분코드', '영업상태명', '상세영업상태코드', '상세영업상태명', '폐업일자', '휴업시작일자', '휴업종료일자',\n",
       "       '재개업일자', '소재지전화', '소재지면적', '소재지우편번호', '소재지전체주소', '도로명전체주소', '도로명우편번호',\n",
       "       '사업장명', '최종수정시점', '데이터갱신구분', '데이터갱신일자', '업태구분명', '좌표정보(x)', '좌표정보(y)',\n",
       "       '위생업태명', '남성종사자수', '여성종사자수', '영업장주변구분명', '등급구분명', '급수시설구분명', '총종업원수',\n",
       "       '본사종업원수', '공장사무직종업원수', '공장판매직종업원수', '공장생산직종업원수', '건물소유구분명', '보증액',\n",
       "       '월세액', '다중이용업소여부', '시설총규모', '전통업소지정번호', '전통업소주된음식', '홈페이지',\n",
       "       'Unnamed: 47'],\n",
       "      dtype='object')"
      ]
     },
     "execution_count": 13,
     "metadata": {},
     "output_type": "execute_result"
    }
   ],
   "source": [
    "df.columns"
   ]
  },
  {
   "cell_type": "code",
   "execution_count": 14,
   "id": "621ec2e0",
   "metadata": {
    "scrolled": true
   },
   "outputs": [],
   "source": [
    "df = df[df.영업상태명=='영업/정상']"
   ]
  },
  {
   "cell_type": "code",
   "execution_count": 15,
   "id": "021da75c",
   "metadata": {},
   "outputs": [],
   "source": [
    "df = df.drop(['개방자치단체코드','재개업일자','번호', '개방서비스명', '개방서비스id','관리번호', '인허가일자', \n",
    "         '인허가취소일자','영업상태구분코드', '영업상태명','사업장명','상세영업상태코드', \n",
    "         '상세영업상태명','폐업일자', '휴업시작일자', '휴업종료일자',\n",
    "         '데이터갱신구분', '데이터갱신일자', '업태구분명','좌표정보(x)', '좌표정보(y)',\n",
    "         '본사종업원수', '공장사무직종업원수', '공장판매직종업원수', '공장생산직종업원수',\n",
    "         '최종수정시점','홈페이지','남성종사자수', '여성종사자수','위생업태명','급수시설구분명',\n",
    "        '건물소유구분명', '보증액','월세액', '다중이용업소여부', '시설총규모', '전통업소지정번호', \n",
    "         '전통업소주된음식', '홈페이지','등급구분명','총종업원수','Unnamed: 47','소재지면적','소재지전화'],axis=1)"
   ]
  },
  {
   "cell_type": "code",
   "execution_count": 16,
   "id": "daf291b6",
   "metadata": {
    "scrolled": true
   },
   "outputs": [
    {
     "name": "stdout",
     "output_type": "stream",
     "text": [
      "경상남도 양산시 평산동 148-4 세종낚시마트 626848.0\n",
      "nan\n",
      "nan\n",
      "nan\n",
      "nan\n",
      "nan\n",
      "nan\n",
      "nan\n",
      "nan\n",
      "nan\n",
      "nan\n",
      "nan\n",
      "nan\n",
      "세종특별자치시 부강면 부강리 408-12번지 339941.0\n",
      "nan\n",
      "nan\n",
      "nan\n",
      "nan\n",
      "nan\n",
      "nan\n",
      "nan\n",
      "nan\n",
      "nan\n",
      "nan\n",
      "nan\n",
      "nan\n",
      "nan\n",
      "nan\n",
      "nan\n",
      "nan\n",
      "nan\n",
      "nan\n",
      "nan\n",
      "nan\n",
      "nan\n",
      "nan\n",
      "nan\n",
      "nan\n",
      "nan\n",
      "nan\n",
      "nan\n",
      "nan\n",
      "nan\n",
      "nan\n",
      "nan\n",
      "nan\n",
      "nan\n",
      "nan\n",
      "nan\n",
      "nan\n",
      "nan\n",
      "nan\n",
      "nan\n",
      "nan\n",
      "nan\n",
      "nan\n",
      "nan\n",
      "nan\n",
      "nan\n",
      "nan\n",
      "세종특별자치시 조치원읍 원리 10-9번지 외1필지(지하) 339883.0\n",
      "세종특별자치시 금남면 용포리 193-35번지 2층 339835.0\n",
      "세종특별자치시 부강면 부강리 401-58번지 339941.0\n",
      "세종특별자치시 조치원읍 원리 10-1번지 (2층) 339883.0\n",
      "세종특별자치시 조치원읍 원리 2-8 1층 339883.0\n",
      "세종특별자치시 조치원읍 원리 1-23번지 지하 339883.0\n",
      "세종특별자치시 조치원읍 원리 11-21 외1필지(지하) 339883.0\n",
      "세종특별자치시 조치원읍 원리 3-4 외1필지(지하) 339883.0\n",
      "세종특별자치시 조치원읍 원리 5-7번지 지하 339883.0\n",
      "세종특별자치시 조치원읍 원리 2-8번지 지하 339883.0\n",
      "세종특별자치시 조치원읍 원리 7-1번지 339883.0\n",
      "세종특별자치시 조치원읍 원리 1-6번지 339883.0\n",
      "세종특별자치시 조치원읍 원리 2-10번지 2층 339883.0\n",
      "세종특별자치시 부강면 부강리 431번지 (지하1층) 339941.0\n",
      "세종특별자치시 금남면 용포리 193-43 (3층) 339835.0\n",
      "세종특별자치시 부강면 부강리 458-3 339941.0\n",
      "세종특별자치시 부강면 부강리 437번지 지하1층 339941.0\n",
      "nan\n",
      "nan\n",
      "nan\n",
      "nan\n",
      "nan\n",
      "nan\n",
      "nan\n",
      "nan\n",
      "세종특별자치시 조치원읍 교리 22-10번지 2층 339801.0\n",
      "세종특별자치시 조치원읍 원리 11-2번지 외2필지(지하1층) 339883.0\n",
      "세종특별자치시 조치원읍 정리 105-8 1~2층 339882.0\n",
      "세종특별자치시 조치원읍 교리 22-3 정행빌딩 339801.0\n",
      "세종특별자치시 조치원읍 교리 22-2번지 외1필지(지상5층) 339801.0\n",
      "세종특별자치시 부강면 부강리 443-3번지 2층 339941.0\n",
      "세종특별자치시 조치원읍 정리 105-15번지 2층 339882.0\n",
      "세종특별자치시 금남면 용포리 192-5번지 2층 339835.0\n",
      "세종특별자치시 조치원읍 원리 10-21번지 (지하1층) 339883.0\n",
      "세종특별자치시 조치원읍 원리 10-18 (지상2층) 339883.0\n",
      "세종특별자치시 조치원읍 원리 10-27번지 2층 339883.0\n",
      "세종특별자치시 부강면 부강리 408-5번지 2층 339941.0\n",
      "세종특별자치시 금남면 용포리 135-19 지상3층 339835.0\n",
      "세종특별자치시 금남면 용포리 193-42번지 2층 339835.0\n",
      "세종특별자치시 부강면 부강리 416-2번지 339941.0\n",
      "세종특별자치시 부강면 부강리 415-5번지 2층 339941.0\n",
      "세종특별자치시 부강면 부강리 414-1번지 지하1층 339941.0\n",
      "세종특별자치시 조치원읍 원리 9-2번지 339883.0\n"
     ]
    }
   ],
   "source": [
    "for i,j in zip(df.소재지전체주소,df.소재지우편번호):\n",
    "    try:\n",
    "        if \"세종\" in i:\n",
    "            print(i,j)\n",
    "    except:\n",
    "        print(i)"
   ]
  },
  {
   "cell_type": "code",
   "execution_count": 17,
   "id": "94cc415f",
   "metadata": {},
   "outputs": [],
   "source": [
    "df = df.drop([\"소재지우편번호\",\"도로명우편번호\"],axis=1)"
   ]
  },
  {
   "cell_type": "code",
   "execution_count": 18,
   "id": "7d7ee955",
   "metadata": {
    "scrolled": true
   },
   "outputs": [],
   "source": [
    "tmp = []\n",
    "for i in (df.소재지전체주소.astype(str) + df.도로명전체주소.astype(str)):\n",
    "      tmp.append(str(i.split(' ')[0]+\" \"+i.split(' ')[1]))\n"
   ]
  },
  {
   "cell_type": "code",
   "execution_count": 19,
   "id": "bbf80ba2",
   "metadata": {},
   "outputs": [],
   "source": [
    "for i in range(len(tmp)):\n",
    "    if 'nan' in tmp[i]:\n",
    "         tmp[i]=tmp[i].replace(\"nan\",\"\")"
   ]
  },
  {
   "cell_type": "code",
   "execution_count": 20,
   "id": "39775099",
   "metadata": {
    "scrolled": false
   },
   "outputs": [],
   "source": [
    "df['주소']=tmp"
   ]
  },
  {
   "cell_type": "code",
   "execution_count": 21,
   "id": "4c1e01a8",
   "metadata": {},
   "outputs": [],
   "source": [
    "df = df.drop(['소재지전체주소','도로명전체주소'],axis=1)"
   ]
  },
  {
   "cell_type": "code",
   "execution_count": 22,
   "id": "ee50edeb",
   "metadata": {
    "scrolled": true
   },
   "outputs": [],
   "source": [
    "df=df.astype(str)"
   ]
  },
  {
   "cell_type": "code",
   "execution_count": 23,
   "id": "7f8e17ab",
   "metadata": {},
   "outputs": [],
   "source": [
    "df.loc[df['영업장주변구분명']=='nan','영업장주변구분명'] = '미분류'"
   ]
  },
  {
   "cell_type": "code",
   "execution_count": 24,
   "id": "ef79f83d",
   "metadata": {
    "scrolled": false
   },
   "outputs": [],
   "source": [
    "df2 = pd.DataFrame(df['영업장주변구분명'].groupby([df['주소'],df['영업장주변구분명']]).size())"
   ]
  },
  {
   "cell_type": "code",
   "execution_count": 25,
   "id": "59f01f65",
   "metadata": {},
   "outputs": [],
   "source": [
    "df2['주소']= [df2.index[i][0] for i in range(1030)]\n",
    "df2['영업장주변구분']= [df2.index[i][1] for i in range(1030)]"
   ]
  },
  {
   "cell_type": "code",
   "execution_count": 26,
   "id": "70496608",
   "metadata": {},
   "outputs": [],
   "source": [
    "df2.reset_index(drop=True,inplace=True)"
   ]
  },
  {
   "cell_type": "code",
   "execution_count": 27,
   "id": "1265142a",
   "metadata": {},
   "outputs": [],
   "source": [
    "df2=df2[['주소','영업장주변구분','영업장주변구분명']]"
   ]
  },
  {
   "cell_type": "code",
   "execution_count": 28,
   "id": "3f9ee0be",
   "metadata": {},
   "outputs": [
    {
     "data": {
      "text/html": [
       "<div>\n",
       "<style scoped>\n",
       "    .dataframe tbody tr th:only-of-type {\n",
       "        vertical-align: middle;\n",
       "    }\n",
       "\n",
       "    .dataframe tbody tr th {\n",
       "        vertical-align: top;\n",
       "    }\n",
       "\n",
       "    .dataframe thead th {\n",
       "        text-align: right;\n",
       "    }\n",
       "</style>\n",
       "<table border=\"1\" class=\"dataframe\">\n",
       "  <thead>\n",
       "    <tr style=\"text-align: right;\">\n",
       "      <th></th>\n",
       "      <th>주소</th>\n",
       "      <th>영업장주변구분</th>\n",
       "      <th>개수</th>\n",
       "    </tr>\n",
       "  </thead>\n",
       "  <tbody>\n",
       "    <tr>\n",
       "      <th>0</th>\n",
       "      <td>강원도 강릉시</td>\n",
       "      <td>기타</td>\n",
       "      <td>48</td>\n",
       "    </tr>\n",
       "    <tr>\n",
       "      <th>1</th>\n",
       "      <td>강원도 강릉시</td>\n",
       "      <td>미분류</td>\n",
       "      <td>84</td>\n",
       "    </tr>\n",
       "    <tr>\n",
       "      <th>2</th>\n",
       "      <td>강원도 강릉시</td>\n",
       "      <td>유흥업소밀집지역</td>\n",
       "      <td>74</td>\n",
       "    </tr>\n",
       "    <tr>\n",
       "      <th>3</th>\n",
       "      <td>강원도 강릉시</td>\n",
       "      <td>학교정화(상대)</td>\n",
       "      <td>7</td>\n",
       "    </tr>\n",
       "    <tr>\n",
       "      <th>4</th>\n",
       "      <td>강원도 고성군</td>\n",
       "      <td>기타</td>\n",
       "      <td>4</td>\n",
       "    </tr>\n",
       "    <tr>\n",
       "      <th>...</th>\n",
       "      <td>...</td>\n",
       "      <td>...</td>\n",
       "      <td>...</td>\n",
       "    </tr>\n",
       "    <tr>\n",
       "      <th>1025</th>\n",
       "      <td>충청북도 충주시</td>\n",
       "      <td>기타</td>\n",
       "      <td>37</td>\n",
       "    </tr>\n",
       "    <tr>\n",
       "      <th>1026</th>\n",
       "      <td>충청북도 충주시</td>\n",
       "      <td>미분류</td>\n",
       "      <td>106</td>\n",
       "    </tr>\n",
       "    <tr>\n",
       "      <th>1027</th>\n",
       "      <td>충청북도 충주시</td>\n",
       "      <td>유흥업소밀집지역</td>\n",
       "      <td>33</td>\n",
       "    </tr>\n",
       "    <tr>\n",
       "      <th>1028</th>\n",
       "      <td>충청북도 충주시</td>\n",
       "      <td>학교정화(상대)</td>\n",
       "      <td>6</td>\n",
       "    </tr>\n",
       "    <tr>\n",
       "      <th>1029</th>\n",
       "      <td>충청북도 충주시</td>\n",
       "      <td>학교정화(절대)</td>\n",
       "      <td>1</td>\n",
       "    </tr>\n",
       "  </tbody>\n",
       "</table>\n",
       "<p>1030 rows × 3 columns</p>\n",
       "</div>"
      ],
      "text/plain": [
       "            주소   영업장주변구분   개수\n",
       "0      강원도 강릉시        기타   48\n",
       "1      강원도 강릉시       미분류   84\n",
       "2      강원도 강릉시  유흥업소밀집지역   74\n",
       "3      강원도 강릉시  학교정화(상대)    7\n",
       "4      강원도 고성군        기타    4\n",
       "...        ...       ...  ...\n",
       "1025  충청북도 충주시        기타   37\n",
       "1026  충청북도 충주시       미분류  106\n",
       "1027  충청북도 충주시  유흥업소밀집지역   33\n",
       "1028  충청북도 충주시  학교정화(상대)    6\n",
       "1029  충청북도 충주시  학교정화(절대)    1\n",
       "\n",
       "[1030 rows x 3 columns]"
      ]
     },
     "execution_count": 28,
     "metadata": {},
     "output_type": "execute_result"
    }
   ],
   "source": [
    "df2.rename({\"영업장주변구분명\":\"개수\"},axis=1)"
   ]
  },
  {
   "cell_type": "code",
   "execution_count": 33,
   "id": "5980c0da",
   "metadata": {},
   "outputs": [
    {
     "name": "stdout",
     "output_type": "stream",
     "text": [
      "세종특별자치시 금남면 626800.0\n",
      "세종특별자치시 금남면 626800.0\n",
      "세종특별자치시 금남면 626800.0\n",
      "세종특별자치시 부강면 626800.0\n",
      "세종특별자치시 부강면 626800.0\n",
      "세종특별자치시 부강면 626800.0\n",
      "세종특별자치시 조치원읍 626800.0\n",
      "세종특별자치시 조치원읍 626800.0\n",
      "세종특별자치시 조치원읍 626800.0\n"
     ]
    }
   ],
   "source": [
    "for i in df2.주소:\n",
    "    try:\n",
    "        if \"세종\" in i:\n",
    "            print(i,j)\n",
    "    except:\n",
    "        print(i)"
   ]
  },
  {
   "cell_type": "code",
   "execution_count": 34,
   "id": "8fc36a37",
   "metadata": {},
   "outputs": [
    {
     "data": {
      "text/plain": [
       "683     세종특별자치시 금남면\n",
       "684     세종특별자치시 금남면\n",
       "685     세종특별자치시 금남면\n",
       "686     세종특별자치시 부강면\n",
       "687     세종특별자치시 부강면\n",
       "688     세종특별자치시 부강면\n",
       "689    세종특별자치시 조치원읍\n",
       "690    세종특별자치시 조치원읍\n",
       "691    세종특별자치시 조치원읍\n",
       "Name: 주소, dtype: object"
      ]
     },
     "execution_count": 34,
     "metadata": {},
     "output_type": "execute_result"
    }
   ],
   "source": [
    "df2.loc[df2.주소.str.contains('세종'),\"주소\"] = '세종특별자치시'"
   ]
  },
  {
   "cell_type": "code",
   "execution_count": 29,
   "id": "9798a5fa",
   "metadata": {},
   "outputs": [],
   "source": [
    "df2.to_csv(\"../Data/주변환경_Data/수정본_유흥업소지역별현황.csv\")"
   ]
  },
  {
   "cell_type": "code",
   "execution_count": null,
   "id": "1bc5eacb",
   "metadata": {},
   "outputs": [],
   "source": []
  }
 ],
 "metadata": {
  "kernelspec": {
   "display_name": "Python 3",
   "language": "python",
   "name": "python3"
  },
  "language_info": {
   "codemirror_mode": {
    "name": "ipython",
    "version": 3
   },
   "file_extension": ".py",
   "mimetype": "text/x-python",
   "name": "python",
   "nbconvert_exporter": "python",
   "pygments_lexer": "ipython3",
   "version": "3.8.8"
  }
 },
 "nbformat": 4,
 "nbformat_minor": 5
}
