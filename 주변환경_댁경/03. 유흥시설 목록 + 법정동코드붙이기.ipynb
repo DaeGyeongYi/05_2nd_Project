{
 "cells": [
  {
   "cell_type": "code",
   "execution_count": 17,
   "id": "0d3c819f",
   "metadata": {},
   "outputs": [],
   "source": [
    "import pandas as pd"
   ]
  },
  {
   "cell_type": "code",
   "execution_count": 18,
   "id": "0fbb7a9d",
   "metadata": {},
   "outputs": [],
   "source": [
    "bars = pd.read_csv(\"../Data/주변환경_Data/수정본_유흥업소지역별현황.csv\")"
   ]
  },
  {
   "cell_type": "code",
   "execution_count": 19,
   "id": "688f0bab",
   "metadata": {},
   "outputs": [],
   "source": [
    "region_code = pd.read_csv(\"../Data/법정동_Data/법정동코드 전체자료.csv\",encoding='cp949',sep='\\t')"
   ]
  },
  {
   "cell_type": "code",
   "execution_count": null,
   "id": "76450f87",
   "metadata": {},
   "outputs": [],
   "source": []
  },
  {
   "cell_type": "code",
   "execution_count": null,
   "id": "12f52cde",
   "metadata": {},
   "outputs": [],
   "source": []
  }
 ],
 "metadata": {
  "kernelspec": {
   "display_name": "Python 3",
   "language": "python",
   "name": "python3"
  },
  "language_info": {
   "codemirror_mode": {
    "name": "ipython",
    "version": 3
   },
   "file_extension": ".py",
   "mimetype": "text/x-python",
   "name": "python",
   "nbconvert_exporter": "python",
   "pygments_lexer": "ipython3",
   "version": "3.8.8"
  }
 },
 "nbformat": 4,
 "nbformat_minor": 5
}
