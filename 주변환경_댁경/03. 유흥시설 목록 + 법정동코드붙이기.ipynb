{
 "cells": [
  {
   "cell_type": "code",
   "execution_count": 17,
   "id": "0d3c819f",
   "metadata": {},
   "outputs": [],
   "source": [
    "import pandas as pd"
   ]
  },
  {
   "cell_type": "code",
   "execution_count": null,
   "id": "6e7fac6f",
   "metadata": {},
   "outputs": [],
   "source": []
  },
  {
   "cell_type": "code",
   "execution_count": 18,
   "id": "0fbb7a9d",
   "metadata": {},
   "outputs": [],
   "source": [
    "bars = pd.read_csv(\"../Data/주변환경_Data/수정본_유흥업소지역별현황.csv\")"
   ]
  },
  {
   "cell_type": "code",
   "execution_count": 37,
   "id": "688f0bab",
   "metadata": {},
   "outputs": [],
   "source": [
    "region_code = pd.read_csv(\"../Data/법정동_Data/법정동코드_최종본.csv\")"
   ]
  },
  {
   "cell_type": "code",
   "execution_count": 38,
   "id": "76450f87",
   "metadata": {},
   "outputs": [
    {
     "data": {
      "text/html": [
       "<div>\n",
       "<style scoped>\n",
       "    .dataframe tbody tr th:only-of-type {\n",
       "        vertical-align: middle;\n",
       "    }\n",
       "\n",
       "    .dataframe tbody tr th {\n",
       "        vertical-align: top;\n",
       "    }\n",
       "\n",
       "    .dataframe thead th {\n",
       "        text-align: right;\n",
       "    }\n",
       "</style>\n",
       "<table border=\"1\" class=\"dataframe\">\n",
       "  <thead>\n",
       "    <tr style=\"text-align: right;\">\n",
       "      <th></th>\n",
       "      <th>Unnamed: 0</th>\n",
       "      <th>법정동코드</th>\n",
       "      <th>법정동명</th>\n",
       "      <th>폐지여부</th>\n",
       "    </tr>\n",
       "  </thead>\n",
       "  <tbody>\n",
       "    <tr>\n",
       "      <th>0</th>\n",
       "      <td>1</td>\n",
       "      <td>1111000000</td>\n",
       "      <td>서울특별시 종로구</td>\n",
       "      <td>존재</td>\n",
       "    </tr>\n",
       "    <tr>\n",
       "      <th>1</th>\n",
       "      <td>2</td>\n",
       "      <td>1114000000</td>\n",
       "      <td>서울특별시 중구</td>\n",
       "      <td>존재</td>\n",
       "    </tr>\n",
       "    <tr>\n",
       "      <th>2</th>\n",
       "      <td>3</td>\n",
       "      <td>1117000000</td>\n",
       "      <td>서울특별시 용산구</td>\n",
       "      <td>존재</td>\n",
       "    </tr>\n",
       "    <tr>\n",
       "      <th>3</th>\n",
       "      <td>4</td>\n",
       "      <td>1120000000</td>\n",
       "      <td>서울특별시 성동구</td>\n",
       "      <td>존재</td>\n",
       "    </tr>\n",
       "    <tr>\n",
       "      <th>4</th>\n",
       "      <td>5</td>\n",
       "      <td>1121500000</td>\n",
       "      <td>서울특별시 광진구</td>\n",
       "      <td>존재</td>\n",
       "    </tr>\n",
       "    <tr>\n",
       "      <th>...</th>\n",
       "      <td>...</td>\n",
       "      <td>...</td>\n",
       "      <td>...</td>\n",
       "      <td>...</td>\n",
       "    </tr>\n",
       "    <tr>\n",
       "      <th>248</th>\n",
       "      <td>263</td>\n",
       "      <td>4887000000</td>\n",
       "      <td>경상남도 함양군</td>\n",
       "      <td>존재</td>\n",
       "    </tr>\n",
       "    <tr>\n",
       "      <th>249</th>\n",
       "      <td>264</td>\n",
       "      <td>4888000000</td>\n",
       "      <td>경상남도 거창군</td>\n",
       "      <td>존재</td>\n",
       "    </tr>\n",
       "    <tr>\n",
       "      <th>250</th>\n",
       "      <td>265</td>\n",
       "      <td>4889000000</td>\n",
       "      <td>경상남도 합천군</td>\n",
       "      <td>존재</td>\n",
       "    </tr>\n",
       "    <tr>\n",
       "      <th>251</th>\n",
       "      <td>267</td>\n",
       "      <td>5011000000</td>\n",
       "      <td>제주특별자치도 제주시</td>\n",
       "      <td>존재</td>\n",
       "    </tr>\n",
       "    <tr>\n",
       "      <th>252</th>\n",
       "      <td>268</td>\n",
       "      <td>5013000000</td>\n",
       "      <td>제주특별자치도 서귀포시</td>\n",
       "      <td>존재</td>\n",
       "    </tr>\n",
       "  </tbody>\n",
       "</table>\n",
       "<p>253 rows × 4 columns</p>\n",
       "</div>"
      ],
      "text/plain": [
       "     Unnamed: 0       법정동코드          법정동명 폐지여부\n",
       "0             1  1111000000     서울특별시 종로구   존재\n",
       "1             2  1114000000      서울특별시 중구   존재\n",
       "2             3  1117000000     서울특별시 용산구   존재\n",
       "3             4  1120000000     서울특별시 성동구   존재\n",
       "4             5  1121500000     서울특별시 광진구   존재\n",
       "..          ...         ...           ...  ...\n",
       "248         263  4887000000      경상남도 함양군   존재\n",
       "249         264  4888000000      경상남도 거창군   존재\n",
       "250         265  4889000000      경상남도 합천군   존재\n",
       "251         267  5011000000   제주특별자치도 제주시   존재\n",
       "252         268  5013000000  제주특별자치도 서귀포시   존재\n",
       "\n",
       "[253 rows x 4 columns]"
      ]
     },
     "execution_count": 38,
     "metadata": {},
     "output_type": "execute_result"
    }
   ],
   "source": [
    "region_code"
   ]
  },
  {
   "cell_type": "code",
   "execution_count": 41,
   "id": "12f52cde",
   "metadata": {},
   "outputs": [
    {
     "data": {
      "text/plain": [
       "Index(['경상남도 창원시', '경상북도 포항시', '경기도 고양시', '강원도 삼척시', '경상남도 진주시', '경상북도 의성군',\n",
       "       '인천광역시 미추홀구', '경상남도 거제시', '전라북도 장수군', '서울특별시 동작구',\n",
       "       ...\n",
       "       '경상북도 울릉군', '충청북도 보은군', '서울특별시 양천구', '경상북도 고령군', '전라남도 화순군', '전라남도 함평군',\n",
       "       '경상북도 청송군', '인천광역시 동구', '전라남도 담양군', '전라북도 임실군'],\n",
       "      dtype='object', length=230)"
      ]
     },
     "execution_count": 41,
     "metadata": {},
     "output_type": "execute_result"
    }
   ],
   "source": [
    "bars.주소.value_counts().index"
   ]
  },
  {
   "cell_type": "code",
   "execution_count": 44,
   "id": "615c9e88",
   "metadata": {},
   "outputs": [
    {
     "name": "stdout",
     "output_type": "stream",
     "text": [
      "세종특별자치시\n",
      "세종특별자치시 반곡동\n",
      "세종특별자치시 소담동\n",
      "세종특별자치시 보람동\n",
      "세종특별자치시 대평동\n",
      "세종특별자치시 가람동\n",
      "세종특별자치시 한솔동\n",
      "세종특별자치시 나성동\n",
      "세종특별자치시 새롬동\n",
      "세종특별자치시 다정동\n",
      "세종특별자치시 어진동\n",
      "세종특별자치시 종촌동\n",
      "세종특별자치시 고운동\n",
      "세종특별자치시 아름동\n",
      "세종특별자치시 도담동\n",
      "세종특별자치시 연기면\n",
      "세종특별자치시 연동면\n",
      "세종특별자치시 장군면\n",
      "세종특별자치시 연서면\n",
      "세종특별자치시 전의면\n",
      "세종특별자치시 전동면\n",
      "세종특별자치시 소정면\n",
      "경기도 과천시\n"
     ]
    }
   ],
   "source": [
    "for i in region_code.법정동명:\n",
    "    if i not in bars.주소.value_counts().index:\n",
    "        print(i)\n",
    "        "
   ]
  },
  {
   "cell_type": "code",
   "execution_count": null,
   "id": "d202f91c",
   "metadata": {},
   "outputs": [],
   "source": []
  }
 ],
 "metadata": {
  "kernelspec": {
   "display_name": "Python 3",
   "language": "python",
   "name": "python3"
  },
  "language_info": {
   "codemirror_mode": {
    "name": "ipython",
    "version": 3
   },
   "file_extension": ".py",
   "mimetype": "text/x-python",
   "name": "python",
   "nbconvert_exporter": "python",
   "pygments_lexer": "ipython3",
   "version": "3.8.8"
  }
 },
 "nbformat": 4,
 "nbformat_minor": 5
}
