{
 "cells": [
  {
   "cell_type": "code",
   "execution_count": 2,
   "id": "0d3c819f",
   "metadata": {},
   "outputs": [],
   "source": [
    "import pandas as pd"
   ]
  },
  {
   "cell_type": "code",
   "execution_count": 3,
   "id": "0fbb7a9d",
   "metadata": {},
   "outputs": [],
   "source": [
    "bars = pd.read_csv(\"../Data/주변환경_Data/수정본_유흥업소지역별현황.csv\")"
   ]
  },
  {
   "cell_type": "code",
   "execution_count": 4,
   "id": "3b28efbc",
   "metadata": {},
   "outputs": [],
   "source": [
    "bars.drop('Unnamed: 0',axis=1,inplace=True)"
   ]
  },
  {
   "cell_type": "code",
   "execution_count": 5,
   "id": "76a48e73",
   "metadata": {},
   "outputs": [],
   "source": [
    "bars = bars.sort_values('주소')"
   ]
  },
  {
   "cell_type": "code",
   "execution_count": 6,
   "id": "49dbb136",
   "metadata": {},
   "outputs": [],
   "source": [
    "bars.reset_index(drop=True, inplace=True)"
   ]
  },
  {
   "cell_type": "code",
   "execution_count": 7,
   "id": "688f0bab",
   "metadata": {},
   "outputs": [],
   "source": [
    "region_code = pd.read_csv(\"../Data/법정동_Data/법정동코드+시군구코드.csv\")"
   ]
  },
  {
   "cell_type": "code",
   "execution_count": 8,
   "id": "fce9d295",
   "metadata": {},
   "outputs": [],
   "source": [
    "region_code.drop(['Unnamed: 0'],axis=1,inplace=True)"
   ]
  },
  {
   "cell_type": "code",
   "execution_count": 9,
   "id": "9e505a37",
   "metadata": {},
   "outputs": [],
   "source": [
    "region_code = region_code.rename({\"법정동명\":\"주소\"},axis=1)"
   ]
  },
  {
   "cell_type": "code",
   "execution_count": 10,
   "id": "f5e657a6",
   "metadata": {
    "scrolled": true
   },
   "outputs": [],
   "source": [
    "df_final = pd.merge(bars,region_code,on='주소',how='left')"
   ]
  },
  {
   "cell_type": "code",
   "execution_count": 11,
   "id": "08b50a05",
   "metadata": {},
   "outputs": [],
   "source": [
    "df_final.시도코드 = df_final.시도코드.astype(int)\n",
    "df_final.시군구코드 = df_final.시군구코드.astype(int)"
   ]
  },
  {
   "cell_type": "code",
   "execution_count": 12,
   "id": "4c64fd75",
   "metadata": {
    "scrolled": false
   },
   "outputs": [
    {
     "data": {
      "text/html": [
       "<div>\n",
       "<style scoped>\n",
       "    .dataframe tbody tr th:only-of-type {\n",
       "        vertical-align: middle;\n",
       "    }\n",
       "\n",
       "    .dataframe tbody tr th {\n",
       "        vertical-align: top;\n",
       "    }\n",
       "\n",
       "    .dataframe thead th {\n",
       "        text-align: right;\n",
       "    }\n",
       "</style>\n",
       "<table border=\"1\" class=\"dataframe\">\n",
       "  <thead>\n",
       "    <tr style=\"text-align: right;\">\n",
       "      <th></th>\n",
       "      <th>사업장명</th>\n",
       "      <th>업태구분명</th>\n",
       "      <th>영업장주변구분명</th>\n",
       "      <th>주소</th>\n",
       "      <th>시도코드</th>\n",
       "      <th>시군구코드</th>\n",
       "      <th>법정동코드</th>\n",
       "    </tr>\n",
       "  </thead>\n",
       "  <tbody>\n",
       "    <tr>\n",
       "      <th>0</th>\n",
       "      <td>아리랑나이트</td>\n",
       "      <td>고고(디스코)클럽</td>\n",
       "      <td>미분류</td>\n",
       "      <td>강원도 강릉시</td>\n",
       "      <td>32</td>\n",
       "      <td>32030</td>\n",
       "      <td>4215000000</td>\n",
       "    </tr>\n",
       "    <tr>\n",
       "      <th>1</th>\n",
       "      <td>소야노래공원</td>\n",
       "      <td>룸살롱</td>\n",
       "      <td>미분류</td>\n",
       "      <td>강원도 강릉시</td>\n",
       "      <td>32</td>\n",
       "      <td>32030</td>\n",
       "      <td>4215000000</td>\n",
       "    </tr>\n",
       "    <tr>\n",
       "      <th>2</th>\n",
       "      <td>하나노래궁</td>\n",
       "      <td>기타</td>\n",
       "      <td>유흥업소밀집지역</td>\n",
       "      <td>강원도 강릉시</td>\n",
       "      <td>32</td>\n",
       "      <td>32030</td>\n",
       "      <td>4215000000</td>\n",
       "    </tr>\n",
       "    <tr>\n",
       "      <th>3</th>\n",
       "      <td>팡팡</td>\n",
       "      <td>룸살롱</td>\n",
       "      <td>미분류</td>\n",
       "      <td>강원도 강릉시</td>\n",
       "      <td>32</td>\n",
       "      <td>32030</td>\n",
       "      <td>4215000000</td>\n",
       "    </tr>\n",
       "    <tr>\n",
       "      <th>4</th>\n",
       "      <td>아우라</td>\n",
       "      <td>룸살롱</td>\n",
       "      <td>미분류</td>\n",
       "      <td>강원도 강릉시</td>\n",
       "      <td>32</td>\n",
       "      <td>32030</td>\n",
       "      <td>4215000000</td>\n",
       "    </tr>\n",
       "    <tr>\n",
       "      <th>...</th>\n",
       "      <td>...</td>\n",
       "      <td>...</td>\n",
       "      <td>...</td>\n",
       "      <td>...</td>\n",
       "      <td>...</td>\n",
       "      <td>...</td>\n",
       "      <td>...</td>\n",
       "    </tr>\n",
       "    <tr>\n",
       "      <th>26892</th>\n",
       "      <td>토마토</td>\n",
       "      <td>룸살롱</td>\n",
       "      <td>유흥업소밀집지역</td>\n",
       "      <td>충청북도 충주시</td>\n",
       "      <td>33</td>\n",
       "      <td>33020</td>\n",
       "      <td>4313000000</td>\n",
       "    </tr>\n",
       "    <tr>\n",
       "      <th>26893</th>\n",
       "      <td>로즈</td>\n",
       "      <td>룸살롱</td>\n",
       "      <td>미분류</td>\n",
       "      <td>충청북도 충주시</td>\n",
       "      <td>33</td>\n",
       "      <td>33020</td>\n",
       "      <td>4313000000</td>\n",
       "    </tr>\n",
       "    <tr>\n",
       "      <th>26894</th>\n",
       "      <td>연예인노래주점</td>\n",
       "      <td>룸살롱</td>\n",
       "      <td>미분류</td>\n",
       "      <td>충청북도 충주시</td>\n",
       "      <td>33</td>\n",
       "      <td>33020</td>\n",
       "      <td>4313000000</td>\n",
       "    </tr>\n",
       "    <tr>\n",
       "      <th>26895</th>\n",
       "      <td>썸</td>\n",
       "      <td>룸살롱</td>\n",
       "      <td>미분류</td>\n",
       "      <td>충청북도 충주시</td>\n",
       "      <td>33</td>\n",
       "      <td>33020</td>\n",
       "      <td>4313000000</td>\n",
       "    </tr>\n",
       "    <tr>\n",
       "      <th>26896</th>\n",
       "      <td>남한강</td>\n",
       "      <td>카바레</td>\n",
       "      <td>미분류</td>\n",
       "      <td>충청북도 충주시</td>\n",
       "      <td>33</td>\n",
       "      <td>33020</td>\n",
       "      <td>4313000000</td>\n",
       "    </tr>\n",
       "  </tbody>\n",
       "</table>\n",
       "<p>26897 rows × 7 columns</p>\n",
       "</div>"
      ],
      "text/plain": [
       "          사업장명      업태구분명  영업장주변구분명        주소  시도코드  시군구코드       법정동코드\n",
       "0       아리랑나이트  고고(디스코)클럽       미분류   강원도 강릉시    32  32030  4215000000\n",
       "1       소야노래공원        룸살롱       미분류   강원도 강릉시    32  32030  4215000000\n",
       "2        하나노래궁         기타  유흥업소밀집지역   강원도 강릉시    32  32030  4215000000\n",
       "3           팡팡        룸살롱       미분류   강원도 강릉시    32  32030  4215000000\n",
       "4          아우라        룸살롱       미분류   강원도 강릉시    32  32030  4215000000\n",
       "...        ...        ...       ...       ...   ...    ...         ...\n",
       "26892      토마토        룸살롱  유흥업소밀집지역  충청북도 충주시    33  33020  4313000000\n",
       "26893       로즈        룸살롱       미분류  충청북도 충주시    33  33020  4313000000\n",
       "26894  연예인노래주점        룸살롱       미분류  충청북도 충주시    33  33020  4313000000\n",
       "26895        썸        룸살롱       미분류  충청북도 충주시    33  33020  4313000000\n",
       "26896      남한강        카바레       미분류  충청북도 충주시    33  33020  4313000000\n",
       "\n",
       "[26897 rows x 7 columns]"
      ]
     },
     "execution_count": 12,
     "metadata": {},
     "output_type": "execute_result"
    }
   ],
   "source": [
    "df_final"
   ]
  },
  {
   "cell_type": "code",
   "execution_count": 13,
   "id": "261bc287",
   "metadata": {},
   "outputs": [],
   "source": [
    "df_final.to_csv('../Data/주변환경_Data/최종본_유흥시설목록.csv')"
   ]
  },
  {
   "cell_type": "code",
   "execution_count": null,
   "id": "8d81e0a3",
   "metadata": {},
   "outputs": [],
   "source": []
  }
 ],
 "metadata": {
  "kernelspec": {
   "display_name": "Python 3",
   "language": "python",
   "name": "python3"
  },
  "language_info": {
   "codemirror_mode": {
    "name": "ipython",
    "version": 3
   },
   "file_extension": ".py",
   "mimetype": "text/x-python",
   "name": "python",
   "nbconvert_exporter": "python",
   "pygments_lexer": "ipython3",
   "version": "3.8.8"
  }
 },
 "nbformat": 4,
 "nbformat_minor": 5
}
