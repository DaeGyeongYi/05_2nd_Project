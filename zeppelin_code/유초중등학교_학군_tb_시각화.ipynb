﻿{
  "metadata": {
    "name": "01",
    "kernelspec": {
      "language": "scala",
      "name": "spark2-scala"
    },
    "language_info": {
      "codemirror_mode": "text/x-scala",
      "file_extension": ".scala",
      "mimetype": "text/x-scala",
      "name": "scala",
      "pygments_lexer": "scala"
    }
  },
  "nbformat": 4,
  "nbformat_minor": 2,
  "cells": [
    {
      "cell_type": "code",
      "execution_count": 0,
      "metadata": {
        "autoscroll": "auto"
      },
      "outputs": [],
      "source": "%pyspark\nfrom pyspark.sql import SparkSession\nfrom pyspark.sql import functions as f\nfrom pyspark.sql.types import StructType, StructField, StringType,IntegerType\ncode\u003dspark.read.format(\"csv\").option(\"header\",\"true\").load(\"/Data/법정동_Data/법정동코드_최종본.csv\")\ncode\u003d code.drop(\u0027폐지여부\u0027,\u0027법정동_short\u0027,\u0027폐지여부\u0027)\ncode \u003d code.withColumn(\u0027법정동코드\u0027, f.substring(\u0027법정동코드\u0027, 1,5))\ncode\u003dcode.withColumn(\u0027시도명\u0027,split(code[\u0027법정동명\u0027],\u0027 \u0027).getItem(0))\ncode\u003dcode.withColumn(\u0027법정동명\u0027,split(code[\u0027법정동명\u0027],\u0027 \u0027).getItem(1))\ncode\u003dcode.withColumn(\"법정동코드\",code.법정동코드.cast(\u0027int\u0027))\ncode.show()\n"
    },
    {
      "cell_type": "code",
      "execution_count": 1,
      "metadata": {
        "autoscroll": "auto"
      },
      "outputs": [],
      "source": "%pyspark\n\ncode\u003dcode.withColumn(\u0027시도명\u0027,split(code[\u0027법정동명\u0027],\u0027 \u0027).getItem(0))\ncode\u003dcode.withColumn(\u0027법정동명\u0027,split(code[\u0027법정동명\u0027],\u0027 \u0027).getItem(1))\ncode\u003dcode.withColumn(\"법정동코드\",code.법정동코드.cast(\u0027int\u0027))"
    },
    {
      "cell_type": "code",
      "execution_count": 2,
      "metadata": {
        "autoscroll": "auto"
      },
      "outputs": [],
      "source": "%pyspark\ncode.show()\n"
    },
    {
      "cell_type": "code",
      "execution_count": 3,
      "metadata": {
        "autoscroll": "auto"
      },
      "outputs": [],
      "source": "%pyspark\n# code.write.option(\"header\", \"true\").csv(\"hdfs:///지역.csv\")"
    },
    {
      "cell_type": "code",
      "execution_count": 4,
      "metadata": {
        "autoscroll": "auto"
      },
      "outputs": [],
      "source": "%pyspark\ncode.printSchema()"
    },
    {
      "cell_type": "code",
      "execution_count": 5,
      "metadata": {
        "autoscroll": "auto"
      },
      "outputs": [],
      "source": "%pyspark\ncode.createOrReplaceTempView(\"code_v\") \ncode.printSchema()\ncode.status()"
    },
    {
      "cell_type": "code",
      "execution_count": 6,
      "metadata": {
        "autoscroll": "auto"
      },
      "outputs": [],
      "source": "\n고등학교"
    },
    {
      "cell_type": "code",
      "execution_count": 7,
      "metadata": {
        "autoscroll": "auto"
      },
      "outputs": [],
      "source": "%pyspark\ns_h\u003dspark.read.format(\"csv\").option(\"header\",\"true\").load(\"/Data/학교_Data/고등학교_db.csv\")\ns_h\u003ds_h.withColumnRenamed(\u0027법정동\u0027,\u0027주소\u0027)\ns_h\u003ds_h.withColumn(\"서울대합격자수\",s_h.서울대합격자수.cast(\u0027int\u0027))\ns_h\u003ds_h.withColumn(\u0027시도명\u0027,split(s_h[\u0027주소\u0027],\u0027 \u0027).getItem(0))"
    },
    {
      "cell_type": "code",
      "execution_count": 8,
      "metadata": {
        "autoscroll": "auto"
      },
      "outputs": [],
      "source": "%pyspark\ns_h.show()"
    },
    {
      "cell_type": "code",
      "execution_count": 9,
      "metadata": {
        "autoscroll": "auto"
      },
      "outputs": [],
      "source": "%pyspark\n\n# s_h.write.option(\"header\", \"true\").csv(\"hdfs:///고등학교.csv\")"
    },
    {
      "cell_type": "code",
      "execution_count": 10,
      "metadata": {
        "autoscroll": "auto"
      },
      "outputs": [],
      "source": "%pyspark\ns_h.count()"
    },
    {
      "cell_type": "code",
      "execution_count": 11,
      "metadata": {
        "autoscroll": "auto"
      },
      "outputs": [],
      "source": "%pyspark\ns_m\u003dspark.read.format(\"csv\").option(\"header\",\"true\").load(\"/Data/학교_Data/중학교_db.csv\")\ns_m.show()\ns_m\u003ds_m.withColumnRenamed(\u0027법정동\u0027,\u0027주소\u0027)\ns_m.show()\ns_m\u003ds_m.withColumn(\"특목고진학자수\",s_m.특목고진학자수.cast(\u0027int\u0027))\ns_m.printSchema()\n"
    },
    {
      "cell_type": "code",
      "execution_count": 12,
      "metadata": {
        "autoscroll": "auto"
      },
      "outputs": [],
      "source": "%pyspark\ns_m.count()"
    },
    {
      "cell_type": "code",
      "execution_count": 13,
      "metadata": {
        "autoscroll": "auto"
      },
      "outputs": [],
      "source": "%pyspark\ns_m.show()\ns_m.write.option(\"header\", \"true\").csv(\"hdfs:///중학교.csv\")"
    },
    {
      "cell_type": "code",
      "execution_count": 14,
      "metadata": {
        "autoscroll": "auto"
      },
      "outputs": [],
      "source": "%pyspark\ns_e\u003dspark.read.format(\"csv\").option(\"header\",\"true\").load(\"/Data/학교_Data/유초등학교_db.csv\")\ns_e.show()\ns_e\u003ds_e.withColumnRenamed(\u0027법정동\u0027,\u0027주소\u0027)\ns_e\u003ds_e.withColumn(\u0027시도명\u0027,split(s_e[\u0027주소\u0027],\u0027 \u0027).getItem(0))"
    },
    {
      "cell_type": "raw",
      "metadata": {
        "format": "text/plain"
      },
      "source": "%pyspark\n"
    },
    {
      "cell_type": "code",
      "execution_count": 16,
      "metadata": {
        "autoscroll": "auto"
      },
      "outputs": [],
      "source": "%pyspark\n\ns_e\u003ds_e.drop(\u0027주소\u0027)\ns_e.show()"
    },
    {
      "cell_type": "code",
      "execution_count": 17,
      "metadata": {
        "autoscroll": "auto"
      },
      "outputs": [],
      "source": "%pyspark\ns_e.printSchema()\ns_e.count()\n# s_e.write.option(\"header\", \"true\").csv(\"hdfs:///유초등학교.csv\")"
    },
    {
      "cell_type": "code",
      "execution_count": 18,
      "metadata": {
        "autoscroll": "auto"
      },
      "outputs": [],
      "source": "%pyspark\nmoney\u003dspark.read.format(\"csv\").option(\"header\",\"true\").load(\"/Data/교육청_Data/예산청_db.csv\")\nmoney\u003dmoney.withColumnRenamed(\u0027학교코드\u0027,\u0027교육청코드\u0027)\nmoney\u003dmoney.withColumn(\u0027예산\u0027 ,regexp_replace(\"예산\", \",\", \"\"))\nmoney\u003dmoney.withColumn(\"예산\",money.예산.cast(\u0027int\u0027))\n\nmoney.show()"
    },
    {
      "cell_type": "code",
      "execution_count": 19,
      "metadata": {
        "autoscroll": "auto"
      },
      "outputs": [],
      "source": "%pyspark\nfrom pyspark.sql.functions import col, regexp_replace\nmoney\u003dmoney.withColumn(\u0027예산\u0027 ,regexp_replace(\"예산\", \",\", \"\"))\n"
    },
    {
      "cell_type": "code",
      "execution_count": 20,
      "metadata": {
        "autoscroll": "auto"
      },
      "outputs": [],
      "source": "%pyspark\nmoney.printSchema()\nmoney.count()"
    },
    {
      "cell_type": "code",
      "execution_count": 21,
      "metadata": {
        "autoscroll": "auto"
      },
      "outputs": [],
      "source": "%pyspark\nz.show(money)"
    },
    {
      "cell_type": "code",
      "execution_count": 22,
      "metadata": {
        "autoscroll": "auto"
      },
      "outputs": [],
      "source": "%pyspark\nfrom pyspark.sql import SparkSession\nfrom pyspark.sql import functions as f\nfrom pyspark.sql.types import StructType, StructField, StringType,IntegerType\nmoney \u003d money.withColumn(\u0027교육청코드\u0027, f.substring(\u0027교육청코드\u0027, 1,3))\nmoney.show()"
    },
    {
      "cell_type": "code",
      "execution_count": 23,
      "metadata": {
        "autoscroll": "auto"
      },
      "outputs": [],
      "source": "%pyspark\nmoney.show()\nmoney.write.option(\"header\", \"true\").csv(\"hdfs:///교육청.csv\")"
    },
    {
      "cell_type": "code",
      "execution_count": 24,
      "metadata": {
        "autoscroll": "auto"
      },
      "outputs": [],
      "source": "%pyspark\nfrom pyspark.sql.types import IntegerType,BooleanType,DateType\ns_region\u003dspark.read.format(\"csv\").option(\"header\",\"true\").load(\"/Data/학교_Data/학군_db.csv\")\ns_region\u003ds_region.replace([\u00270.0\u0027,\u00271.0\u0027],[\u0027False\u0027,\u0027True\u0027],\u0027비평준화여부\u0027)\ns_region\u003ds_region.withColumn(\"비평준화여부\",s_region.비평준화여부.cast(BooleanType()))\ns_region\u003ds_region.withColumn(\"중학교학업중단자수\",s_region.중학교학업중단자수.cast(\u0027int\u0027))\ns_region\u003ds_region.withColumn(\"고등학교학업중단자수\",s_region.고등학교학업중단자수.cast(\u0027int\u0027))\ns_region\u003ds_region.withColumn(\"법정동코드\",s_region.법정동코드.cast(\u0027int\u0027))\ns_region.show()\n"
    },
    {
      "cell_type": "code",
      "execution_count": 25,
      "metadata": {
        "autoscroll": "auto"
      },
      "outputs": [],
      "source": "%pyspark\ns_region\u003ds_region.replace([\u00270.0\u0027,\u00271.0\u0027],[\u0027False\u0027,\u0027True\u0027],\u0027비평준화여부\u0027)\n"
    },
    {
      "cell_type": "code",
      "execution_count": 26,
      "metadata": {
        "autoscroll": "auto"
      },
      "outputs": [],
      "source": "%pyspark\n\n\ns_region.printSchema()\ns_region.count()"
    },
    {
      "cell_type": "code",
      "execution_count": 27,
      "metadata": {
        "autoscroll": "auto"
      },
      "outputs": [],
      "source": "%pyspark\ns_region.printSchema()\ns_region.write.option(\"header\", \"true\").csv(\"hdfs:///학군.csv\")"
    },
    {
      "cell_type": "code",
      "execution_count": 28,
      "metadata": {
        "autoscroll": "auto"
      },
      "outputs": [],
      "source": "%pyspark\ns_region.show()\ns_region.write.csv(\"hdfs:///학군.csv\")"
    },
    {
      "cell_type": "code",
      "execution_count": 29,
      "metadata": {
        "autoscroll": "auto"
      },
      "outputs": [],
      "source": "%pyspark\nz.show(s_region)"
    },
    {
      "cell_type": "code",
      "execution_count": 30,
      "metadata": {
        "autoscroll": "auto"
      },
      "outputs": [],
      "source": "%pyspark\n\ns_u\u003dspark.read.format(\"csv\").option(\"header\",\"true\").load(\"/Data/주변환경_Data/전국_지하철.csv\")\ns_u.show()\n\n"
    },
    {
      "cell_type": "code",
      "execution_count": 31,
      "metadata": {
        "autoscroll": "auto"
      },
      "outputs": [],
      "source": "% pyspark\nimport matplotlib.pyplot as plt\nimport seaborn as sns\n"
    },
    {
      "cell_type": "code",
      "execution_count": 32,
      "metadata": {
        "autoscroll": "auto"
      },
      "outputs": [],
      "source": "%sql"
    },
    {
      "cell_type": "code",
      "execution_count": 33,
      "metadata": {},
      "outputs": [],
      "source": "%%sql\n"
    }
  ]
}