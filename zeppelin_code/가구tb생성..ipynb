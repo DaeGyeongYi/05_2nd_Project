﻿{
  "metadata": {
    "name": "가구tb생성",
    "kernelspec": {
      "language": "scala",
      "name": "spark2-scala"
    },
    "language_info": {
      "codemirror_mode": "text/x-scala",
      "file_extension": ".scala",
      "mimetype": "text/x-scala",
      "name": "scala",
      "pygments_lexer": "scala"
    }
  },
  "nbformat": 4,
  "nbformat_minor": 2,
  "cells": [
    {
      "cell_type": "raw",
      "metadata": {
        "format": "text/plain"
      },
      "source": "%pyspark\n"
    },
    {
      "cell_type": "code",
      "execution_count": 1,
      "metadata": {
        "autoscroll": "auto"
      },
      "outputs": [],
      "source": "%pyspark\n\nfrom pyspark.sql.functions import col\n\nrd1 \u003d spark.read.format(\"csv\").option(\"header\", \"true\").load(\"../../Data/법정동_Data/법정동코드_최종본.csv\")\n\ndf1 \u003d rd1.select(col(\"법정동코드\").substr(0,5).alias(\"법정동코드\"), col(\"법정동_short\").alias(\"법정동명\"))\n\ndf1.show()\n\n"
    },
    {
      "cell_type": "code",
      "execution_count": 2,
      "metadata": {
        "autoscroll": "auto"
      },
      "outputs": [],
      "source": "%pyspark\ndf1.filter(col(\"법정동명\").contains(\"세종\")).show()\ndf1.filter(col(\"법정동명\").contains(\"성남\")).show()"
    },
    {
      "cell_type": "code",
      "execution_count": 3,
      "metadata": {
        "autoscroll": "auto"
      },
      "outputs": [],
      "source": "%pyspark\n\nrd2 \u003d spark.read.format(\"csv\").option(\"header\", \"true\").load(\"../../Data/가구_Data/연말정산 근로 소득 신고 인원 및 금액(16-19).csv\")\n\nrd2.printSchema()\n\nrd2.show(10)"
    },
    {
      "cell_type": "code",
      "execution_count": 4,
      "metadata": {
        "autoscroll": "auto"
      },
      "outputs": [],
      "source": "%pyspark\n\nrd2_ \u003d rd2.select(col(\"행정구역\"), col(\"2017 급여총계 인원 (명)\").alias(\"급여인원\"), (col(\"2017 급여총계 금액 (백만원)\")*1000000).alias(\"급여금액\"))\n\nrd2_.show(10)"
    },
    {
      "cell_type": "code",
      "execution_count": 5,
      "metadata": {
        "autoscroll": "auto"
      },
      "outputs": [],
      "source": "%pyspark\n\nfrom pyspark.sql.functions import concat, lit\n\ndf2_ \u003d rd2_.withColumn(\"행정구역\", concat(col(\"행정구역\").substr(0,2), lit(\" \"), col(\"행정구역\").substr(3,6)))\n\ndf2_ \u003d df2_.filter(col(\"행정구역\").contains(\"세종\") | ~col(\"행정구역\").contains(\"소계\"))\n\ndf2 \u003d df2_.select(col(\"행정구역\").alias(\"법정동명\"), col(\"급여인원\"), col(\"급여금액\"))\n\ndf2.show(5)\n\n\n"
    },
    {
      "cell_type": "code",
      "execution_count": 6,
      "metadata": {
        "autoscroll": "auto"
      },
      "outputs": [],
      "source": "%pyspark\n\nfrom pyspark.sql.functions import when\n\ndf2.filter(col(\"법정동명\").contains(\"세종\")).show()\n\ndf2 \u003d df2.withColumn(\"법정동명\", when(col(\"법정동명\") \u003d\u003d \"세종 소계\", \"세종특별자치시\").otherwise(col(\"법정동명\")))\n\ndf2.filter(col(\"법정동명\").contains(\"세종\")).show()\n\ndf2.filter(col(\"법정동명\").contains(\"성남\")).show()\n"
    },
    {
      "cell_type": "code",
      "execution_count": 7,
      "metadata": {
        "autoscroll": "auto"
      },
      "outputs": [],
      "source": "%pyspark\n\nrd3 \u003d spark.read.format(\"csv\").option(\"header\", \"true\").load(\"../../Data/가구_Data/시군구별 건강보험료(16-18).csv\")\n\nrd3.printSchema()\n\nrd3.show(10)"
    },
    {
      "cell_type": "code",
      "execution_count": 8,
      "metadata": {
        "autoscroll": "auto"
      },
      "outputs": [],
      "source": "%pyspark\n\ndf3 \u003d rd3.select(col(\"법정동명\"), col(\"2017\").alias(\"건강보험료\"))\n\ndf3.show()"
    },
    {
      "cell_type": "code",
      "execution_count": 9,
      "metadata": {
        "autoscroll": "auto"
      },
      "outputs": [],
      "source": "%pyspark\n\ndf3.filter(col(\"법정동명\").contains(\"세종\")).show()\n\ndf3 \u003d df3.withColumn(\"법정동명\", when(col(\"법정동명\") \u003d\u003d \"세종 소계\", \"세종특별자치시\").otherwise(col(\"법정동명\")))\n\ndf3.filter(col(\"법정동명\").contains(\"세종\")).show()\n\ndf3.filter(col(\"법정동명\").contains(\"성남\")).show()"
    },
    {
      "cell_type": "code",
      "execution_count": 10,
      "metadata": {
        "autoscroll": "auto"
      },
      "outputs": [],
      "source": "%pyspark\n\njdata \u003d df1.join(df2, \"법정동명\").join(df3, \"법정동명\")\n\njdata.show()\n\nf_data_table_ \u003d jdata.select(col(\"법정동코드\"), col(\"건강보험료\"), col(\"급여인원\"), col(\"급여금액\"))\n\nf_data_table_.show()"
    },
    {
      "cell_type": "code",
      "execution_count": 11,
      "metadata": {
        "autoscroll": "auto"
      },
      "outputs": [],
      "source": "%pyspark\nf_data_table_.filter(col(\"법정동명\").contains(\u0027세종\u0027)).show()\n\nf_data_table_.filter(col(\"법정동명\").contains(\u0027성남\u0027)).show()"
    },
    {
      "cell_type": "code",
      "execution_count": 12,
      "metadata": {
        "autoscroll": "auto"
      },
      "outputs": [],
      "source": "%pyspark\n\ntmp1 \u003d f_data_table_.rdd.zipWithIndex().toDF()\ntmp1.show(truncate\u003dFalse)\ntmp2 \u003d tmp1.select(col(\"_1.*\"),col(\"_2\").alias(\u0027가구ID\u0027))\ntmp2.show()\n\n"
    },
    {
      "cell_type": "code",
      "execution_count": 13,
      "metadata": {
        "autoscroll": "auto"
      },
      "outputs": [],
      "source": "%pyspark\n\nf_data_table \u003d tmp2.select(col(\"가구ID\").cast(\"int\"), col(\"법정동코드\").cast(\"int\"), col(\"건강보험료\").cast(\"double\"), col(\"급여인원\").cast(\"int\"), col(\"급여금액\"))\n\n"
    },
    {
      "cell_type": "code",
      "execution_count": 14,
      "metadata": {
        "autoscroll": "auto"
      },
      "outputs": [],
      "source": "%pyspark\n\nf_data_table.show()\n\nf_data_table.printSchema()"
    },
    {
      "cell_type": "code",
      "execution_count": 15,
      "metadata": {
        "autoscroll": "auto"
      },
      "outputs": [],
      "source": "%pyspark\n\nf_data_table.printSchema()\n\nf_data_table.count()\n"
    },
    {
      "cell_type": "code",
      "execution_count": 16,
      "metadata": {
        "autoscroll": "auto"
      },
      "outputs": [],
      "source": "%pyspark\r\n\r\nf_data_table.write.option(\"header\", \"true\").csv(\"hdfs:///가구.csv\")\r\n"
    },
    {
      "cell_type": "code",
      "execution_count": 17,
      "metadata": {
        "autoscroll": "auto"
      },
      "outputs": [],
      "source": "%pyspark\n\nttp1 \u003d spark.read.format(\"csv\").option(\"header\", \"true\").load(\"/가구.csv\")\n\nttp1.show()\n\n"
    },
    {
      "cell_type": "code",
      "execution_count": 18,
      "metadata": {
        "autoscroll": "auto"
      },
      "outputs": [],
      "source": "%pyspark\nttp1.count()"
    },
    {
      "cell_type": "code",
      "execution_count": 19,
      "metadata": {
        "autoscroll": "auto"
      },
      "outputs": [],
      "source": "%pyspark\n\nuser\u003d\"root\"\npassword\u003d\"1234\"\nurl\u003d\"jdbc:mysql://localhost:3306/Project\"\ndriver\u003d\"com.mysql.cj.jdbc.Driver\"\ndbtable\u003d\"가구\"\n\ntest_df \u003d spark.read.format(\"jdbc\").option(\"user\", user).option(\"password\", password).option(\"url\", url).option(\"driver\", driver).option(\"dbtable\", dbtable).load()\n\ntest_df.show()\n\ntest_df.printSchema()"
    },
    {
      "cell_type": "code",
      "execution_count": 20,
      "metadata": {
        "autoscroll": "auto"
      },
      "outputs": [],
      "source": "%pyspark\n\nuser\u003d\"root\"\npassword\u003d\"1234\"\nurl\u003d\"jdbc:mysql://localhost:3306/Project\"\ndriver\u003d\"com.mysql.cj.jdbc.Driver\"\ndbtable\u003d\"가구\"\n\nftable \u003d spark.read.csv(\"/가구.csv\", header\u003dTrue)\nftable.show()\n\nftable.write.jdbc(url, dbtable, \"append\", properties\u003d{\"driver\": driver, \"user\": user, \"password\": password})\n"
    },
    {
      "cell_type": "code",
      "execution_count": 21,
      "metadata": {
        "autoscroll": "auto"
      },
      "outputs": [],
      "source": "%pyspark\n\nuser\u003d\"root\"\npassword\u003d\"1234\"\nurl\u003d\"jdbc:mysql://localhost:3306/Project\"\ndriver\u003d\"com.mysql.cj.jdbc.Driver\"\ndbtable\u003d\"가구\"\n\nftable_df \u003d spark.read.format(\"jdbc\").option(\"user\", user).option(\"password\", password).option(\"url\", url).option(\"driver\", driver).option(\"dbtable\", dbtable).load()\n\nftable_df.show()\n\nftable_df.printSchema()\n\n"
    },
    {
      "cell_type": "code",
      "execution_count": 22,
      "metadata": {
        "autoscroll": "auto"
      },
      "outputs": [],
      "source": "%pyspark\n\nftable \u003d spark.read.csv(\"/가구.csv\", header\u003dTrue)\nftable.show()"
    },
    {
      "cell_type": "code",
      "execution_count": 23,
      "metadata": {
        "autoscroll": "auto"
      },
      "outputs": [],
      "source": "%pyspark\n\nftable.createOrReplaceTempView(\"ftable\")\n\nftable.show()"
    },
    {
      "cell_type": "raw",
      "metadata": {
        "format": "text/plain"
      },
      "source": "%pyspark\n"
    },
    {
      "cell_type": "code",
      "execution_count": 25,
      "metadata": {
        "autoscroll": "auto"
      },
      "outputs": [],
      "source": "%sql\n\nselect *\nfrom ftable\norder by `법정동코드`\n"
    },
    {
      "cell_type": "code",
      "execution_count": 26,
      "metadata": {
        "autoscroll": "auto"
      },
      "outputs": [],
      "source": "%sql\n\nselect count(distinct(`법정동코드`))\nfrom ftable"
    },
    {
      "cell_type": "code",
      "execution_count": 27,
      "metadata": {
        "autoscroll": "auto"
      },
      "outputs": [],
      "source": "%sql\nselect `법정동코드`, `총급여금액`/`총급여수` as `평균근로소득`\nfrom(\n    select `법정동코드`, `급여인원` as `총급여수`, cast(`급여금액` as double) as `총급여금액`\n    from ftable\n)"
    },
    {
      "cell_type": "code",
      "execution_count": 28,
      "metadata": {},
      "outputs": [],
      "source": "%%sql\n"
    },
    {
      "cell_type": "code",
      "execution_count": 29,
      "metadata": {
        "autoscroll": "auto"
      },
      "outputs": [],
      "source": "%pyspark\n\ntttt1 \u003d spark.read.format(\"csv\").option(\"header\", \"true\").load(\"../../Data/법정동_Data/법정동코드_최종본.csv\")\n\ntttt1.show()"
    },
    {
      "cell_type": "code",
      "execution_count": 30,
      "metadata": {
        "autoscroll": "auto"
      },
      "outputs": [],
      "source": "%pyspark\n\nplacecsv \u003d spark.read.format(\"csv\").option(\"header\", \"true\").load(\"../../Data/Final_CSV/지역.csv\")\n\nplacecsv.createOrReplaceTempView(\"place\")\n"
    },
    {
      "cell_type": "raw",
      "metadata": {
        "format": "text/plain"
      },
      "source": "%pyspark\n"
    },
    {
      "cell_type": "code",
      "execution_count": 32,
      "metadata": {
        "autoscroll": "auto"
      },
      "outputs": [],
      "source": "%sql\nselect * from place\n"
    },
    {
      "cell_type": "code",
      "execution_count": 33,
      "metadata": {
        "autoscroll": "auto"
      },
      "outputs": [],
      "source": "%sql\n\nselect *\nfrom place\nwhere `법정동코드` \u003d 41130"
    },
    {
      "cell_type": "code",
      "execution_count": 34,
      "metadata": {
        "autoscroll": "auto"
      },
      "outputs": [],
      "source": "%sql\nselect * \nfrom ftable\nwhere `건강보험료` is null\n"
    },
    {
      "cell_type": "code",
      "execution_count": 35,
      "metadata": {},
      "outputs": [],
      "source": "%%sql\n"
    },
    {
      "cell_type": "code",
      "execution_count": 36,
      "metadata": {
        "autoscroll": "auto"
      },
      "outputs": [],
      "source": "%sql\n\nselect `시도명`, `총인원`, `총금액`, round(`총금액`/`총인원`) as `평균근로소득`\nfrom(\nselect `시도명`, sum(`급여인원`) as `총인원`, sum(`급여금액`) as `총금액`\nfrom(\n    select `법정동코드`, `시도명`, `법정동명`, `급여인원`, `급여금액`\n    from place OUTER JOIN ftable using(`법정동코드`)\n)\ngroup by `시도명`\n)\norder by `시도명`\n"
    },
    {
      "cell_type": "code",
      "execution_count": 37,
      "metadata": {
        "autoscroll": "auto"
      },
      "outputs": [],
      "source": "%sql\n\nselect `법정동코드`, `시도명`, `법정동명`, `급여인원`, `급여금액`\nfrom place OUTER JOIN ftable using(`법정동코드`)\nwhere `시도명` \u003d \u0027서울특별시\u0027"
    },
    {
      "cell_type": "code",
      "execution_count": 38,
      "metadata": {
        "autoscroll": "auto"
      },
      "outputs": [],
      "source": "%sql\n\nselect `법정동코드`, `법정동명`, round(`급여금액` / `급여인원`) as `평균근로소득`\nfrom(\n    select `법정동코드`, `시도명`, `법정동명`, `급여인원`, `급여금액`\n    from place OUTER JOIN ftable using(`법정동코드`)\n    where `시도명` \u003d \u0027서울특별시\u0027\n)\norder by `법정동명`"
    },
    {
      "cell_type": "code",
      "execution_count": 39,
      "metadata": {},
      "outputs": [],
      "source": "%%sql\n"
    }
  ]
}