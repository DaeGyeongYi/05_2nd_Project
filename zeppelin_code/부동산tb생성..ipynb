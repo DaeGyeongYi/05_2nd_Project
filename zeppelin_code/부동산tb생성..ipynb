﻿{
  "metadata": {
    "name": "부동산tb생성",
    "kernelspec": {
      "language": "scala",
      "name": "spark2-scala"
    },
    "language_info": {
      "codemirror_mode": "text/x-scala",
      "file_extension": ".scala",
      "mimetype": "text/x-scala",
      "name": "scala",
      "pygments_lexer": "scala"
    }
  },
  "nbformat": 4,
  "nbformat_minor": 2,
  "cells": [
    {
      "cell_type": "code",
      "execution_count": 0,
      "metadata": {
        "autoscroll": "auto"
      },
      "outputs": [],
      "source": "%pyspark\n\nrd1 \u003d spark.read.format(\"csv\").option(\"header\", \"true\").load(\"../../Data/가구_Data/raw_Data/아파트매매데이터_11110,41190/*\")\n\nrd2 \u003d spark.read.format(\"csv\").option(\"header\", \"true\").load(\"../../Data/가구_Data/raw_Data/아파트매매데이터_41210,45740/*\")\n\nrd3 \u003d spark.read.format(\"csv\").option(\"header\", \"true\").load(\"../../Data/가구_Data/raw_Data/아파트매매데이터_45750,50130/*\")\n"
    },
    {
      "cell_type": "code",
      "execution_count": 1,
      "metadata": {
        "autoscroll": "auto"
      },
      "outputs": [],
      "source": "%pyspark\n\nrd1.show(5)\n\nrd1.printSchema()\n\nrd1.count()"
    },
    {
      "cell_type": "code",
      "execution_count": 2,
      "metadata": {
        "autoscroll": "auto"
      },
      "outputs": [],
      "source": "%pyspark\n\nfrom pyspark.sql.functions import concat, lpad, col, lit\n\ndf1 \u003d rd1.select(col(\"법정동시군구코드\").alias(\"법정동코드\"), col(\"거래금액\"), col(\"건축년도\"), concat(col(\"년\"), lit(\"-\"), lpad(col(\"월\"),2,\"0\"), lit(\"-\"), lpad(col(\"일\"), 2, \"0\")).alias(\"계약날짜\"), col(\"아파트\").alias(\"아파트명\"), col(\"전용면적\").alias(\"면적\"), col(\"층\"))\n\ndf1.show()\ndf1.count()"
    },
    {
      "cell_type": "code",
      "execution_count": 3,
      "metadata": {
        "autoscroll": "auto"
      },
      "outputs": [],
      "source": "%pyspark\n\ndf2 \u003d rd2.select(col(\"법정동시군구코드\").alias(\"법정동코드\"), col(\"거래금액\"), col(\"건축년도\"), concat(col(\"년\"), lit(\"-\"), lpad(col(\"월\"),2,\"0\"), lit(\"-\"), lpad(col(\"일\"), 2, \"0\")).alias(\"계약날짜\"), col(\"아파트\").alias(\"아파트명\"), col(\"전용면적\").alias(\"면적\"), col(\"층\"))\n\ndf2.show()\ndf2.count()"
    },
    {
      "cell_type": "code",
      "execution_count": 4,
      "metadata": {
        "autoscroll": "auto"
      },
      "outputs": [],
      "source": "%pyspark\n\ndf3 \u003d rd3.select(col(\"법정동시군구코드\").alias(\"법정동코드\"), col(\"거래금액\"), col(\"건축년도\"), concat(col(\"년\"), lit(\"-\"), lpad(col(\"월\"),2,\"0\"), lit(\"-\"), lpad(col(\"일\"), 2, \"0\")).alias(\"계약날짜\"), col(\"아파트\").alias(\"아파트명\"), col(\"전용면적\").alias(\"면적\"), col(\"층\"))\n\ndf3.show()\ndf3.count()"
    },
    {
      "cell_type": "code",
      "execution_count": 5,
      "metadata": {
        "autoscroll": "auto"
      },
      "outputs": [],
      "source": "%pyspark\n\nfrom pyspark.sql.functions import regexp_replace\n\ntotal_apartment_df_ \u003d df1.union(df2).union(df3)\n\ntotal_apartment_df_ \u003d total_apartment_df_.withColumn(\"거래금액\", regexp_replace(col(\"거래금액\"), \",\", \"\") * 10000)\n\ntotal_apartment_df_.show(10)\n"
    },
    {
      "cell_type": "code",
      "execution_count": 6,
      "metadata": {
        "autoscroll": "auto"
      },
      "outputs": [],
      "source": "%pyspark\n\ntmp1 \u003d total_apartment_df_.rdd.zipWithIndex().toDF()\ntmp2 \u003d tmp1.select(col(\"_1.*\"),col(\"_2\").alias(\u0027부동산ID\u0027))\ntmp2.show()\n\n"
    },
    {
      "cell_type": "code",
      "execution_count": 7,
      "metadata": {
        "autoscroll": "auto"
      },
      "outputs": [],
      "source": "%pyspark\n\ntmp2.groupBy(col(\"부동산ID\")).count().where(col(\"count\") !\u003d 1).show()"
    },
    {
      "cell_type": "code",
      "execution_count": 8,
      "metadata": {
        "autoscroll": "auto"
      },
      "outputs": [],
      "source": "%pyspark\ntmp2.printSchema()"
    },
    {
      "cell_type": "code",
      "execution_count": 9,
      "metadata": {
        "autoscroll": "auto"
      },
      "outputs": [],
      "source": "%pyspark\n\ntotal_apartment_df \u003d tmp2.select(col(\"부동산ID\").cast(\"int\"), col(\"법정동코드\").cast(\"int\"), col(\"거래금액\").cast(\"int\"), col(\"건축년도\"), col(\"계약날짜\").cast(\"date\"), col(\"아파트명\"), col(\"면적\").cast(\"int\"), col(\"층\").cast(\"int\"))\n"
    },
    {
      "cell_type": "code",
      "execution_count": 10,
      "metadata": {
        "autoscroll": "auto"
      },
      "outputs": [],
      "source": "%pyspark\n\ntotal_apartment_df.show()"
    },
    {
      "cell_type": "code",
      "execution_count": 11,
      "metadata": {
        "autoscroll": "auto"
      },
      "outputs": [],
      "source": "%pyspark\n\ntotal_apartment_df.printSchema()\n\ntotal_apartment_df.count()\n\n"
    },
    {
      "cell_type": "code",
      "execution_count": 12,
      "metadata": {
        "autoscroll": "auto"
      },
      "outputs": [],
      "source": "%pyspark\r\n\r\ntotal_apartment_df.write.option(\"header\", \"true\").csv(\"hdfs:///부동산.csv\")\r\n"
    },
    {
      "cell_type": "code",
      "execution_count": 13,
      "metadata": {
        "autoscroll": "auto"
      },
      "outputs": [],
      "source": "%pyspark\n\ntotal_apartment_df \u003d spark.read.csv(\"/부동산.csv\", header\u003dTrue)\ntotal_apartment_df.createOrReplaceTempView(\"apartment\")\n"
    },
    {
      "cell_type": "code",
      "execution_count": 14,
      "metadata": {
        "autoscroll": "auto"
      },
      "outputs": [],
      "source": "%pyspark\r\n\r\ntmp \u003d spark.read.csv(\"/부동산.csv\", header\u003dTrue)\r\ntmp.show()"
    },
    {
      "cell_type": "code",
      "execution_count": 15,
      "metadata": {
        "autoscroll": "auto"
      },
      "outputs": [],
      "source": "%pyspark\n\nuser\u003d\"root\"\npassword\u003d\"1234\"\nurl\u003d\"jdbc:mysql://localhost:3306/Project\"\ndriver\u003d\"com.mysql.cj.jdbc.Driver\"\ndbtable\u003d\"부동산\"\n\ntest_df \u003d spark.read.format(\"jdbc\").option(\"user\", user).option(\"password\", password).option(\"url\", url).option(\"driver\", driver).option(\"dbtable\", dbtable).load()\n\ntest_df.show()\n\n"
    },
    {
      "cell_type": "code",
      "execution_count": 16,
      "metadata": {
        "autoscroll": "auto"
      },
      "outputs": [],
      "source": "%pyspark\n\nuser\u003d\"root\"\npassword\u003d\"1234\"\nurl\u003d\"jdbc:mysql://localhost:3306/Project\"\ndriver\u003d\"com.mysql.cj.jdbc.Driver\"\ndbtable\u003d\"부동산\"\n\ntotal_apartment_df.write.jdbc(url, dbtable, \"append\", properties\u003d{\"driver\": driver, \"user\": user, \"password\": password})\n"
    },
    {
      "cell_type": "code",
      "execution_count": 17,
      "metadata": {
        "autoscroll": "auto"
      },
      "outputs": [],
      "source": "%pyspark\n\nuser\u003d\"root\"\npassword\u003d\"1234\"\nurl\u003d\"jdbc:mysql://localhost:3306/Project\"\ndriver\u003d\"com.mysql.cj.jdbc.Driver\"\ndbtable\u003d\"부동산\"\n\napartment_df \u003d spark.read.format(\"jdbc\").option(\"user\", user).option(\"password\", password).option(\"url\", url).option(\"driver\", driver).option(\"dbtable\", dbtable).load()\n\napartment_df.createOrReplaceTempView(\"apartment\")\n"
    },
    {
      "cell_type": "code",
      "execution_count": 18,
      "metadata": {
        "autoscroll": "auto"
      },
      "outputs": [],
      "source": "%pyspark\n\nuser\u003d\"root\"\npassword\u003d\"1234\"\nurl\u003d\"jdbc:mysql://localhost:3306/Project\"\ndriver\u003d\"com.mysql.cj.jdbc.Driver\"\ndbtable\u003d\"가구\"\n\nf_df \u003d spark.read.format(\"jdbc\").option(\"user\", user).option(\"password\", password).option(\"url\", url).option(\"driver\", driver).option(\"dbtable\", dbtable).load()\n\nf_df.createOrReplaceTempView(\"ftable\")\n"
    },
    {
      "cell_type": "code",
      "execution_count": 19,
      "metadata": {
        "autoscroll": "auto"
      },
      "outputs": [],
      "source": "%pyspark\n\nplacecsv \u003d spark.read.format(\"csv\").option(\"header\", \"true\").load(\"../../Data/Final_CSV/지역.csv\")\n\nplacecsv.createOrReplaceTempView(\"place\")\n"
    },
    {
      "cell_type": "code",
      "execution_count": 20,
      "metadata": {
        "autoscroll": "auto"
      },
      "outputs": [],
      "source": "%sql\nselect * from apartment"
    },
    {
      "cell_type": "code",
      "execution_count": 21,
      "metadata": {
        "autoscroll": "auto"
      },
      "outputs": [],
      "source": "%sql\n\nselect * from place"
    },
    {
      "cell_type": "code",
      "execution_count": 22,
      "metadata": {
        "autoscroll": "auto"
      },
      "outputs": [],
      "source": "%sql\n\nselect `시도명`, round(avg(`거래금액`)) as `평균부동산거래금액`\nfrom(\n    select `시도명`, `법정동코드`, `거래금액`\n    from place \n    join apartment using(`법정동코드`)\n)\ngroup by `시도명`\norder by `시도명`\n\n"
    },
    {
      "cell_type": "code",
      "execution_count": 23,
      "metadata": {
        "autoscroll": "auto"
      },
      "outputs": [],
      "source": "%sql\n\nselect `시도명`, `법정동코드`, `거래금액`\nfrom place \njoin apartment using(`법정동코드`)\nwhere `시도명` \u003d \u0027서울특별시\u0027"
    },
    {
      "cell_type": "code",
      "execution_count": 24,
      "metadata": {},
      "outputs": [],
      "source": "%%sql\n"
    },
    {
      "cell_type": "code",
      "execution_count": 25,
      "metadata": {},
      "outputs": [],
      "source": "%%sql\n"
    },
    {
      "cell_type": "code",
      "execution_count": 26,
      "metadata": {},
      "outputs": [],
      "source": "%%sql\n"
    },
    {
      "cell_type": "code",
      "execution_count": 27,
      "metadata": {},
      "outputs": [],
      "source": "%%sql\n"
    },
    {
      "cell_type": "code",
      "execution_count": 28,
      "metadata": {},
      "outputs": [],
      "source": "%%sql\n"
    },
    {
      "cell_type": "code",
      "execution_count": 29,
      "metadata": {},
      "outputs": [],
      "source": "%%sql\n"
    },
    {
      "cell_type": "code",
      "execution_count": 30,
      "metadata": {},
      "outputs": [],
      "source": "%%sql\n"
    }
  ]
}