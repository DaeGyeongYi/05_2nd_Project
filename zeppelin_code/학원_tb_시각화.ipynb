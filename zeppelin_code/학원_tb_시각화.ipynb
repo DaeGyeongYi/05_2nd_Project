﻿{
  "metadata": {
    "name": "학원",
    "kernelspec": {
      "language": "scala",
      "name": "spark2-scala"
    },
    "language_info": {
      "codemirror_mode": "text/x-scala",
      "file_extension": ".scala",
      "mimetype": "text/x-scala",
      "name": "scala",
      "pygments_lexer": "scala"
    }
  },
  "nbformat": 4,
  "nbformat_minor": 2,
  "cells": [
    {
      "cell_type": "markdown",
      "metadata": {},
      "source": " \n##### 현재데이터 : 각 지역마다 csv 파일로 저장되어 있음\n##### 처리해야할 작업\n    1.전국으로 합치고, 컬럼정리\n    2.개설일(ESTBL_YMD)이 2018년 이전인 데이터만 추출\n    3.주소 전처리1 - 주소 이상치 필터링\n    4.주소 전처리2 - 특수한 주소 필터링\n    5.법정동명이랑 연결시키기 (법정동명 컬럼생성)\n    6.최종테이블 csv저장 : 필요한컬럼- 법정동명, 학원명(ACA_NM),계열명(LE_ORD_NM),주소(FA_RDNMA),광역시도,시군구,정원합계(TOFOR_SMTOT)\n    7.시각화\n        - 광역시도별 학원개수 "
    },
    {
      "cell_type": "markdown",
      "metadata": {},
      "source": "#### 1. 전국으로 합치고, 컬럼정리"
    },
    {
      "cell_type": "code",
      "execution_count": 2,
      "metadata": {
        "autoscroll": "auto"
      },
      "outputs": [],
      "source": "%pyspark\nall  \u003d spark.read.csv(\u0027/Data/학원_Data/학원_교습소정보/\u0027,header\u003d\u0027True\u0027)\nall .count() #127267\n\nz.show(all)"
    },
    {
      "cell_type": "code",
      "execution_count": 3,
      "metadata": {
        "autoscroll": "auto"
      },
      "outputs": [],
      "source": "%pyspark\nall.printSchema()"
    },
    {
      "cell_type": "code",
      "execution_count": 4,
      "metadata": {
        "autoscroll": "auto"
      },
      "outputs": [],
      "source": "%pyspark\n# 컬럼정리\ndf1\u003dall.drop(\"ACA_INSTI_SC_NM\",\"ACA_ASNUM\",\"REG_YMD\",\"REG_STTUS_NM\",\"CAA_BEGIN_YMD\",\"CAA_END_YMD\",\"DTM_RCPTN_ABLTY_NMPR_SMTOT\",\"LE_ORD_NM\",\"LE_CRSE_LIST_NM\",\"LE_CRSE_NM\",\"PSNBY_THCC_CNTNT\",\"THCC_OTHBC_YN\",\"BRHS_ACA_YN\",\"FA_RDNDA\",\"LOAD_DTM\")\ndf1.printSchema()\n"
    },
    {
      "cell_type": "code",
      "execution_count": 5,
      "metadata": {
        "autoscroll": "auto"
      },
      "outputs": [],
      "source": "%pyspark\n#컬럼명 정리\nfrom pyspark.sql.functions import col\ndf1 \u003d df1.select(\n    col(\"ATPT_OFCDC_SC_CODE\").alias(\"교육청코드\"),\n    col(\"ATPT_OFCDC_SC_NM\").alias(\"교육청명\"),\n    col(\"ADMST_ZONE_NM\").alias(\"시군구\"),\n    col(\"ESTBL_YMD\").alias(\"개설일자\"),\n    col(\u0027ACA_NM\u0027).alias(\u0027학원명\u0027),\n    col(\u0027REALM_SC_NM\u0027).alias(\u0027계열명\u0027),col(\u0027FA_RDNMA\u0027).alias(\u0027주소\u0027),col(\u0027TOFOR_SMTOT\u0027).alias(\u0027정원합계\u0027))\nz.show(df1)"
    },
    {
      "cell_type": "code",
      "execution_count": 6,
      "metadata": {
        "autoscroll": "auto"
      },
      "outputs": [],
      "source": "%pyspark\ndf1.printSchema()"
    },
    {
      "cell_type": "markdown",
      "metadata": {},
      "source": "#### 2. 개설일자가 2018년 이전인 데이터만 추출"
    },
    {
      "cell_type": "code",
      "execution_count": 8,
      "metadata": {
        "autoscroll": "auto"
      },
      "outputs": [],
      "source": "%pyspark\nfrom pyspark.sql.functions import col\n\ndf2 \u003d df1.filter(col(\"개설일자\") \u003c\u002720180000\u0027)\ndf2.count() #87932\nz.show(df2)\n"
    },
    {
      "cell_type": "markdown",
      "metadata": {},
      "source": "#### 3. 주소전처리1 - 주소이상치 필터링"
    },
    {
      "cell_type": "code",
      "execution_count": 10,
      "metadata": {
        "autoscroll": "auto"
      },
      "outputs": [],
      "source": "%pyspark\nfrom pyspark.sql.functions import split,size,col\ndf2_except1 \u003d df2.withColumn(\u0027split_size\u0027,size(split(col(\u0027주소\u0027),\u0027 \u0027)))\n\ndf2_except1.createOrReplaceTempView(\"df2_except1\")\n\n"
    },
    {
      "cell_type": "code",
      "execution_count": 11,
      "metadata": {
        "autoscroll": "auto"
      },
      "outputs": [],
      "source": "%sql\nselect * from df2_except1 where split_size\u003c\u003d2"
    },
    {
      "cell_type": "code",
      "execution_count": 12,
      "metadata": {
        "autoscroll": "auto"
      },
      "outputs": [],
      "source": "%pyspark\ndf3 \u003d df2_except1.filter(\"split_size\u003e2\")\ndf3.count() # 87867\n"
    },
    {
      "cell_type": "markdown",
      "metadata": {},
      "source": "#### 4.주소 전처리2 - 특수한 주소필터링\n"
    },
    {
      "cell_type": "code",
      "execution_count": 14,
      "metadata": {
        "autoscroll": "auto"
      },
      "outputs": [],
      "source": "%sql\n-- 조건2 - 주소가 \u0027  1\u0027인 경우, 주소가 \u0027상가 103호\u0027인 경우\n\nselect * from df2_except1 where `주소` like \u0027__1\u0027 or `주소` like \u0027상가 103호%\u0027"
    },
    {
      "cell_type": "code",
      "execution_count": 15,
      "metadata": {
        "autoscroll": "auto"
      },
      "outputs": [],
      "source": "%pyspark\n# 전처리조건2로 필터링 : 주소가 이상한 값 (2개) 제거\n\ndf3 \u003d df3.filter(\"`주소` not like \u0027__1\u0027 and `주소` not like \u0027상가 103호%\u0027\")\nz.show(df3)"
    },
    {
      "cell_type": "code",
      "execution_count": 16,
      "metadata": {
        "autoscroll": "auto"
      },
      "outputs": [],
      "source": "%pyspark\ndf3.count() #87865"
    },
    {
      "cell_type": "markdown",
      "metadata": {},
      "source": "#### 5.법정동명이랑 연결시키기 (법정동명 컬럼생성)"
    },
    {
      "cell_type": "code",
      "execution_count": 18,
      "metadata": {
        "autoscroll": "auto"
      },
      "outputs": [],
      "source": "%pyspark\nfrom pyspark.sql.functions import split\nsplit_col \u003d split(df3[\u0027교육청명\u0027], \u0027교\u0027)\ndf4 \u003d df3.withColumn(\u0027광역시도\u0027, split_col.getItem(0))\nz.show(df4)"
    },
    {
      "cell_type": "code",
      "execution_count": 19,
      "metadata": {
        "autoscroll": "auto"
      },
      "outputs": [],
      "source": "%pyspark\nfrom pyspark.sql.functions import lit,concat\ndf4 \u003d df4.withColumn(\u0027법정동명\u0027, concat(\u0027광역시도\u0027,lit(\u0027 \u0027), \u0027시군구\u0027))\nz.show(df4)"
    },
    {
      "cell_type": "markdown",
      "metadata": {},
      "source": "#### 6. 최종테이블 csv저장 : 필요한컬럼- 법정동명, 학원명(ACA_NM),계열명(LE_ORD_NM),주소(FA_RDNMA),정원합계(TOFOR_SMTOT)\n"
    },
    {
      "cell_type": "code",
      "execution_count": 21,
      "metadata": {
        "autoscroll": "auto"
      },
      "outputs": [],
      "source": "%pyspark\naca_tb\u003ddf4.select(\"법정동명\",\"학원명\",\"계열명\",col(\"정원합계\").cast(\"int\"),\"주소\")"
    },
    {
      "cell_type": "code",
      "execution_count": 22,
      "metadata": {
        "autoscroll": "auto"
      },
      "outputs": [],
      "source": "%pyspark\naca_tb_1\u003daca_tb.rdd.zipWithIndex().toDF()\naca_tb\u003daca_tb_1.select(col(\"_1.*\"),col(\"_2\").alias(\"학원ID\"))\naca_tb.show()\n"
    },
    {
      "cell_type": "code",
      "execution_count": 23,
      "metadata": {
        "autoscroll": "auto"
      },
      "outputs": [],
      "source": "%pyspark\naca_tb.count()"
    },
    {
      "cell_type": "code",
      "execution_count": 24,
      "metadata": {
        "autoscroll": "auto"
      },
      "outputs": [],
      "source": "%pyspark\naca_tb.printSchema()"
    },
    {
      "cell_type": "code",
      "execution_count": 25,
      "metadata": {
        "autoscroll": "auto"
      },
      "outputs": [],
      "source": "%pyspark\n#aca_tb.write.csv(\"hdfs:///학원.csv\",header\u003d\u0027True\u0027)"
    },
    {
      "cell_type": "code",
      "execution_count": 26,
      "metadata": {
        "autoscroll": "auto"
      },
      "outputs": [],
      "source": "%pyspark\naca_tb.createOrReplaceTempView(\"ACA_TABLE\")"
    },
    {
      "cell_type": "markdown",
      "metadata": {},
      "source": "#### 7. 시각화 (광역시도/시군구 컬럼추가)"
    },
    {
      "cell_type": "code",
      "execution_count": 28,
      "metadata": {
        "autoscroll": "auto"
      },
      "outputs": [],
      "source": "%pyspark\naca_visual\u003ddf4.select(\"법정동명\",\"학원명\",\"계열명\",col(\"정원합계\").cast(\"int\"),\"주소\",\"광역시도\",\"시군구\")"
    },
    {
      "cell_type": "code",
      "execution_count": 29,
      "metadata": {
        "autoscroll": "auto"
      },
      "outputs": [],
      "source": "%pyspark\nz.show(aca_visual)"
    },
    {
      "cell_type": "code",
      "execution_count": 30,
      "metadata": {
        "autoscroll": "auto"
      },
      "outputs": [],
      "source": "%pyspark\naca_visual.printSchema()"
    },
    {
      "cell_type": "code",
      "execution_count": 31,
      "metadata": {
        "autoscroll": "auto"
      },
      "outputs": [],
      "source": "%pyspark\naca_visual.createOrReplaceTempView(\"aca_local_final\")"
    },
    {
      "cell_type": "code",
      "execution_count": 32,
      "metadata": {
        "autoscroll": "auto"
      },
      "outputs": [],
      "source": "%sql\nselect `광역시도`,count(`학원명`) FROM aca_local_final group by `광역시도`\n\n"
    },
    {
      "cell_type": "code",
      "execution_count": 33,
      "metadata": {
        "autoscroll": "auto"
      },
      "outputs": [],
      "source": "%sql\nselect `법정동명`,count(`학원명`) FROM aca_local_final group by `법정동명` order by count(`학원명`) desc limit 20\n"
    },
    {
      "cell_type": "code",
      "execution_count": 34,
      "metadata": {
        "autoscroll": "auto"
      },
      "outputs": [],
      "source": "%sql\nselect `법정동명`,`학원명`,`계열명`,`주소`,`정원합계` FROM aca_local_final where (`학원명` NOT LIKE \u0027%원격%\u0027 AND `학원명` NOT LIKE \u0027%온라인%\u0027) AND `계열명`!\u003d\u0027직업기술\u0027 order by `정원합계` desc limit 10\n\n-- select `법정동명`,`학원명`,`계열명`,`주소`,`정원합계` FROM aca_local_final where (`학원명` not like \u0027%원격%\u0027) or (\u0027계열명\u0027 not like \u0027%직업기술%\u0027) order by `정원합계` desc limit 10\n"
    },
    {
      "cell_type": "code",
      "execution_count": 35,
      "metadata": {},
      "outputs": [],
      "source": "%%sql\n"
    }
  ]
}