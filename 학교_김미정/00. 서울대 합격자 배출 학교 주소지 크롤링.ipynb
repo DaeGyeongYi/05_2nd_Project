{
 "cells": [
  {
   "cell_type": "code",
   "execution_count": 20,
   "id": "9b5c75fc",
   "metadata": {},
   "outputs": [],
   "source": [
    "import pandas as pd\n",
    "\n",
    "# 동적크롤링에 관련한 패키지 import (셀레니움, 뷰티풀 숩 등등,,)\n",
    "\n"
   ]
  },
  {
   "cell_type": "code",
   "execution_count": 21,
   "id": "cbc65b13",
   "metadata": {},
   "outputs": [],
   "source": [
    "# 안녕하세용"
   ]
  },
  {
   "cell_type": "code",
   "execution_count": 22,
   "id": "8ab279bd",
   "metadata": {
    "scrolled": true
   },
   "outputs": [],
   "source": [
    "# csv 불러오기\n",
    "df = pd.read_csv(\"../Data/학교_Data/2017 서울대 합격자 목록.csv\", encoding='cp949', usecols=[1,2,3,4,5], header=1, nrows = 838)"
   ]
  },
  {
   "cell_type": "code",
   "execution_count": 23,
   "id": "f103ea74",
   "metadata": {},
   "outputs": [],
   "source": [
    "# 첫번째 행을 header로 설정하고, 비어있는 칸들 삭제하기\n",
    "df = df.rename(columns=df.iloc[0])[1:839]"
   ]
  },
  {
   "cell_type": "code",
   "execution_count": 30,
   "id": "e270a4e5",
   "metadata": {},
   "outputs": [],
   "source": [
    "df.to_csv('서울대합격.csv',index=None)"
   ]
  },
  {
   "cell_type": "code",
   "execution_count": 25,
   "id": "69e0d1c6",
   "metadata": {},
   "outputs": [],
   "source": [
    "# 구글 드라d이버로 구글에 접속하기"
   ]
  },
  {
   "cell_type": "code",
   "execution_count": null,
   "id": "1b7207eb",
   "metadata": {},
   "outputs": [],
   "source": []
  },
  {
   "cell_type": "code",
   "execution_count": null,
   "id": "b58c63f4",
   "metadata": {},
   "outputs": [],
   "source": []
  },
  {
   "cell_type": "code",
   "execution_count": 26,
   "id": "fc81b5f8",
   "metadata": {},
   "outputs": [],
   "source": [
    "# 구글 드라이버로 고등학교 이름목록에 있는 고등학교들을 하나씩 검색하기"
   ]
  },
  {
   "cell_type": "code",
   "execution_count": null,
   "id": "e5cc4a90",
   "metadata": {},
   "outputs": [],
   "source": []
  },
  {
   "cell_type": "code",
   "execution_count": null,
   "id": "04f9bf09",
   "metadata": {},
   "outputs": [],
   "source": []
  },
  {
   "cell_type": "code",
   "execution_count": null,
   "id": "ebbcc3b5",
   "metadata": {},
   "outputs": [],
   "source": []
  },
  {
   "cell_type": "code",
   "execution_count": null,
   "id": "4c619c50",
   "metadata": {},
   "outputs": [],
   "source": []
  },
  {
   "cell_type": "code",
   "execution_count": null,
   "id": "dd952c9b",
   "metadata": {},
   "outputs": [],
   "source": []
  },
  {
   "cell_type": "code",
   "execution_count": null,
   "id": "fa29d93d",
   "metadata": {},
   "outputs": [],
   "source": []
  },
  {
   "cell_type": "code",
   "execution_count": 27,
   "id": "eaa4ea5b",
   "metadata": {},
   "outputs": [],
   "source": [
    "# 검색결과창의 html 코드 가지고 오기"
   ]
  },
  {
   "cell_type": "code",
   "execution_count": null,
   "id": "20e7b630",
   "metadata": {},
   "outputs": [],
   "source": []
  },
  {
   "cell_type": "code",
   "execution_count": null,
   "id": "22622d18",
   "metadata": {},
   "outputs": [],
   "source": []
  },
  {
   "cell_type": "code",
   "execution_count": null,
   "id": "140ae779",
   "metadata": {},
   "outputs": [],
   "source": []
  },
  {
   "cell_type": "code",
   "execution_count": null,
   "id": "e942d9af",
   "metadata": {},
   "outputs": [],
   "source": []
  },
  {
   "cell_type": "code",
   "execution_count": 28,
   "id": "f45ad29c",
   "metadata": {},
   "outputs": [],
   "source": [
    "# html 코드에서 원하는 텍스트가 있는 태그찾기"
   ]
  },
  {
   "cell_type": "code",
   "execution_count": null,
   "id": "f27c843f",
   "metadata": {},
   "outputs": [],
   "source": []
  },
  {
   "cell_type": "code",
   "execution_count": null,
   "id": "24dfbed6",
   "metadata": {},
   "outputs": [],
   "source": []
  },
  {
   "cell_type": "code",
   "execution_count": null,
   "id": "6905463a",
   "metadata": {},
   "outputs": [],
   "source": []
  },
  {
   "cell_type": "code",
   "execution_count": null,
   "id": "a8b1a491",
   "metadata": {},
   "outputs": [],
   "source": []
  },
  {
   "cell_type": "code",
   "execution_count": 29,
   "id": "721c32f0",
   "metadata": {},
   "outputs": [],
   "source": [
    "# 텍스트형태로 변환해서 저장하기"
   ]
  },
  {
   "cell_type": "code",
   "execution_count": null,
   "id": "0ce1bbf7",
   "metadata": {},
   "outputs": [],
   "source": []
  },
  {
   "cell_type": "code",
   "execution_count": null,
   "id": "04fce1e7",
   "metadata": {},
   "outputs": [],
   "source": []
  },
  {
   "cell_type": "code",
   "execution_count": null,
   "id": "4f4c1599",
   "metadata": {},
   "outputs": [],
   "source": []
  },
  {
   "cell_type": "code",
   "execution_count": null,
   "id": "6fc6ca27",
   "metadata": {},
   "outputs": [],
   "source": []
  }
 ],
 "metadata": {
  "kernelspec": {
   "display_name": "Python 3",
   "language": "python",
   "name": "python3"
  },
  "language_info": {
   "codemirror_mode": {
    "name": "ipython",
    "version": 3
   },
   "file_extension": ".py",
   "mimetype": "text/x-python",
   "name": "python",
   "nbconvert_exporter": "python",
   "pygments_lexer": "ipython3",
   "version": "3.8.8"
  }
 },
 "nbformat": 4,
 "nbformat_minor": 5
}
