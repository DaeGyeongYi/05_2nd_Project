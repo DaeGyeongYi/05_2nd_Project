{
 "cells": [
  {
   "cell_type": "code",
   "execution_count": 1,
   "id": "6af3442e",
   "metadata": {},
   "outputs": [],
   "source": [
    "import pandas as pd"
   ]
  },
  {
   "cell_type": "code",
   "execution_count": 6,
   "id": "ba44280c",
   "metadata": {},
   "outputs": [
    {
     "name": "stderr",
     "output_type": "stream",
     "text": [
      "C:\\Users\\ksj14\\anaconda3\\lib\\site-packages\\IPython\\core\\interactiveshell.py:3165: DtypeWarning: Columns (12) have mixed types.Specify dtype option on import or set low_memory=False.\n",
      "  has_raised = await self.run_ast_nodes(code_ast.body, cell_name,\n"
     ]
    }
   ],
   "source": [
    "df=pd.read_csv('학원_학원교습소정보_2021년08월31일기준.csv', encoding='cp949')"
   ]
  },
  {
   "cell_type": "code",
   "execution_count": 9,
   "id": "f2480da3",
   "metadata": {},
   "outputs": [
    {
     "data": {
      "text/html": [
       "<div>\n",
       "<style scoped>\n",
       "    .dataframe tbody tr th:only-of-type {\n",
       "        vertical-align: middle;\n",
       "    }\n",
       "\n",
       "    .dataframe tbody tr th {\n",
       "        vertical-align: top;\n",
       "    }\n",
       "\n",
       "    .dataframe thead th {\n",
       "        text-align: right;\n",
       "    }\n",
       "</style>\n",
       "<table border=\"1\" class=\"dataframe\">\n",
       "  <thead>\n",
       "    <tr style=\"text-align: right;\">\n",
       "      <th></th>\n",
       "      <th>Unnamed: 0</th>\n",
       "      <th>시도교육청코드</th>\n",
       "      <th>시도교육청명</th>\n",
       "      <th>행정구역명</th>\n",
       "      <th>학원교습소명</th>\n",
       "      <th>학원지정번호</th>\n",
       "      <th>학원명</th>\n",
       "      <th>정원합계</th>\n",
       "      <th>분야명</th>\n",
       "      <th>교습계열명</th>\n",
       "      <th>교습과정목록명</th>\n",
       "      <th>교습과정명</th>\n",
       "      <th>도로명우편번호</th>\n",
       "      <th>도로명주소</th>\n",
       "      <th>도로명상세주소</th>\n",
       "    </tr>\n",
       "  </thead>\n",
       "  <tbody>\n",
       "    <tr>\n",
       "      <th>0</th>\n",
       "      <td>0</td>\n",
       "      <td>B10</td>\n",
       "      <td>서울특별시교육청</td>\n",
       "      <td>강남구</td>\n",
       "      <td>학원</td>\n",
       "      <td>3000039285</td>\n",
       "      <td>(A STUDIO)에이스튜디오학원</td>\n",
       "      <td>13</td>\n",
       "      <td>기예(대)</td>\n",
       "      <td>기예(중)</td>\n",
       "      <td>NaN</td>\n",
       "      <td>연기(연극/뮤지컬/오페라)</td>\n",
       "      <td>6052.0</td>\n",
       "      <td>서울특별시 강남구 논현로134길 5</td>\n",
       "      <td>/ 5층/ 6층 (논현동)</td>\n",
       "    </tr>\n",
       "  </tbody>\n",
       "</table>\n",
       "</div>"
      ],
      "text/plain": [
       "   Unnamed: 0 시도교육청코드    시도교육청명 행정구역명 학원교습소명      학원지정번호                 학원명  \\\n",
       "0           0     B10  서울특별시교육청   강남구     학원  3000039285  (A STUDIO)에이스튜디오학원   \n",
       "\n",
       "   정원합계    분야명  교습계열명 교습과정목록명           교습과정명 도로명우편번호                도로명주소  \\\n",
       "0    13  기예(대)  기예(중)     NaN  연기(연극/뮤지컬/오페라)  6052.0  서울특별시 강남구 논현로134길 5   \n",
       "\n",
       "          도로명상세주소  \n",
       "0  / 5층/ 6층 (논현동)  "
      ]
     },
     "execution_count": 9,
     "metadata": {},
     "output_type": "execute_result"
    }
   ],
   "source": [
    "df.head(1)"
   ]
  }
 ],
 "metadata": {
  "kernelspec": {
   "display_name": "Python 3",
   "language": "python",
   "name": "python3"
  },
  "language_info": {
   "codemirror_mode": {
    "name": "ipython",
    "version": 3
   },
   "file_extension": ".py",
   "mimetype": "text/x-python",
   "name": "python",
   "nbconvert_exporter": "python",
   "pygments_lexer": "ipython3",
   "version": "3.8.8"
  }
 },
 "nbformat": 4,
 "nbformat_minor": 5
}
