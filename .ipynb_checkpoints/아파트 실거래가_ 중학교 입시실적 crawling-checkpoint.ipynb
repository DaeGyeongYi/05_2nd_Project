{
 "cells": [
  {
   "cell_type": "code",
   "execution_count": 171,
   "id": "0b9f8b25",
   "metadata": {},
   "outputs": [],
   "source": [
    "import requests\n",
    "from bs4 import BeautifulSoup \n",
    "from urllib.request import urlopen\n",
    "from selenium import webdriver\n",
    "import pandas as pd\n",
    "import time"
   ]
  },
  {
   "cell_type": "markdown",
   "id": "c677c333",
   "metadata": {},
   "source": [
    "# 순서\n",
    "- 셀레니움으로 원하는 페이지 열기\n",
    "1. 2017년 버튼 누르기\n",
    "2. 원하는 시도 버튼 누르기\n",
    "3. 원하는 시도의 상세주소정보 누르기\n",
    "4. 페이지 내의 정보 크롤링하기\n",
    "5. 다음 페이지 클릭하고 페이지 끝까지 4번 반복\n",
    "6. 마지막페이지에서 3~5 반복\n",
    "\n",
    "\n",
    "- 지역 하나 다 끝냈으면 다른 지역 선택해서 반복"
   ]
  },
  {
   "cell_type": "code",
   "execution_count": 544,
   "id": "ca978a04",
   "metadata": {},
   "outputs": [],
   "source": [
    "# chromedriver 구동, url 설정\n",
    "driver = webdriver.Chrome('./chromedriver')\n",
    "url ='https://apt2.me/apt/middle.jsp#read/page=9&perPage=20' \n",
    "driver.get(url)"
   ]
  },
  {
   "cell_type": "code",
   "execution_count": 545,
   "id": "c7fd62b1",
   "metadata": {},
   "outputs": [],
   "source": [
    "#2017년 선택\n",
    "driver.find_element_by_xpath('//*[@id=\"Cmb_year\"]/option[5]').click()"
   ]
  },
  {
   "cell_type": "code",
   "execution_count": 546,
   "id": "ac472076",
   "metadata": {},
   "outputs": [],
   "source": [
    "df = pd.DataFrame(columns=['과학고외고/국제고자사고기타계(외국,영재,유학,대안)', '총인원남학생여학생', '특목고계특목고비율','학교명주소'])"
   ]
  },
  {
   "cell_type": "code",
   "execution_count": 547,
   "id": "87a76ff7",
   "metadata": {},
   "outputs": [],
   "source": [
    "sido = ['서울특별시','부산광역시','대구광역시','인천광역시','광주광역시',\n",
    "       '대전광역시','울산광역시','세종특별자치시','경기도','강원도','충청북도',\n",
    "       '충청남도','전라북도','전라남도','경상북도','경상남도','제주특별자치도']"
   ]
  },
  {
   "cell_type": "code",
   "execution_count": 555,
   "id": "9040313e",
   "metadata": {},
   "outputs": [
    {
     "ename": "NoSuchElementException",
     "evalue": "Message: no such element: Unable to locate element: {\"method\":\"xpath\",\"selector\":\"/html/body/div[3]/a[49]\"}\n  (Session info: chrome=93.0.4577.63)\n",
     "output_type": "error",
     "traceback": [
      "\u001b[1;31m---------------------------------------------------------------------------\u001b[0m",
      "\u001b[1;31mNoSuchElementException\u001b[0m                    Traceback (most recent call last)",
      "\u001b[1;32m<ipython-input-555-71a919b3e91a>\u001b[0m in \u001b[0;36m<module>\u001b[1;34m\u001b[0m\n\u001b[0;32m     13\u001b[0m         \u001b[0mtime\u001b[0m\u001b[1;33m.\u001b[0m\u001b[0msleep\u001b[0m\u001b[1;33m(\u001b[0m\u001b[1;36m0.5\u001b[0m\u001b[1;33m)\u001b[0m\u001b[1;33m\u001b[0m\u001b[1;33m\u001b[0m\u001b[0m\n\u001b[0;32m     14\u001b[0m         \u001b[1;31m#첫번째 구부터 선택\u001b[0m\u001b[1;33m\u001b[0m\u001b[1;33m\u001b[0m\u001b[1;33m\u001b[0m\u001b[0m\n\u001b[1;32m---> 15\u001b[1;33m         \u001b[0mdriver\u001b[0m\u001b[1;33m.\u001b[0m\u001b[0mfind_element_by_xpath\u001b[0m\u001b[1;33m(\u001b[0m\u001b[1;34m'/html/body/div[3]/a['\u001b[0m\u001b[1;33m+\u001b[0m\u001b[0mstr\u001b[0m\u001b[1;33m(\u001b[0m\u001b[0mi\u001b[0m\u001b[1;33m)\u001b[0m\u001b[1;33m+\u001b[0m\u001b[1;34m']'\u001b[0m\u001b[1;33m)\u001b[0m\u001b[1;33m.\u001b[0m\u001b[0mclick\u001b[0m\u001b[1;33m(\u001b[0m\u001b[1;33m)\u001b[0m\u001b[1;33m\u001b[0m\u001b[1;33m\u001b[0m\u001b[0m\n\u001b[0m\u001b[0;32m     16\u001b[0m         \u001b[0mtime\u001b[0m\u001b[1;33m.\u001b[0m\u001b[0msleep\u001b[0m\u001b[1;33m(\u001b[0m\u001b[1;36m0.5\u001b[0m\u001b[1;33m)\u001b[0m\u001b[1;33m\u001b[0m\u001b[1;33m\u001b[0m\u001b[0m\n\u001b[0;32m     17\u001b[0m         \u001b[1;31m#페이지 수\u001b[0m\u001b[1;33m\u001b[0m\u001b[1;33m\u001b[0m\u001b[1;33m\u001b[0m\u001b[0m\n",
      "\u001b[1;32m~\\anaconda3\\lib\\site-packages\\selenium\\webdriver\\remote\\webdriver.py\u001b[0m in \u001b[0;36mfind_element_by_xpath\u001b[1;34m(self, xpath)\u001b[0m\n\u001b[0;32m    392\u001b[0m             \u001b[0melement\u001b[0m \u001b[1;33m=\u001b[0m \u001b[0mdriver\u001b[0m\u001b[1;33m.\u001b[0m\u001b[0mfind_element_by_xpath\u001b[0m\u001b[1;33m(\u001b[0m\u001b[1;34m'//div/td[1]'\u001b[0m\u001b[1;33m)\u001b[0m\u001b[1;33m\u001b[0m\u001b[1;33m\u001b[0m\u001b[0m\n\u001b[0;32m    393\u001b[0m         \"\"\"\n\u001b[1;32m--> 394\u001b[1;33m         \u001b[1;32mreturn\u001b[0m \u001b[0mself\u001b[0m\u001b[1;33m.\u001b[0m\u001b[0mfind_element\u001b[0m\u001b[1;33m(\u001b[0m\u001b[0mby\u001b[0m\u001b[1;33m=\u001b[0m\u001b[0mBy\u001b[0m\u001b[1;33m.\u001b[0m\u001b[0mXPATH\u001b[0m\u001b[1;33m,\u001b[0m \u001b[0mvalue\u001b[0m\u001b[1;33m=\u001b[0m\u001b[0mxpath\u001b[0m\u001b[1;33m)\u001b[0m\u001b[1;33m\u001b[0m\u001b[1;33m\u001b[0m\u001b[0m\n\u001b[0m\u001b[0;32m    395\u001b[0m \u001b[1;33m\u001b[0m\u001b[0m\n\u001b[0;32m    396\u001b[0m     \u001b[1;32mdef\u001b[0m \u001b[0mfind_elements_by_xpath\u001b[0m\u001b[1;33m(\u001b[0m\u001b[0mself\u001b[0m\u001b[1;33m,\u001b[0m \u001b[0mxpath\u001b[0m\u001b[1;33m)\u001b[0m\u001b[1;33m:\u001b[0m\u001b[1;33m\u001b[0m\u001b[1;33m\u001b[0m\u001b[0m\n",
      "\u001b[1;32m~\\anaconda3\\lib\\site-packages\\selenium\\webdriver\\remote\\webdriver.py\u001b[0m in \u001b[0;36mfind_element\u001b[1;34m(self, by, value)\u001b[0m\n\u001b[0;32m    974\u001b[0m                 \u001b[0mby\u001b[0m \u001b[1;33m=\u001b[0m \u001b[0mBy\u001b[0m\u001b[1;33m.\u001b[0m\u001b[0mCSS_SELECTOR\u001b[0m\u001b[1;33m\u001b[0m\u001b[1;33m\u001b[0m\u001b[0m\n\u001b[0;32m    975\u001b[0m                 \u001b[0mvalue\u001b[0m \u001b[1;33m=\u001b[0m \u001b[1;34m'[name=\"%s\"]'\u001b[0m \u001b[1;33m%\u001b[0m \u001b[0mvalue\u001b[0m\u001b[1;33m\u001b[0m\u001b[1;33m\u001b[0m\u001b[0m\n\u001b[1;32m--> 976\u001b[1;33m         return self.execute(Command.FIND_ELEMENT, {\n\u001b[0m\u001b[0;32m    977\u001b[0m             \u001b[1;34m'using'\u001b[0m\u001b[1;33m:\u001b[0m \u001b[0mby\u001b[0m\u001b[1;33m,\u001b[0m\u001b[1;33m\u001b[0m\u001b[1;33m\u001b[0m\u001b[0m\n\u001b[0;32m    978\u001b[0m             'value': value})['value']\n",
      "\u001b[1;32m~\\anaconda3\\lib\\site-packages\\selenium\\webdriver\\remote\\webdriver.py\u001b[0m in \u001b[0;36mexecute\u001b[1;34m(self, driver_command, params)\u001b[0m\n\u001b[0;32m    319\u001b[0m         \u001b[0mresponse\u001b[0m \u001b[1;33m=\u001b[0m \u001b[0mself\u001b[0m\u001b[1;33m.\u001b[0m\u001b[0mcommand_executor\u001b[0m\u001b[1;33m.\u001b[0m\u001b[0mexecute\u001b[0m\u001b[1;33m(\u001b[0m\u001b[0mdriver_command\u001b[0m\u001b[1;33m,\u001b[0m \u001b[0mparams\u001b[0m\u001b[1;33m)\u001b[0m\u001b[1;33m\u001b[0m\u001b[1;33m\u001b[0m\u001b[0m\n\u001b[0;32m    320\u001b[0m         \u001b[1;32mif\u001b[0m \u001b[0mresponse\u001b[0m\u001b[1;33m:\u001b[0m\u001b[1;33m\u001b[0m\u001b[1;33m\u001b[0m\u001b[0m\n\u001b[1;32m--> 321\u001b[1;33m             \u001b[0mself\u001b[0m\u001b[1;33m.\u001b[0m\u001b[0merror_handler\u001b[0m\u001b[1;33m.\u001b[0m\u001b[0mcheck_response\u001b[0m\u001b[1;33m(\u001b[0m\u001b[0mresponse\u001b[0m\u001b[1;33m)\u001b[0m\u001b[1;33m\u001b[0m\u001b[1;33m\u001b[0m\u001b[0m\n\u001b[0m\u001b[0;32m    322\u001b[0m             response['value'] = self._unwrap_value(\n\u001b[0;32m    323\u001b[0m                 response.get('value', None))\n",
      "\u001b[1;32m~\\anaconda3\\lib\\site-packages\\selenium\\webdriver\\remote\\errorhandler.py\u001b[0m in \u001b[0;36mcheck_response\u001b[1;34m(self, response)\u001b[0m\n\u001b[0;32m    240\u001b[0m                 \u001b[0malert_text\u001b[0m \u001b[1;33m=\u001b[0m \u001b[0mvalue\u001b[0m\u001b[1;33m[\u001b[0m\u001b[1;34m'alert'\u001b[0m\u001b[1;33m]\u001b[0m\u001b[1;33m.\u001b[0m\u001b[0mget\u001b[0m\u001b[1;33m(\u001b[0m\u001b[1;34m'text'\u001b[0m\u001b[1;33m)\u001b[0m\u001b[1;33m\u001b[0m\u001b[1;33m\u001b[0m\u001b[0m\n\u001b[0;32m    241\u001b[0m             \u001b[1;32mraise\u001b[0m \u001b[0mexception_class\u001b[0m\u001b[1;33m(\u001b[0m\u001b[0mmessage\u001b[0m\u001b[1;33m,\u001b[0m \u001b[0mscreen\u001b[0m\u001b[1;33m,\u001b[0m \u001b[0mstacktrace\u001b[0m\u001b[1;33m,\u001b[0m \u001b[0malert_text\u001b[0m\u001b[1;33m)\u001b[0m\u001b[1;33m\u001b[0m\u001b[1;33m\u001b[0m\u001b[0m\n\u001b[1;32m--> 242\u001b[1;33m         \u001b[1;32mraise\u001b[0m \u001b[0mexception_class\u001b[0m\u001b[1;33m(\u001b[0m\u001b[0mmessage\u001b[0m\u001b[1;33m,\u001b[0m \u001b[0mscreen\u001b[0m\u001b[1;33m,\u001b[0m \u001b[0mstacktrace\u001b[0m\u001b[1;33m)\u001b[0m\u001b[1;33m\u001b[0m\u001b[1;33m\u001b[0m\u001b[0m\n\u001b[0m\u001b[0;32m    243\u001b[0m \u001b[1;33m\u001b[0m\u001b[0m\n\u001b[0;32m    244\u001b[0m     \u001b[1;32mdef\u001b[0m \u001b[0m_value_or_default\u001b[0m\u001b[1;33m(\u001b[0m\u001b[0mself\u001b[0m\u001b[1;33m,\u001b[0m \u001b[0mobj\u001b[0m\u001b[1;33m,\u001b[0m \u001b[0mkey\u001b[0m\u001b[1;33m,\u001b[0m \u001b[0mdefault\u001b[0m\u001b[1;33m)\u001b[0m\u001b[1;33m:\u001b[0m\u001b[1;33m\u001b[0m\u001b[1;33m\u001b[0m\u001b[0m\n",
      "\u001b[1;31mNoSuchElementException\u001b[0m: Message: no such element: Unable to locate element: {\"method\":\"xpath\",\"selector\":\"/html/body/div[3]/a[49]\"}\n  (Session info: chrome=93.0.4577.63)\n"
     ]
    }
   ],
   "source": [
    "for si in sido:\n",
    "    driver.find_element_by_xpath('/html/body/a').click() \n",
    "    time.sleep(0.5)\n",
    "    #서울부터 지역 선택\n",
    "    driver.find_element_by_link_text(si).click()\n",
    "    time.sleep(0.3)\n",
    "    gungu_len = len(driver.find_element_by_xpath('//*[@id=\"area\"]').text.split(' '))\n",
    "    time.sleep(0.5)\n",
    "\n",
    "    for i in range(1,gungu_len+1):\n",
    "        #지역 선택\n",
    "        driver.find_element_by_link_text(si).click()\n",
    "        time.sleep(0.5)\n",
    "        #첫번째 구부터 선택\n",
    "        driver.find_element_by_xpath('/html/body/div[3]/a['+str(i)+']').click()\n",
    "        time.sleep(0.5)\n",
    "        #페이지 수\n",
    "        page_num = int(driver.find_element_by_css_selector('#grid > div.tui-pagination.tui-grid-pagination').text.replace(\"firstprev\",\"\").replace(\"nextlast\",\"\"))\n",
    "\n",
    "        # df 만들기\n",
    "        html = driver.page_source\n",
    "        table_df_list =pd.read_html(html)\n",
    "\n",
    "        table_df_list[3].rename({0:\"학교명주소\",\n",
    "                   1:\"총인원남학생여학생\",\n",
    "                   2:\"과학고외고/국제고자사고기타계(외국,영재,유학,대안)\",\n",
    "                   3:\"특목고계특목고비율\"\n",
    "                  },axis=1,inplace=True)\n",
    "\n",
    "        df = pd.concat([ table_df_list[3], df])\n",
    "        driver.find_element_by_xpath('/html/body/a').click()\n",
    "        time.sleep(0.5)"
   ]
  },
  {
   "cell_type": "code",
   "execution_count": 562,
   "id": "3d17d0c3",
   "metadata": {},
   "outputs": [],
   "source": [
    "df = df.drop_duplicates(keep='first')"
   ]
  },
  {
   "cell_type": "code",
   "execution_count": 563,
   "id": "7b328945",
   "metadata": {},
   "outputs": [],
   "source": [
    "sidos = ['강원도','충청북도','충청남도','전라북도','전라남도','경상북도','경상남도','제주특별자치도']"
   ]
  },
  {
   "cell_type": "code",
   "execution_count": 564,
   "id": "73dbaaae",
   "metadata": {},
   "outputs": [
    {
     "ename": "NoSuchElementException",
     "evalue": "Message: no such element: Unable to locate element: {\"method\":\"xpath\",\"selector\":\"/html/body/div[3]/a[16]\"}\n  (Session info: chrome=93.0.4577.63)\n",
     "output_type": "error",
     "traceback": [
      "\u001b[1;31m---------------------------------------------------------------------------\u001b[0m",
      "\u001b[1;31mNoSuchElementException\u001b[0m                    Traceback (most recent call last)",
      "\u001b[1;32m<ipython-input-564-76d49c90a8cb>\u001b[0m in \u001b[0;36m<module>\u001b[1;34m\u001b[0m\n\u001b[0;32m     13\u001b[0m         \u001b[0mtime\u001b[0m\u001b[1;33m.\u001b[0m\u001b[0msleep\u001b[0m\u001b[1;33m(\u001b[0m\u001b[1;36m0.5\u001b[0m\u001b[1;33m)\u001b[0m\u001b[1;33m\u001b[0m\u001b[1;33m\u001b[0m\u001b[0m\n\u001b[0;32m     14\u001b[0m         \u001b[1;31m#첫번째 구부터 선택\u001b[0m\u001b[1;33m\u001b[0m\u001b[1;33m\u001b[0m\u001b[1;33m\u001b[0m\u001b[0m\n\u001b[1;32m---> 15\u001b[1;33m         \u001b[0mdriver\u001b[0m\u001b[1;33m.\u001b[0m\u001b[0mfind_element_by_xpath\u001b[0m\u001b[1;33m(\u001b[0m\u001b[1;34m'/html/body/div[3]/a['\u001b[0m\u001b[1;33m+\u001b[0m\u001b[0mstr\u001b[0m\u001b[1;33m(\u001b[0m\u001b[0mi\u001b[0m\u001b[1;33m)\u001b[0m\u001b[1;33m+\u001b[0m\u001b[1;34m']'\u001b[0m\u001b[1;33m)\u001b[0m\u001b[1;33m.\u001b[0m\u001b[0mclick\u001b[0m\u001b[1;33m(\u001b[0m\u001b[1;33m)\u001b[0m\u001b[1;33m\u001b[0m\u001b[1;33m\u001b[0m\u001b[0m\n\u001b[0m\u001b[0;32m     16\u001b[0m         \u001b[0mtime\u001b[0m\u001b[1;33m.\u001b[0m\u001b[0msleep\u001b[0m\u001b[1;33m(\u001b[0m\u001b[1;36m0.5\u001b[0m\u001b[1;33m)\u001b[0m\u001b[1;33m\u001b[0m\u001b[1;33m\u001b[0m\u001b[0m\n\u001b[0;32m     17\u001b[0m         \u001b[1;31m#페이지 수\u001b[0m\u001b[1;33m\u001b[0m\u001b[1;33m\u001b[0m\u001b[1;33m\u001b[0m\u001b[0m\n",
      "\u001b[1;32m~\\anaconda3\\lib\\site-packages\\selenium\\webdriver\\remote\\webdriver.py\u001b[0m in \u001b[0;36mfind_element_by_xpath\u001b[1;34m(self, xpath)\u001b[0m\n\u001b[0;32m    392\u001b[0m             \u001b[0melement\u001b[0m \u001b[1;33m=\u001b[0m \u001b[0mdriver\u001b[0m\u001b[1;33m.\u001b[0m\u001b[0mfind_element_by_xpath\u001b[0m\u001b[1;33m(\u001b[0m\u001b[1;34m'//div/td[1]'\u001b[0m\u001b[1;33m)\u001b[0m\u001b[1;33m\u001b[0m\u001b[1;33m\u001b[0m\u001b[0m\n\u001b[0;32m    393\u001b[0m         \"\"\"\n\u001b[1;32m--> 394\u001b[1;33m         \u001b[1;32mreturn\u001b[0m \u001b[0mself\u001b[0m\u001b[1;33m.\u001b[0m\u001b[0mfind_element\u001b[0m\u001b[1;33m(\u001b[0m\u001b[0mby\u001b[0m\u001b[1;33m=\u001b[0m\u001b[0mBy\u001b[0m\u001b[1;33m.\u001b[0m\u001b[0mXPATH\u001b[0m\u001b[1;33m,\u001b[0m \u001b[0mvalue\u001b[0m\u001b[1;33m=\u001b[0m\u001b[0mxpath\u001b[0m\u001b[1;33m)\u001b[0m\u001b[1;33m\u001b[0m\u001b[1;33m\u001b[0m\u001b[0m\n\u001b[0m\u001b[0;32m    395\u001b[0m \u001b[1;33m\u001b[0m\u001b[0m\n\u001b[0;32m    396\u001b[0m     \u001b[1;32mdef\u001b[0m \u001b[0mfind_elements_by_xpath\u001b[0m\u001b[1;33m(\u001b[0m\u001b[0mself\u001b[0m\u001b[1;33m,\u001b[0m \u001b[0mxpath\u001b[0m\u001b[1;33m)\u001b[0m\u001b[1;33m:\u001b[0m\u001b[1;33m\u001b[0m\u001b[1;33m\u001b[0m\u001b[0m\n",
      "\u001b[1;32m~\\anaconda3\\lib\\site-packages\\selenium\\webdriver\\remote\\webdriver.py\u001b[0m in \u001b[0;36mfind_element\u001b[1;34m(self, by, value)\u001b[0m\n\u001b[0;32m    974\u001b[0m                 \u001b[0mby\u001b[0m \u001b[1;33m=\u001b[0m \u001b[0mBy\u001b[0m\u001b[1;33m.\u001b[0m\u001b[0mCSS_SELECTOR\u001b[0m\u001b[1;33m\u001b[0m\u001b[1;33m\u001b[0m\u001b[0m\n\u001b[0;32m    975\u001b[0m                 \u001b[0mvalue\u001b[0m \u001b[1;33m=\u001b[0m \u001b[1;34m'[name=\"%s\"]'\u001b[0m \u001b[1;33m%\u001b[0m \u001b[0mvalue\u001b[0m\u001b[1;33m\u001b[0m\u001b[1;33m\u001b[0m\u001b[0m\n\u001b[1;32m--> 976\u001b[1;33m         return self.execute(Command.FIND_ELEMENT, {\n\u001b[0m\u001b[0;32m    977\u001b[0m             \u001b[1;34m'using'\u001b[0m\u001b[1;33m:\u001b[0m \u001b[0mby\u001b[0m\u001b[1;33m,\u001b[0m\u001b[1;33m\u001b[0m\u001b[1;33m\u001b[0m\u001b[0m\n\u001b[0;32m    978\u001b[0m             'value': value})['value']\n",
      "\u001b[1;32m~\\anaconda3\\lib\\site-packages\\selenium\\webdriver\\remote\\webdriver.py\u001b[0m in \u001b[0;36mexecute\u001b[1;34m(self, driver_command, params)\u001b[0m\n\u001b[0;32m    319\u001b[0m         \u001b[0mresponse\u001b[0m \u001b[1;33m=\u001b[0m \u001b[0mself\u001b[0m\u001b[1;33m.\u001b[0m\u001b[0mcommand_executor\u001b[0m\u001b[1;33m.\u001b[0m\u001b[0mexecute\u001b[0m\u001b[1;33m(\u001b[0m\u001b[0mdriver_command\u001b[0m\u001b[1;33m,\u001b[0m \u001b[0mparams\u001b[0m\u001b[1;33m)\u001b[0m\u001b[1;33m\u001b[0m\u001b[1;33m\u001b[0m\u001b[0m\n\u001b[0;32m    320\u001b[0m         \u001b[1;32mif\u001b[0m \u001b[0mresponse\u001b[0m\u001b[1;33m:\u001b[0m\u001b[1;33m\u001b[0m\u001b[1;33m\u001b[0m\u001b[0m\n\u001b[1;32m--> 321\u001b[1;33m             \u001b[0mself\u001b[0m\u001b[1;33m.\u001b[0m\u001b[0merror_handler\u001b[0m\u001b[1;33m.\u001b[0m\u001b[0mcheck_response\u001b[0m\u001b[1;33m(\u001b[0m\u001b[0mresponse\u001b[0m\u001b[1;33m)\u001b[0m\u001b[1;33m\u001b[0m\u001b[1;33m\u001b[0m\u001b[0m\n\u001b[0m\u001b[0;32m    322\u001b[0m             response['value'] = self._unwrap_value(\n\u001b[0;32m    323\u001b[0m                 response.get('value', None))\n",
      "\u001b[1;32m~\\anaconda3\\lib\\site-packages\\selenium\\webdriver\\remote\\errorhandler.py\u001b[0m in \u001b[0;36mcheck_response\u001b[1;34m(self, response)\u001b[0m\n\u001b[0;32m    240\u001b[0m                 \u001b[0malert_text\u001b[0m \u001b[1;33m=\u001b[0m \u001b[0mvalue\u001b[0m\u001b[1;33m[\u001b[0m\u001b[1;34m'alert'\u001b[0m\u001b[1;33m]\u001b[0m\u001b[1;33m.\u001b[0m\u001b[0mget\u001b[0m\u001b[1;33m(\u001b[0m\u001b[1;34m'text'\u001b[0m\u001b[1;33m)\u001b[0m\u001b[1;33m\u001b[0m\u001b[1;33m\u001b[0m\u001b[0m\n\u001b[0;32m    241\u001b[0m             \u001b[1;32mraise\u001b[0m \u001b[0mexception_class\u001b[0m\u001b[1;33m(\u001b[0m\u001b[0mmessage\u001b[0m\u001b[1;33m,\u001b[0m \u001b[0mscreen\u001b[0m\u001b[1;33m,\u001b[0m \u001b[0mstacktrace\u001b[0m\u001b[1;33m,\u001b[0m \u001b[0malert_text\u001b[0m\u001b[1;33m)\u001b[0m\u001b[1;33m\u001b[0m\u001b[1;33m\u001b[0m\u001b[0m\n\u001b[1;32m--> 242\u001b[1;33m         \u001b[1;32mraise\u001b[0m \u001b[0mexception_class\u001b[0m\u001b[1;33m(\u001b[0m\u001b[0mmessage\u001b[0m\u001b[1;33m,\u001b[0m \u001b[0mscreen\u001b[0m\u001b[1;33m,\u001b[0m \u001b[0mstacktrace\u001b[0m\u001b[1;33m)\u001b[0m\u001b[1;33m\u001b[0m\u001b[1;33m\u001b[0m\u001b[0m\n\u001b[0m\u001b[0;32m    243\u001b[0m \u001b[1;33m\u001b[0m\u001b[0m\n\u001b[0;32m    244\u001b[0m     \u001b[1;32mdef\u001b[0m \u001b[0m_value_or_default\u001b[0m\u001b[1;33m(\u001b[0m\u001b[0mself\u001b[0m\u001b[1;33m,\u001b[0m \u001b[0mobj\u001b[0m\u001b[1;33m,\u001b[0m \u001b[0mkey\u001b[0m\u001b[1;33m,\u001b[0m \u001b[0mdefault\u001b[0m\u001b[1;33m)\u001b[0m\u001b[1;33m:\u001b[0m\u001b[1;33m\u001b[0m\u001b[1;33m\u001b[0m\u001b[0m\n",
      "\u001b[1;31mNoSuchElementException\u001b[0m: Message: no such element: Unable to locate element: {\"method\":\"xpath\",\"selector\":\"/html/body/div[3]/a[16]\"}\n  (Session info: chrome=93.0.4577.63)\n"
     ]
    }
   ],
   "source": [
    "for si in sidos:\n",
    "    driver.find_element_by_xpath('/html/body/a').click() \n",
    "    time.sleep(0.5)\n",
    "    #서울부터 지역 선택\n",
    "    driver.find_element_by_link_text(si).click()\n",
    "    time.sleep(0.3)\n",
    "    gungu_len = len(driver.find_element_by_xpath('//*[@id=\"area\"]').text.split(' '))\n",
    "    time.sleep(0.5)\n",
    "\n",
    "    for i in range(1,gungu_len+1):\n",
    "        #지역 선택\n",
    "        driver.find_element_by_link_text(si).click()\n",
    "        time.sleep(0.5)\n",
    "        #첫번째 구부터 선택\n",
    "        driver.find_element_by_xpath('/html/body/div[3]/a['+str(i)+']').click()\n",
    "        time.sleep(0.5)\n",
    "        #페이지 수\n",
    "        page_num = int(driver.find_element_by_css_selector('#grid > div.tui-pagination.tui-grid-pagination').text.replace(\"firstprev\",\"\").replace(\"nextlast\",\"\"))\n",
    "\n",
    "        # df 만들기\n",
    "        html = driver.page_source\n",
    "        table_df_list =pd.read_html(html)\n",
    "\n",
    "        table_df_list[3].rename({0:\"학교명주소\",\n",
    "                   1:\"총인원남학생여학생\",\n",
    "                   2:\"과학고외고/국제고자사고기타계(외국,영재,유학,대안)\",\n",
    "                   3:\"특목고계특목고비율\"\n",
    "                  },axis=1,inplace=True)\n",
    "\n",
    "        df = pd.concat([ table_df_list[3], df])\n",
    "        driver.find_element_by_xpath('/html/body/a').click()\n",
    "        time.sleep(0.5)\n",
    "    "
   ]
  },
  {
   "cell_type": "code",
   "execution_count": 579,
   "id": "7b1873f4",
   "metadata": {},
   "outputs": [],
   "source": [
    "sidos_1 = ['제주특별자치도']"
   ]
  },
  {
   "cell_type": "code",
   "execution_count": 580,
   "id": "defa7492",
   "metadata": {},
   "outputs": [],
   "source": [
    "for si in sidos_1:\n",
    "    driver.find_element_by_xpath('/html/body/a').click() \n",
    "    time.sleep(0.5)\n",
    "    #서울부터 지역 선택\n",
    "    driver.find_element_by_link_text(si).click()\n",
    "    time.sleep(0.3)\n",
    "    gungu_len = len(driver.find_element_by_xpath('//*[@id=\"area\"]').text.split(' '))\n",
    "    time.sleep(0.5)\n",
    "\n",
    "    for i in range(1,gungu_len+1):\n",
    "        #지역 선택\n",
    "        driver.find_element_by_link_text(si).click()\n",
    "        time.sleep(0.5)\n",
    "        #첫번째 구부터 선택\n",
    "        driver.find_element_by_xpath('/html/body/div[3]/a['+str(i)+']').click()\n",
    "        time.sleep(0.5)\n",
    "        #페이지 수\n",
    "        page_num = int(driver.find_element_by_css_selector('#grid > div.tui-pagination.tui-grid-pagination').text.replace(\"firstprev\",\"\").replace(\"nextlast\",\"\"))\n",
    "\n",
    "        # df 만들기\n",
    "        html = driver.page_source\n",
    "        table_df_list =pd.read_html(html)\n",
    "\n",
    "        table_df_list[3].rename({0:\"학교명주소\",\n",
    "                   1:\"총인원남학생여학생\",\n",
    "                   2:\"과학고외고/국제고자사고기타계(외국,영재,유학,대안)\",\n",
    "                   3:\"특목고계특목고비율\"\n",
    "                  },axis=1,inplace=True)\n",
    "\n",
    "        df = pd.concat([ table_df_list[3], df])\n",
    "        driver.find_element_by_xpath('/html/body/a').click()\n",
    "        time.sleep(0.5)"
   ]
  },
  {
   "cell_type": "code",
   "execution_count": 582,
   "id": "06b71bfd",
   "metadata": {},
   "outputs": [],
   "source": [
    "df = df.drop_duplicates(keep='first')"
   ]
  },
  {
   "cell_type": "code",
   "execution_count": 583,
   "id": "e08be617",
   "metadata": {},
   "outputs": [],
   "source": [
    "df.to_csv('./원본_중학교 특목고 진학정보 크롤링.csv')"
   ]
  },
  {
   "cell_type": "code",
   "execution_count": 584,
   "id": "c7d80423",
   "metadata": {},
   "outputs": [
    {
     "data": {
      "text/html": [
       "<div>\n",
       "<style scoped>\n",
       "    .dataframe tbody tr th:only-of-type {\n",
       "        vertical-align: middle;\n",
       "    }\n",
       "\n",
       "    .dataframe tbody tr th {\n",
       "        vertical-align: top;\n",
       "    }\n",
       "\n",
       "    .dataframe thead th {\n",
       "        text-align: right;\n",
       "    }\n",
       "</style>\n",
       "<table border=\"1\" class=\"dataframe\">\n",
       "  <thead>\n",
       "    <tr style=\"text-align: right;\">\n",
       "      <th></th>\n",
       "      <th>학교명주소</th>\n",
       "      <th>총인원남학생여학생</th>\n",
       "      <th>과학고외고/국제고자사고기타계(외국,영재,유학,대안)</th>\n",
       "      <th>특목고계특목고비율</th>\n",
       "    </tr>\n",
       "  </thead>\n",
       "  <tbody>\n",
       "    <tr>\n",
       "      <th>0</th>\n",
       "      <td>우도중학교제주특별자치도 제주시 우도면</td>\n",
       "      <td>10 명6 명4 명</td>\n",
       "      <td>0 명1 명0 명0 명</td>\n",
       "      <td>1 명10.00 %</td>\n",
       "    </tr>\n",
       "    <tr>\n",
       "      <th>1</th>\n",
       "      <td>신엄중학교제주특별자치도 제주시 애월읍 신엄리</td>\n",
       "      <td>52 명29 명23 명</td>\n",
       "      <td>1 명4 명0 명0 명</td>\n",
       "      <td>5 명9.62 %</td>\n",
       "    </tr>\n",
       "    <tr>\n",
       "      <th>2</th>\n",
       "      <td>신창중학교제주특별자치도 제주시 한경면 신창리</td>\n",
       "      <td>19 명8 명11 명</td>\n",
       "      <td>0 명1 명0 명0 명</td>\n",
       "      <td>1 명5.26 %</td>\n",
       "    </tr>\n",
       "    <tr>\n",
       "      <th>3</th>\n",
       "      <td>한림여자중학교제주특별자치도 제주시 한림읍 한림리</td>\n",
       "      <td>83 명0 명83 명</td>\n",
       "      <td>0 명4 명0 명0 명</td>\n",
       "      <td>4 명4.82 %</td>\n",
       "    </tr>\n",
       "    <tr>\n",
       "      <th>4</th>\n",
       "      <td>노형중학교제주특별자치도 제주시 노형동</td>\n",
       "      <td>402 명170 명232 명</td>\n",
       "      <td>5 명14 명1 명5 명</td>\n",
       "      <td>19 명4.73 %</td>\n",
       "    </tr>\n",
       "    <tr>\n",
       "      <th>...</th>\n",
       "      <td>...</td>\n",
       "      <td>...</td>\n",
       "      <td>...</td>\n",
       "      <td>...</td>\n",
       "    </tr>\n",
       "    <tr>\n",
       "      <th>15</th>\n",
       "      <td>숙명여자중학교서울특별시 강남구 도곡동</td>\n",
       "      <td>284 명0 명284 명</td>\n",
       "      <td>2 명6 명8 명0 명</td>\n",
       "      <td>8 명2.82 %</td>\n",
       "    </tr>\n",
       "    <tr>\n",
       "      <th>16</th>\n",
       "      <td>언주중학교서울특별시 강남구 삼성동</td>\n",
       "      <td>332 명187 명145 명</td>\n",
       "      <td>5 명4 명59 명5 명</td>\n",
       "      <td>9 명2.71 %</td>\n",
       "    </tr>\n",
       "    <tr>\n",
       "      <th>17</th>\n",
       "      <td>청담중학교서울특별시 강남구 청담동</td>\n",
       "      <td>166 명84 명82 명</td>\n",
       "      <td>3 명1 명28 명0 명</td>\n",
       "      <td>4 명2.41 %</td>\n",
       "    </tr>\n",
       "    <tr>\n",
       "      <th>18</th>\n",
       "      <td>개원중학교서울특별시 강남구 개포동</td>\n",
       "      <td>278 명129 명149 명</td>\n",
       "      <td>0 명4 명20 명0 명</td>\n",
       "      <td>4 명1.44 %</td>\n",
       "    </tr>\n",
       "    <tr>\n",
       "      <th>19</th>\n",
       "      <td>봉은중학교서울특별시 강남구 삼성동</td>\n",
       "      <td>149 명93 명56 명</td>\n",
       "      <td>1 명1 명30 명1 명</td>\n",
       "      <td>2 명1.34 %</td>\n",
       "    </tr>\n",
       "  </tbody>\n",
       "</table>\n",
       "<p>2799 rows × 4 columns</p>\n",
       "</div>"
      ],
      "text/plain": [
       "                         학교명주소        총인원남학생여학생 과학고외고/국제고자사고기타계(외국,영재,유학,대안)  \\\n",
       "0         우도중학교제주특별자치도 제주시 우도면       10 명6 명4 명                 0 명1 명0 명0 명   \n",
       "1     신엄중학교제주특별자치도 제주시 애월읍 신엄리     52 명29 명23 명                 1 명4 명0 명0 명   \n",
       "2     신창중학교제주특별자치도 제주시 한경면 신창리      19 명8 명11 명                 0 명1 명0 명0 명   \n",
       "3   한림여자중학교제주특별자치도 제주시 한림읍 한림리      83 명0 명83 명                 0 명4 명0 명0 명   \n",
       "4         노형중학교제주특별자치도 제주시 노형동  402 명170 명232 명                5 명14 명1 명5 명   \n",
       "..                         ...              ...                          ...   \n",
       "15        숙명여자중학교서울특별시 강남구 도곡동    284 명0 명284 명                 2 명6 명8 명0 명   \n",
       "16          언주중학교서울특별시 강남구 삼성동  332 명187 명145 명                5 명4 명59 명5 명   \n",
       "17          청담중학교서울특별시 강남구 청담동    166 명84 명82 명                3 명1 명28 명0 명   \n",
       "18          개원중학교서울특별시 강남구 개포동  278 명129 명149 명                0 명4 명20 명0 명   \n",
       "19          봉은중학교서울특별시 강남구 삼성동    149 명93 명56 명                1 명1 명30 명1 명   \n",
       "\n",
       "     특목고계특목고비율  \n",
       "0   1 명10.00 %  \n",
       "1    5 명9.62 %  \n",
       "2    1 명5.26 %  \n",
       "3    4 명4.82 %  \n",
       "4   19 명4.73 %  \n",
       "..         ...  \n",
       "15   8 명2.82 %  \n",
       "16   9 명2.71 %  \n",
       "17   4 명2.41 %  \n",
       "18   4 명1.44 %  \n",
       "19   2 명1.34 %  \n",
       "\n",
       "[2799 rows x 4 columns]"
      ]
     },
     "execution_count": 584,
     "metadata": {},
     "output_type": "execute_result"
    }
   ],
   "source": [
    "df"
   ]
  },
  {
   "cell_type": "code",
   "execution_count": null,
   "id": "048cfcf9",
   "metadata": {},
   "outputs": [],
   "source": []
  },
  {
   "cell_type": "markdown",
   "id": "f19a8a6e",
   "metadata": {},
   "source": [
    "# 나중에 전처리할 코드"
   ]
  },
  {
   "cell_type": "code",
   "execution_count": 503,
   "id": "b38c09d1",
   "metadata": {},
   "outputs": [
    {
     "ename": "AttributeError",
     "evalue": "'float' object has no attribute 'split'",
     "output_type": "error",
     "traceback": [
      "\u001b[1;31m---------------------------------------------------------------------------\u001b[0m",
      "\u001b[1;31mAttributeError\u001b[0m                            Traceback (most recent call last)",
      "\u001b[1;32m<ipython-input-503-da1d19c3f397>\u001b[0m in \u001b[0;36m<module>\u001b[1;34m\u001b[0m\n\u001b[0;32m     11\u001b[0m \u001b[0mtable_df_list\u001b[0m\u001b[1;33m[\u001b[0m\u001b[1;36m3\u001b[0m\u001b[1;33m]\u001b[0m\u001b[1;33m[\u001b[0m\u001b[1;34m'기타계(외국,영재,유학,대안)'\u001b[0m\u001b[1;33m]\u001b[0m \u001b[1;33m=\u001b[0m \u001b[1;33m[\u001b[0m\u001b[0mi\u001b[0m\u001b[1;33m.\u001b[0m\u001b[0msplit\u001b[0m\u001b[1;33m(\u001b[0m\u001b[1;34m'명'\u001b[0m\u001b[1;33m)\u001b[0m\u001b[1;33m[\u001b[0m\u001b[1;36m3\u001b[0m\u001b[1;33m]\u001b[0m\u001b[1;33m.\u001b[0m\u001b[0msplit\u001b[0m\u001b[1;33m(\u001b[0m\u001b[1;34m' '\u001b[0m\u001b[1;33m)\u001b[0m\u001b[1;33m[\u001b[0m\u001b[1;36m0\u001b[0m\u001b[1;33m]\u001b[0m \u001b[1;32mfor\u001b[0m \u001b[0mi\u001b[0m \u001b[1;32min\u001b[0m \u001b[0mtable_df_list\u001b[0m\u001b[1;33m[\u001b[0m\u001b[1;36m3\u001b[0m\u001b[1;33m]\u001b[0m\u001b[1;33m[\u001b[0m\u001b[1;36m2\u001b[0m\u001b[1;33m]\u001b[0m\u001b[1;33m]\u001b[0m\u001b[1;33m\u001b[0m\u001b[1;33m\u001b[0m\u001b[0m\n\u001b[0;32m     12\u001b[0m \u001b[1;33m\u001b[0m\u001b[0m\n\u001b[1;32m---> 13\u001b[1;33m \u001b[0mtable_df_list\u001b[0m\u001b[1;33m[\u001b[0m\u001b[1;36m3\u001b[0m\u001b[1;33m]\u001b[0m\u001b[1;33m[\u001b[0m\u001b[1;34m'특목고계'\u001b[0m\u001b[1;33m]\u001b[0m \u001b[1;33m=\u001b[0m \u001b[1;33m[\u001b[0m\u001b[0mi\u001b[0m\u001b[1;33m.\u001b[0m\u001b[0msplit\u001b[0m\u001b[1;33m(\u001b[0m\u001b[1;34m'명'\u001b[0m\u001b[1;33m)\u001b[0m\u001b[1;33m[\u001b[0m\u001b[1;36m0\u001b[0m\u001b[1;33m]\u001b[0m\u001b[1;33m.\u001b[0m\u001b[0msplit\u001b[0m\u001b[1;33m(\u001b[0m\u001b[1;34m' '\u001b[0m\u001b[1;33m)\u001b[0m\u001b[1;33m[\u001b[0m\u001b[1;36m0\u001b[0m\u001b[1;33m]\u001b[0m \u001b[1;32mfor\u001b[0m \u001b[0mi\u001b[0m \u001b[1;32min\u001b[0m \u001b[0mtable_df_list\u001b[0m\u001b[1;33m[\u001b[0m\u001b[1;36m3\u001b[0m\u001b[1;33m]\u001b[0m\u001b[1;33m[\u001b[0m\u001b[1;36m3\u001b[0m\u001b[1;33m]\u001b[0m\u001b[1;33m]\u001b[0m\u001b[1;33m\u001b[0m\u001b[1;33m\u001b[0m\u001b[0m\n\u001b[0m\u001b[0;32m     14\u001b[0m \u001b[0mtable_df_list\u001b[0m\u001b[1;33m[\u001b[0m\u001b[1;36m3\u001b[0m\u001b[1;33m]\u001b[0m\u001b[1;33m[\u001b[0m\u001b[1;34m'특목고비율(%)'\u001b[0m\u001b[1;33m]\u001b[0m \u001b[1;33m=\u001b[0m \u001b[1;33m[\u001b[0m\u001b[0mi\u001b[0m\u001b[1;33m.\u001b[0m\u001b[0msplit\u001b[0m\u001b[1;33m(\u001b[0m\u001b[1;34m'명'\u001b[0m\u001b[1;33m)\u001b[0m\u001b[1;33m[\u001b[0m\u001b[1;36m1\u001b[0m\u001b[1;33m]\u001b[0m\u001b[1;33m.\u001b[0m\u001b[0msplit\u001b[0m\u001b[1;33m(\u001b[0m\u001b[1;34m' '\u001b[0m\u001b[1;33m)\u001b[0m\u001b[1;33m[\u001b[0m\u001b[1;36m0\u001b[0m\u001b[1;33m]\u001b[0m \u001b[1;32mfor\u001b[0m \u001b[0mi\u001b[0m \u001b[1;32min\u001b[0m \u001b[0mtable_df_list\u001b[0m\u001b[1;33m[\u001b[0m\u001b[1;36m3\u001b[0m\u001b[1;33m]\u001b[0m\u001b[1;33m[\u001b[0m\u001b[1;36m3\u001b[0m\u001b[1;33m]\u001b[0m\u001b[1;33m]\u001b[0m\u001b[1;33m\u001b[0m\u001b[1;33m\u001b[0m\u001b[0m\n\u001b[0;32m     15\u001b[0m \u001b[1;33m\u001b[0m\u001b[0m\n",
      "\u001b[1;32m<ipython-input-503-da1d19c3f397>\u001b[0m in \u001b[0;36m<listcomp>\u001b[1;34m(.0)\u001b[0m\n\u001b[0;32m     11\u001b[0m \u001b[0mtable_df_list\u001b[0m\u001b[1;33m[\u001b[0m\u001b[1;36m3\u001b[0m\u001b[1;33m]\u001b[0m\u001b[1;33m[\u001b[0m\u001b[1;34m'기타계(외국,영재,유학,대안)'\u001b[0m\u001b[1;33m]\u001b[0m \u001b[1;33m=\u001b[0m \u001b[1;33m[\u001b[0m\u001b[0mi\u001b[0m\u001b[1;33m.\u001b[0m\u001b[0msplit\u001b[0m\u001b[1;33m(\u001b[0m\u001b[1;34m'명'\u001b[0m\u001b[1;33m)\u001b[0m\u001b[1;33m[\u001b[0m\u001b[1;36m3\u001b[0m\u001b[1;33m]\u001b[0m\u001b[1;33m.\u001b[0m\u001b[0msplit\u001b[0m\u001b[1;33m(\u001b[0m\u001b[1;34m' '\u001b[0m\u001b[1;33m)\u001b[0m\u001b[1;33m[\u001b[0m\u001b[1;36m0\u001b[0m\u001b[1;33m]\u001b[0m \u001b[1;32mfor\u001b[0m \u001b[0mi\u001b[0m \u001b[1;32min\u001b[0m \u001b[0mtable_df_list\u001b[0m\u001b[1;33m[\u001b[0m\u001b[1;36m3\u001b[0m\u001b[1;33m]\u001b[0m\u001b[1;33m[\u001b[0m\u001b[1;36m2\u001b[0m\u001b[1;33m]\u001b[0m\u001b[1;33m]\u001b[0m\u001b[1;33m\u001b[0m\u001b[1;33m\u001b[0m\u001b[0m\n\u001b[0;32m     12\u001b[0m \u001b[1;33m\u001b[0m\u001b[0m\n\u001b[1;32m---> 13\u001b[1;33m \u001b[0mtable_df_list\u001b[0m\u001b[1;33m[\u001b[0m\u001b[1;36m3\u001b[0m\u001b[1;33m]\u001b[0m\u001b[1;33m[\u001b[0m\u001b[1;34m'특목고계'\u001b[0m\u001b[1;33m]\u001b[0m \u001b[1;33m=\u001b[0m \u001b[1;33m[\u001b[0m\u001b[0mi\u001b[0m\u001b[1;33m.\u001b[0m\u001b[0msplit\u001b[0m\u001b[1;33m(\u001b[0m\u001b[1;34m'명'\u001b[0m\u001b[1;33m)\u001b[0m\u001b[1;33m[\u001b[0m\u001b[1;36m0\u001b[0m\u001b[1;33m]\u001b[0m\u001b[1;33m.\u001b[0m\u001b[0msplit\u001b[0m\u001b[1;33m(\u001b[0m\u001b[1;34m' '\u001b[0m\u001b[1;33m)\u001b[0m\u001b[1;33m[\u001b[0m\u001b[1;36m0\u001b[0m\u001b[1;33m]\u001b[0m \u001b[1;32mfor\u001b[0m \u001b[0mi\u001b[0m \u001b[1;32min\u001b[0m \u001b[0mtable_df_list\u001b[0m\u001b[1;33m[\u001b[0m\u001b[1;36m3\u001b[0m\u001b[1;33m]\u001b[0m\u001b[1;33m[\u001b[0m\u001b[1;36m3\u001b[0m\u001b[1;33m]\u001b[0m\u001b[1;33m]\u001b[0m\u001b[1;33m\u001b[0m\u001b[1;33m\u001b[0m\u001b[0m\n\u001b[0m\u001b[0;32m     14\u001b[0m \u001b[0mtable_df_list\u001b[0m\u001b[1;33m[\u001b[0m\u001b[1;36m3\u001b[0m\u001b[1;33m]\u001b[0m\u001b[1;33m[\u001b[0m\u001b[1;34m'특목고비율(%)'\u001b[0m\u001b[1;33m]\u001b[0m \u001b[1;33m=\u001b[0m \u001b[1;33m[\u001b[0m\u001b[0mi\u001b[0m\u001b[1;33m.\u001b[0m\u001b[0msplit\u001b[0m\u001b[1;33m(\u001b[0m\u001b[1;34m'명'\u001b[0m\u001b[1;33m)\u001b[0m\u001b[1;33m[\u001b[0m\u001b[1;36m1\u001b[0m\u001b[1;33m]\u001b[0m\u001b[1;33m.\u001b[0m\u001b[0msplit\u001b[0m\u001b[1;33m(\u001b[0m\u001b[1;34m' '\u001b[0m\u001b[1;33m)\u001b[0m\u001b[1;33m[\u001b[0m\u001b[1;36m0\u001b[0m\u001b[1;33m]\u001b[0m \u001b[1;32mfor\u001b[0m \u001b[0mi\u001b[0m \u001b[1;32min\u001b[0m \u001b[0mtable_df_list\u001b[0m\u001b[1;33m[\u001b[0m\u001b[1;36m3\u001b[0m\u001b[1;33m]\u001b[0m\u001b[1;33m[\u001b[0m\u001b[1;36m3\u001b[0m\u001b[1;33m]\u001b[0m\u001b[1;33m]\u001b[0m\u001b[1;33m\u001b[0m\u001b[1;33m\u001b[0m\u001b[0m\n\u001b[0;32m     15\u001b[0m \u001b[1;33m\u001b[0m\u001b[0m\n",
      "\u001b[1;31mAttributeError\u001b[0m: 'float' object has no attribute 'split'"
     ]
    }
   ],
   "source": [
    "table_df_list[3]['학교명'] = [i.split('중학교')[0]+'중학교' for i in table_df_list[3][0]]\n",
    "table_df_list[3]['주소'] = [i.split('중학교')[1].split(' ')[0]+\" \"+i.split('중학교')[1].split(' ')[1] for i in table_df_list[3][0]]\n",
    "\n",
    "table_df_list[3]['총인원'] = [i.split('명')[0].split(' ')[0] for i in table_df_list[3][1]]\n",
    "table_df_list[3]['남학생'] = [i.split('명')[1].split(' ')[0] for i in table_df_list[3][1]]\n",
    "table_df_list[3]['여학생'] = [i.split('명')[2].split(' ')[0] for i in table_df_list[3][1]] \n",
    "\n",
    "table_df_list[3]['과학고'] = [i.split('명')[0].split(' ')[0] for i in table_df_list[3][2]]\n",
    "table_df_list[3]['외고/국제고'] = [i.split('명')[1].split(' ')[0] for i in table_df_list[3][2]]\n",
    "table_df_list[3]['자사고'] = [i.split('명')[2].split(' ')[0] for i in table_df_list[3][2]]\n",
    "table_df_list[3]['기타계(외국,영재,유학,대안)'] = [i.split('명')[3].split(' ')[0] for i in table_df_list[3][2]]\n",
    "\n",
    "table_df_list[3]['특목고계'] = [i.split('명')[0].split(' ')[0] for i in table_df_list[3][3]]\n",
    "table_df_list[3]['특목고비율(%)'] = [i.split('명')[1].split(' ')[0] for i in table_df_list[3][3]]\n",
    "\n",
    "df = table_df_list[3].drop([0,1,2,3],axis=1)"
   ]
  },
  {
   "cell_type": "code",
   "execution_count": null,
   "id": "894dd588",
   "metadata": {},
   "outputs": [],
   "source": [
    "for _ in range(iter_num):\n",
    "    driver.find_elements_by_link_text('next')[0].click()\n",
    "    time.sleep(0.5) #이거 안넣으면 다 긁기도 전에 다음페이지 클릭해버려서 에러남\n",
    "    #페이지 html\n",
    "    html = driver.page_source\n",
    "    table_df_list =pd.read_html(html)\n",
    "\n",
    "    # dataframe 정리하고 합치기\n",
    "    table_df_list[3]['학교명'] = [i.split('중학교')[0]+'중학교' for i in table_df_list[3][0]]\n",
    "    table_df_list[3]['주소'] = [i.split('중학교')[1].split(' ')[0]+\" \"+i.split('중학교')[1].split(' ')[1] for i in table_df_list[3][0]]\n",
    "\n",
    "    table_df_list[3]['총인원'] = [i.split('명')[0].split(' ')[0] for i in table_df_list[3][1]]\n",
    "    table_df_list[3]['남학생'] = [i.split('명')[1].split(' ')[0] for i in table_df_list[3][1]]\n",
    "    table_df_list[3]['여학생'] = [i.split('명')[2].split(' ')[0] for i in table_df_list[3][1]] \n",
    "\n",
    "    table_df_list[3]['과학고'] = [i.split('명')[0].split(' ')[0] for i in table_df_list[3][2]]\n",
    "    table_df_list[3]['외고/국제고'] = [i.split('명')[1].split(' ')[0] for i in table_df_list[3][2]]\n",
    "    table_df_list[3]['자사고'] = [i.split('명')[2].split(' ')[0] for i in table_df_list[3][2]]\n",
    "    table_df_list[3]['기타계(외국,영재,유학,대안)'] = [i.split('명')[3].split(' ')[0] for i in table_df_list[3][2]]\n",
    "\n",
    "    table_df_list[3]['특목고계'] = [i.split('명')[0].split(' ')[0] for i in table_df_list[3][3]]\n",
    "    table_df_list[3]['특목고비율(%)'] = [i.split('명')[1].split(' ')[0] for i in table_df_list[3][3]]\n",
    "\n",
    "    df = table_df_list[3].drop([0,1,2,3],axis=1)\n",
    "    df_final = pd.concat([df_final,df])"
   ]
  }
 ],
 "metadata": {
  "kernelspec": {
   "display_name": "Python 3",
   "language": "python",
   "name": "python3"
  },
  "language_info": {
   "codemirror_mode": {
    "name": "ipython",
    "version": 3
   },
   "file_extension": ".py",
   "mimetype": "text/x-python",
   "name": "python",
   "nbconvert_exporter": "python",
   "pygments_lexer": "ipython3",
   "version": "3.8.8"
  }
 },
 "nbformat": 4,
 "nbformat_minor": 5
}
