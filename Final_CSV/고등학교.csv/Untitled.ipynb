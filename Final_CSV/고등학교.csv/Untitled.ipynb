{
 "cells": [
  {
   "cell_type": "code",
   "execution_count": 1,
   "id": "a79d2272",
   "metadata": {},
   "outputs": [],
   "source": [
    "import pandas as pd"
   ]
  },
  {
   "cell_type": "code",
   "execution_count": 9,
   "id": "da4d8195",
   "metadata": {},
   "outputs": [],
   "source": [
    "df= pd.read_csv('part-00000-0b88bc1e-b1ea-4cc2-912c-7229d33fd7b5-c000.csv')\n",
    "df=df.groupby('주소').sum()"
   ]
  },
  {
   "cell_type": "code",
   "execution_count": 12,
   "id": "1035e96a",
   "metadata": {
    "scrolled": true
   },
   "outputs": [
    {
     "data": {
      "text/html": [
       "<div>\n",
       "<style scoped>\n",
       "    .dataframe tbody tr th:only-of-type {\n",
       "        vertical-align: middle;\n",
       "    }\n",
       "\n",
       "    .dataframe tbody tr th {\n",
       "        vertical-align: top;\n",
       "    }\n",
       "\n",
       "    .dataframe thead th {\n",
       "        text-align: right;\n",
       "    }\n",
       "</style>\n",
       "<table border=\"1\" class=\"dataframe\">\n",
       "  <thead>\n",
       "    <tr style=\"text-align: right;\">\n",
       "      <th></th>\n",
       "      <th>_c0</th>\n",
       "      <th>서울대합격자수</th>\n",
       "    </tr>\n",
       "    <tr>\n",
       "      <th>주소</th>\n",
       "      <th></th>\n",
       "      <th></th>\n",
       "    </tr>\n",
       "  </thead>\n",
       "  <tbody>\n",
       "    <tr>\n",
       "      <th>서울특별시 강남구</th>\n",
       "      <td>6061</td>\n",
       "      <td>233</td>\n",
       "    </tr>\n",
       "    <tr>\n",
       "      <th>서울특별시 종로구</th>\n",
       "      <td>91</td>\n",
       "      <td>175</td>\n",
       "    </tr>\n",
       "    <tr>\n",
       "      <th>서울특별시 서초구</th>\n",
       "      <td>2849</td>\n",
       "      <td>113</td>\n",
       "    </tr>\n",
       "    <tr>\n",
       "      <th>서울특별시 광진구</th>\n",
       "      <td>432</td>\n",
       "      <td>102</td>\n",
       "    </tr>\n",
       "    <tr>\n",
       "      <th>경기도 성남시</th>\n",
       "      <td>34074</td>\n",
       "      <td>93</td>\n",
       "    </tr>\n",
       "    <tr>\n",
       "      <th>경기도 수원시</th>\n",
       "      <td>39886</td>\n",
       "      <td>82</td>\n",
       "    </tr>\n",
       "    <tr>\n",
       "      <th>서울특별시 은평구</th>\n",
       "      <td>2475</td>\n",
       "      <td>76</td>\n",
       "    </tr>\n",
       "    <tr>\n",
       "      <th>서울특별시 강동구</th>\n",
       "      <td>4375</td>\n",
       "      <td>72</td>\n",
       "    </tr>\n",
       "    <tr>\n",
       "      <th>대구광역시 수성구</th>\n",
       "      <td>8789</td>\n",
       "      <td>68</td>\n",
       "    </tr>\n",
       "  </tbody>\n",
       "</table>\n",
       "</div>"
      ],
      "text/plain": [
       "             _c0  서울대합격자수\n",
       "주소                       \n",
       "서울특별시 강남구   6061      233\n",
       "서울특별시 종로구     91      175\n",
       "서울특별시 서초구   2849      113\n",
       "서울특별시 광진구    432      102\n",
       "경기도 성남시    34074       93\n",
       "경기도 수원시    39886       82\n",
       "서울특별시 은평구   2475       76\n",
       "서울특별시 강동구   4375       72\n",
       "대구광역시 수성구   8789       68"
      ]
     },
     "execution_count": 12,
     "metadata": {},
     "output_type": "execute_result"
    }
   ],
   "source": [
    "df.sort_values(by=['서울대합격자수'], ascending=False).head(9)"
   ]
  },
  {
   "cell_type": "code",
   "execution_count": null,
   "id": "346b9fb9",
   "metadata": {},
   "outputs": [],
   "source": []
  }
 ],
 "metadata": {
  "kernelspec": {
   "display_name": "Python 3",
   "language": "python",
   "name": "python3"
  },
  "language_info": {
   "codemirror_mode": {
    "name": "ipython",
    "version": 3
   },
   "file_extension": ".py",
   "mimetype": "text/x-python",
   "name": "python",
   "nbconvert_exporter": "python",
   "pygments_lexer": "ipython3",
   "version": "3.8.8"
  }
 },
 "nbformat": 4,
 "nbformat_minor": 5
}
