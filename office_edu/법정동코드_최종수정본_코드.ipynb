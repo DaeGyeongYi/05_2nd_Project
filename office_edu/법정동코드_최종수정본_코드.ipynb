{
 "cells": [
  {
   "cell_type": "code",
   "execution_count": 1,
   "id": "4cbc7f91",
   "metadata": {},
   "outputs": [],
   "source": [
    "import pandas as pd"
   ]
  },
  {
   "cell_type": "code",
   "execution_count": 2,
   "id": "b0dd6c84",
   "metadata": {},
   "outputs": [],
   "source": [
    "region_code = pd.read_csv(\"../Data/법정동_Data/법정동코드 전체자료.csv\",encoding='cp949',sep='\\t')"
   ]
  },
  {
   "cell_type": "code",
   "execution_count": 3,
   "id": "dc16220c",
   "metadata": {},
   "outputs": [],
   "source": [
    "idx = []\n",
    "for i in range(len(region_code)):\n",
    "    if len(region_code.법정동명[i].split(' '))<=2:\n",
    "        idx.append(i)"
   ]
  },
  {
   "cell_type": "code",
   "execution_count": 4,
   "id": "78696e84",
   "metadata": {
    "scrolled": true
   },
   "outputs": [],
   "source": [
    "region_code = region_code.iloc[idx]"
   ]
  },
  {
   "cell_type": "code",
   "execution_count": 6,
   "id": "b94ac7e2",
   "metadata": {},
   "outputs": [
    {
     "data": {
      "text/html": [
       "<div>\n",
       "<style scoped>\n",
       "    .dataframe tbody tr th:only-of-type {\n",
       "        vertical-align: middle;\n",
       "    }\n",
       "\n",
       "    .dataframe tbody tr th {\n",
       "        vertical-align: top;\n",
       "    }\n",
       "\n",
       "    .dataframe thead th {\n",
       "        text-align: right;\n",
       "    }\n",
       "</style>\n",
       "<table border=\"1\" class=\"dataframe\">\n",
       "  <thead>\n",
       "    <tr style=\"text-align: right;\">\n",
       "      <th></th>\n",
       "      <th>법정동코드</th>\n",
       "      <th>법정동명</th>\n",
       "      <th>폐지여부</th>\n",
       "    </tr>\n",
       "  </thead>\n",
       "  <tbody>\n",
       "    <tr>\n",
       "      <th>0</th>\n",
       "      <td>1100000000</td>\n",
       "      <td>서울특별시</td>\n",
       "      <td>존재</td>\n",
       "    </tr>\n",
       "    <tr>\n",
       "      <th>1</th>\n",
       "      <td>1111000000</td>\n",
       "      <td>서울특별시 종로구</td>\n",
       "      <td>존재</td>\n",
       "    </tr>\n",
       "    <tr>\n",
       "      <th>94</th>\n",
       "      <td>1114000000</td>\n",
       "      <td>서울특별시 중구</td>\n",
       "      <td>존재</td>\n",
       "    </tr>\n",
       "    <tr>\n",
       "      <th>179</th>\n",
       "      <td>1117000000</td>\n",
       "      <td>서울특별시 용산구</td>\n",
       "      <td>존재</td>\n",
       "    </tr>\n",
       "    <tr>\n",
       "      <th>229</th>\n",
       "      <td>1120000000</td>\n",
       "      <td>서울특별시 성동구</td>\n",
       "      <td>존재</td>\n",
       "    </tr>\n",
       "    <tr>\n",
       "      <th>...</th>\n",
       "      <td>...</td>\n",
       "      <td>...</td>\n",
       "      <td>...</td>\n",
       "    </tr>\n",
       "    <tr>\n",
       "      <th>45800</th>\n",
       "      <td>4971000000</td>\n",
       "      <td>제주도 북제주군</td>\n",
       "      <td>폐지</td>\n",
       "    </tr>\n",
       "    <tr>\n",
       "      <th>45958</th>\n",
       "      <td>4972000000</td>\n",
       "      <td>제주도 남제주군</td>\n",
       "      <td>폐지</td>\n",
       "    </tr>\n",
       "    <tr>\n",
       "      <th>46076</th>\n",
       "      <td>5000000000</td>\n",
       "      <td>제주특별자치도</td>\n",
       "      <td>존재</td>\n",
       "    </tr>\n",
       "    <tr>\n",
       "      <th>46077</th>\n",
       "      <td>5011000000</td>\n",
       "      <td>제주특별자치도 제주시</td>\n",
       "      <td>존재</td>\n",
       "    </tr>\n",
       "    <tr>\n",
       "      <th>46213</th>\n",
       "      <td>5013000000</td>\n",
       "      <td>제주특별자치도 서귀포시</td>\n",
       "      <td>존재</td>\n",
       "    </tr>\n",
       "  </tbody>\n",
       "</table>\n",
       "<p>419 rows × 3 columns</p>\n",
       "</div>"
      ],
      "text/plain": [
       "            법정동코드          법정동명 폐지여부\n",
       "0      1100000000         서울특별시   존재\n",
       "1      1111000000     서울특별시 종로구   존재\n",
       "94     1114000000      서울특별시 중구   존재\n",
       "179    1117000000     서울특별시 용산구   존재\n",
       "229    1120000000     서울특별시 성동구   존재\n",
       "...           ...           ...  ...\n",
       "45800  4971000000      제주도 북제주군   폐지\n",
       "45958  4972000000      제주도 남제주군   폐지\n",
       "46076  5000000000       제주특별자치도   존재\n",
       "46077  5011000000   제주특별자치도 제주시   존재\n",
       "46213  5013000000  제주특별자치도 서귀포시   존재\n",
       "\n",
       "[419 rows x 3 columns]"
      ]
     },
     "execution_count": 6,
     "metadata": {},
     "output_type": "execute_result"
    }
   ],
   "source": [
    "region_code"
   ]
  },
  {
   "cell_type": "code",
   "execution_count": 7,
   "id": "040a935e",
   "metadata": {},
   "outputs": [],
   "source": [
    "region_code.reset_index(drop=True, inplace=True)"
   ]
  },
  {
   "cell_type": "code",
   "execution_count": 8,
   "id": "61d4bc26",
   "metadata": {},
   "outputs": [],
   "source": [
    "region_code = region_code[region_code.폐지여부=='존재']"
   ]
  },
  {
   "cell_type": "code",
   "execution_count": 9,
   "id": "b1e1a40c",
   "metadata": {},
   "outputs": [],
   "source": [
    "region_code.reset_index(inplace=True,drop=True)"
   ]
  },
  {
   "cell_type": "code",
   "execution_count": 10,
   "id": "580125ed",
   "metadata": {},
   "outputs": [],
   "source": [
    "sejong_drop = region_code.loc[region_code.법정동명.str.contains('세종')][1:].index"
   ]
  },
  {
   "cell_type": "code",
   "execution_count": 11,
   "id": "00f17f29",
   "metadata": {},
   "outputs": [
    {
     "name": "stderr",
     "output_type": "stream",
     "text": [
      "C:\\Users\\ksj14\\anaconda3\\lib\\site-packages\\pandas\\core\\frame.py:4308: SettingWithCopyWarning: \n",
      "A value is trying to be set on a copy of a slice from a DataFrame\n",
      "\n",
      "See the caveats in the documentation: https://pandas.pydata.org/pandas-docs/stable/user_guide/indexing.html#returning-a-view-versus-a-copy\n",
      "  return super().drop(\n"
     ]
    }
   ],
   "source": [
    "region_code.drop(sejong_drop,axis=0,inplace=True)\n",
    "region_code.reset_index(drop=True, inplace=True)"
   ]
  },
  {
   "cell_type": "code",
   "execution_count": 12,
   "id": "8913e141",
   "metadata": {},
   "outputs": [],
   "source": [
    "idx = []\n",
    "for i in range(len(region_code)):\n",
    "    if len(region_code.법정동명[i].split(' '))==1:\n",
    "        idx.append(i)"
   ]
  },
  {
   "cell_type": "code",
   "execution_count": 13,
   "id": "2b374a7d",
   "metadata": {},
   "outputs": [],
   "source": [
    "idx.remove(81)"
   ]
  },
  {
   "cell_type": "code",
   "execution_count": 14,
   "id": "bc4e4906",
   "metadata": {},
   "outputs": [],
   "source": [
    "region_code.drop(idx,axis=0,inplace = True)"
   ]
  },
  {
   "cell_type": "code",
   "execution_count": 15,
   "id": "ac2725ee",
   "metadata": {},
   "outputs": [],
   "source": [
    "region_code.reset_index(drop=True,inplace=True)"
   ]
  },
  {
   "cell_type": "code",
   "execution_count": 16,
   "id": "9afd4002",
   "metadata": {},
   "outputs": [
    {
     "data": {
      "text/html": [
       "<div>\n",
       "<style scoped>\n",
       "    .dataframe tbody tr th:only-of-type {\n",
       "        vertical-align: middle;\n",
       "    }\n",
       "\n",
       "    .dataframe tbody tr th {\n",
       "        vertical-align: top;\n",
       "    }\n",
       "\n",
       "    .dataframe thead th {\n",
       "        text-align: right;\n",
       "    }\n",
       "</style>\n",
       "<table border=\"1\" class=\"dataframe\">\n",
       "  <thead>\n",
       "    <tr style=\"text-align: right;\">\n",
       "      <th></th>\n",
       "      <th>법정동코드</th>\n",
       "      <th>법정동명</th>\n",
       "      <th>폐지여부</th>\n",
       "    </tr>\n",
       "  </thead>\n",
       "  <tbody>\n",
       "    <tr>\n",
       "      <th>74</th>\n",
       "      <td>3611000000</td>\n",
       "      <td>세종특별자치시</td>\n",
       "      <td>존재</td>\n",
       "    </tr>\n",
       "  </tbody>\n",
       "</table>\n",
       "</div>"
      ],
      "text/plain": [
       "         법정동코드     법정동명 폐지여부\n",
       "74  3611000000  세종특별자치시   존재"
      ]
     },
     "execution_count": 16,
     "metadata": {},
     "output_type": "execute_result"
    }
   ],
   "source": [
    "region_code.loc[region_code.법정동명.str.contains('세종')]"
   ]
  },
  {
   "cell_type": "code",
   "execution_count": 17,
   "id": "48e52ebe",
   "metadata": {},
   "outputs": [
    {
     "data": {
      "text/html": [
       "<div>\n",
       "<style scoped>\n",
       "    .dataframe tbody tr th:only-of-type {\n",
       "        vertical-align: middle;\n",
       "    }\n",
       "\n",
       "    .dataframe tbody tr th {\n",
       "        vertical-align: top;\n",
       "    }\n",
       "\n",
       "    .dataframe thead th {\n",
       "        text-align: right;\n",
       "    }\n",
       "</style>\n",
       "<table border=\"1\" class=\"dataframe\">\n",
       "  <thead>\n",
       "    <tr style=\"text-align: right;\">\n",
       "      <th></th>\n",
       "      <th>법정동코드</th>\n",
       "      <th>법정동명</th>\n",
       "      <th>폐지여부</th>\n",
       "    </tr>\n",
       "  </thead>\n",
       "  <tbody>\n",
       "    <tr>\n",
       "      <th>0</th>\n",
       "      <td>1111000000</td>\n",
       "      <td>서울특별시 종로구</td>\n",
       "      <td>존재</td>\n",
       "    </tr>\n",
       "    <tr>\n",
       "      <th>1</th>\n",
       "      <td>1114000000</td>\n",
       "      <td>서울특별시 중구</td>\n",
       "      <td>존재</td>\n",
       "    </tr>\n",
       "    <tr>\n",
       "      <th>2</th>\n",
       "      <td>1117000000</td>\n",
       "      <td>서울특별시 용산구</td>\n",
       "      <td>존재</td>\n",
       "    </tr>\n",
       "    <tr>\n",
       "      <th>3</th>\n",
       "      <td>1120000000</td>\n",
       "      <td>서울특별시 성동구</td>\n",
       "      <td>존재</td>\n",
       "    </tr>\n",
       "    <tr>\n",
       "      <th>4</th>\n",
       "      <td>1121500000</td>\n",
       "      <td>서울특별시 광진구</td>\n",
       "      <td>존재</td>\n",
       "    </tr>\n",
       "    <tr>\n",
       "      <th>...</th>\n",
       "      <td>...</td>\n",
       "      <td>...</td>\n",
       "      <td>...</td>\n",
       "    </tr>\n",
       "    <tr>\n",
       "      <th>224</th>\n",
       "      <td>4887000000</td>\n",
       "      <td>경상남도 함양군</td>\n",
       "      <td>존재</td>\n",
       "    </tr>\n",
       "    <tr>\n",
       "      <th>225</th>\n",
       "      <td>4888000000</td>\n",
       "      <td>경상남도 거창군</td>\n",
       "      <td>존재</td>\n",
       "    </tr>\n",
       "    <tr>\n",
       "      <th>226</th>\n",
       "      <td>4889000000</td>\n",
       "      <td>경상남도 합천군</td>\n",
       "      <td>존재</td>\n",
       "    </tr>\n",
       "    <tr>\n",
       "      <th>227</th>\n",
       "      <td>5011000000</td>\n",
       "      <td>제주특별자치도 제주시</td>\n",
       "      <td>존재</td>\n",
       "    </tr>\n",
       "    <tr>\n",
       "      <th>228</th>\n",
       "      <td>5013000000</td>\n",
       "      <td>제주특별자치도 서귀포시</td>\n",
       "      <td>존재</td>\n",
       "    </tr>\n",
       "  </tbody>\n",
       "</table>\n",
       "<p>229 rows × 3 columns</p>\n",
       "</div>"
      ],
      "text/plain": [
       "          법정동코드          법정동명 폐지여부\n",
       "0    1111000000     서울특별시 종로구   존재\n",
       "1    1114000000      서울특별시 중구   존재\n",
       "2    1117000000     서울특별시 용산구   존재\n",
       "3    1120000000     서울특별시 성동구   존재\n",
       "4    1121500000     서울특별시 광진구   존재\n",
       "..          ...           ...  ...\n",
       "224  4887000000      경상남도 함양군   존재\n",
       "225  4888000000      경상남도 거창군   존재\n",
       "226  4889000000      경상남도 합천군   존재\n",
       "227  5011000000   제주특별자치도 제주시   존재\n",
       "228  5013000000  제주특별자치도 서귀포시   존재\n",
       "\n",
       "[229 rows x 3 columns]"
      ]
     },
     "execution_count": 17,
     "metadata": {},
     "output_type": "execute_result"
    }
   ],
   "source": [
    "region_code"
   ]
  },
  {
   "cell_type": "code",
   "execution_count": 58,
   "id": "e3f1aa4d",
   "metadata": {},
   "outputs": [],
   "source": [
    "ind=[]\n",
    "for i in range(len(region_code)) :\n",
    "    if region_code['법정동명'][i]=='세종특별자치시' :\n",
    "        ind.append('세종특별자치시')\n",
    "    elif len(region_code['법정동명'][i].split(' ')[0])==4:\n",
    "        ind.append(list(region_code['법정동명'][i].split(' ')[0])[0] +list(region_code['법정동명'][i].split(' ')[0])[2] +' '+ region_code['법정동명'][i].split(' ')[1])\n",
    "    else :\n",
    "        ind.append(\"\".join(list(region_code['법정동명'][i].split(' ')[0])[:2]) +' '+ region_code['법정동명'][i].split(' ')[1])\n",
    "                                                                        "
   ]
  },
  {
   "cell_type": "code",
   "execution_count": 59,
   "id": "19743748",
   "metadata": {},
   "outputs": [
    {
     "name": "stderr",
     "output_type": "stream",
     "text": [
      "<ipython-input-59-4f620337227c>:1: SettingWithCopyWarning: \n",
      "A value is trying to be set on a copy of a slice from a DataFrame.\n",
      "Try using .loc[row_indexer,col_indexer] = value instead\n",
      "\n",
      "See the caveats in the documentation: https://pandas.pydata.org/pandas-docs/stable/user_guide/indexing.html#returning-a-view-versus-a-copy\n",
      "  region_code['법정동_short']=ind\n"
     ]
    }
   ],
   "source": [
    "region_code['법정동_short']=ind"
   ]
  },
  {
   "cell_type": "code",
   "execution_count": 60,
   "id": "dc9d8f36",
   "metadata": {},
   "outputs": [
    {
     "data": {
      "text/html": [
       "<div>\n",
       "<style scoped>\n",
       "    .dataframe tbody tr th:only-of-type {\n",
       "        vertical-align: middle;\n",
       "    }\n",
       "\n",
       "    .dataframe tbody tr th {\n",
       "        vertical-align: top;\n",
       "    }\n",
       "\n",
       "    .dataframe thead th {\n",
       "        text-align: right;\n",
       "    }\n",
       "</style>\n",
       "<table border=\"1\" class=\"dataframe\">\n",
       "  <thead>\n",
       "    <tr style=\"text-align: right;\">\n",
       "      <th></th>\n",
       "      <th>법정동코드</th>\n",
       "      <th>법정동명</th>\n",
       "      <th>폐지여부</th>\n",
       "      <th>법정동_short</th>\n",
       "    </tr>\n",
       "  </thead>\n",
       "  <tbody>\n",
       "    <tr>\n",
       "      <th>0</th>\n",
       "      <td>1111000000</td>\n",
       "      <td>서울특별시 종로구</td>\n",
       "      <td>존재</td>\n",
       "      <td>서울 종로구</td>\n",
       "    </tr>\n",
       "    <tr>\n",
       "      <th>1</th>\n",
       "      <td>1114000000</td>\n",
       "      <td>서울특별시 중구</td>\n",
       "      <td>존재</td>\n",
       "      <td>서울 중구</td>\n",
       "    </tr>\n",
       "    <tr>\n",
       "      <th>2</th>\n",
       "      <td>1117000000</td>\n",
       "      <td>서울특별시 용산구</td>\n",
       "      <td>존재</td>\n",
       "      <td>서울 용산구</td>\n",
       "    </tr>\n",
       "    <tr>\n",
       "      <th>3</th>\n",
       "      <td>1120000000</td>\n",
       "      <td>서울특별시 성동구</td>\n",
       "      <td>존재</td>\n",
       "      <td>서울 성동구</td>\n",
       "    </tr>\n",
       "    <tr>\n",
       "      <th>4</th>\n",
       "      <td>1121500000</td>\n",
       "      <td>서울특별시 광진구</td>\n",
       "      <td>존재</td>\n",
       "      <td>서울 광진구</td>\n",
       "    </tr>\n",
       "    <tr>\n",
       "      <th>...</th>\n",
       "      <td>...</td>\n",
       "      <td>...</td>\n",
       "      <td>...</td>\n",
       "      <td>...</td>\n",
       "    </tr>\n",
       "    <tr>\n",
       "      <th>224</th>\n",
       "      <td>4887000000</td>\n",
       "      <td>경상남도 함양군</td>\n",
       "      <td>존재</td>\n",
       "      <td>경남 함양군</td>\n",
       "    </tr>\n",
       "    <tr>\n",
       "      <th>225</th>\n",
       "      <td>4888000000</td>\n",
       "      <td>경상남도 거창군</td>\n",
       "      <td>존재</td>\n",
       "      <td>경남 거창군</td>\n",
       "    </tr>\n",
       "    <tr>\n",
       "      <th>226</th>\n",
       "      <td>4889000000</td>\n",
       "      <td>경상남도 합천군</td>\n",
       "      <td>존재</td>\n",
       "      <td>경남 합천군</td>\n",
       "    </tr>\n",
       "    <tr>\n",
       "      <th>227</th>\n",
       "      <td>5011000000</td>\n",
       "      <td>제주특별자치도 제주시</td>\n",
       "      <td>존재</td>\n",
       "      <td>제주 제주시</td>\n",
       "    </tr>\n",
       "    <tr>\n",
       "      <th>228</th>\n",
       "      <td>5013000000</td>\n",
       "      <td>제주특별자치도 서귀포시</td>\n",
       "      <td>존재</td>\n",
       "      <td>제주 서귀포시</td>\n",
       "    </tr>\n",
       "  </tbody>\n",
       "</table>\n",
       "<p>229 rows × 4 columns</p>\n",
       "</div>"
      ],
      "text/plain": [
       "          법정동코드          법정동명 폐지여부 법정동_short\n",
       "0    1111000000     서울특별시 종로구   존재    서울 종로구\n",
       "1    1114000000      서울특별시 중구   존재     서울 중구\n",
       "2    1117000000     서울특별시 용산구   존재    서울 용산구\n",
       "3    1120000000     서울특별시 성동구   존재    서울 성동구\n",
       "4    1121500000     서울특별시 광진구   존재    서울 광진구\n",
       "..          ...           ...  ...       ...\n",
       "224  4887000000      경상남도 함양군   존재    경남 함양군\n",
       "225  4888000000      경상남도 거창군   존재    경남 거창군\n",
       "226  4889000000      경상남도 합천군   존재    경남 합천군\n",
       "227  5011000000   제주특별자치도 제주시   존재    제주 제주시\n",
       "228  5013000000  제주특별자치도 서귀포시   존재   제주 서귀포시\n",
       "\n",
       "[229 rows x 4 columns]"
      ]
     },
     "execution_count": 60,
     "metadata": {},
     "output_type": "execute_result"
    }
   ],
   "source": [
    "region_code"
   ]
  },
  {
   "cell_type": "code",
   "execution_count": 62,
   "id": "0aced29e",
   "metadata": {},
   "outputs": [
    {
     "data": {
      "text/plain": [
       "[1111000000, 1114000000, 1117000000, 1120000000, 1121500000]"
      ]
     },
     "execution_count": 62,
     "metadata": {},
     "output_type": "execute_result"
    }
   ],
   "source": [
    "for i in range(len(region_code)):\n",
    "    region_code['법정동코드'=list(region_code['법정동코드'][i])[:5]"
   ]
  },
  {
   "cell_type": "code",
   "execution_count": null,
   "id": "b24cb1fa",
   "metadata": {},
   "outputs": [],
   "source": []
  },
  {
   "cell_type": "code",
   "execution_count": 54,
   "id": "c00db77a",
   "metadata": {},
   "outputs": [
    {
     "data": {
      "text/plain": [
       "'서특'"
      ]
     },
     "execution_count": 54,
     "metadata": {},
     "output_type": "execute_result"
    }
   ],
   "source": [
    "list(region_code['법정동명'][i].split(' ')[0])[0] +list(region_code['법정동명'][i].split(' ')[0])[2]"
   ]
  },
  {
   "cell_type": "code",
   "execution_count": 47,
   "id": "458bb12d",
   "metadata": {},
   "outputs": [
    {
     "ename": "TypeError",
     "evalue": "list indices must be integers or slices, not tuple",
     "output_type": "error",
     "traceback": [
      "\u001b[1;31m---------------------------------------------------------------------------\u001b[0m",
      "\u001b[1;31mTypeError\u001b[0m                                 Traceback (most recent call last)",
      "\u001b[1;32m<ipython-input-47-7243f593702e>\u001b[0m in \u001b[0;36m<module>\u001b[1;34m\u001b[0m\n\u001b[1;32m----> 1\u001b[1;33m \u001b[1;34m\"\"\u001b[0m\u001b[1;33m.\u001b[0m\u001b[0mjoin\u001b[0m\u001b[1;33m(\u001b[0m\u001b[0mlist\u001b[0m\u001b[1;33m(\u001b[0m\u001b[0mregion_code\u001b[0m\u001b[1;33m[\u001b[0m\u001b[1;34m'법정동명'\u001b[0m\u001b[1;33m]\u001b[0m\u001b[1;33m[\u001b[0m\u001b[1;36m1\u001b[0m\u001b[1;33m]\u001b[0m\u001b[1;33m.\u001b[0m\u001b[0msplit\u001b[0m\u001b[1;33m(\u001b[0m\u001b[1;34m' '\u001b[0m\u001b[1;33m)\u001b[0m\u001b[1;33m[\u001b[0m\u001b[1;36m0\u001b[0m\u001b[1;33m]\u001b[0m\u001b[1;33m)\u001b[0m\u001b[1;33m[\u001b[0m\u001b[1;36m0\u001b[0m\u001b[1;33m,\u001b[0m\u001b[1;36m2\u001b[0m\u001b[1;33m]\u001b[0m\u001b[1;33m)\u001b[0m \u001b[1;33m+\u001b[0m \u001b[0mregion_code\u001b[0m\u001b[1;33m[\u001b[0m\u001b[1;34m'법정동명'\u001b[0m\u001b[1;33m]\u001b[0m\u001b[1;33m[\u001b[0m\u001b[1;36m1\u001b[0m\u001b[1;33m]\u001b[0m\u001b[1;33m.\u001b[0m\u001b[0msplit\u001b[0m\u001b[1;33m(\u001b[0m\u001b[1;34m' '\u001b[0m\u001b[1;33m)\u001b[0m\u001b[1;33m[\u001b[0m\u001b[1;36m1\u001b[0m\u001b[1;33m]\u001b[0m\u001b[1;33m\u001b[0m\u001b[1;33m\u001b[0m\u001b[0m\n\u001b[0m",
      "\u001b[1;31mTypeError\u001b[0m: list indices must be integers or slices, not tuple"
     ]
    }
   ],
   "source": [
    "\"\".join(list(region_code['법정동명'][1].split(' ')[0])[0,2]) + region_code['법정동명'][1].split(' ')[1]"
   ]
  },
  {
   "cell_type": "code",
   "execution_count": 61,
   "id": "31bb4d9b",
   "metadata": {},
   "outputs": [],
   "source": [
    "region_code.to_csv(\"../Data/법정동_Data/법정동코드_최종본.csv\")"
   ]
  },
  {
   "cell_type": "code",
   "execution_count": null,
   "id": "b509f84b",
   "metadata": {},
   "outputs": [],
   "source": []
  }
 ],
 "metadata": {
  "kernelspec": {
   "display_name": "Python 3",
   "language": "python",
   "name": "python3"
  },
  "language_info": {
   "codemirror_mode": {
    "name": "ipython",
    "version": 3
   },
   "file_extension": ".py",
   "mimetype": "text/x-python",
   "name": "python",
   "nbconvert_exporter": "python",
   "pygments_lexer": "ipython3",
   "version": "3.8.8"
  }
 },
 "nbformat": 4,
 "nbformat_minor": 5
}
