{
 "cells": [
  {
   "cell_type": "code",
   "execution_count": 12,
   "id": "351c50cd",
   "metadata": {},
   "outputs": [],
   "source": [
    "import pandas as pd\n",
    "import numpy as np\n",
    "from IPython.core.interactiveshell import InteractiveShell\n",
    "InteractiveShell.ast_node_interactivity = \"all\""
   ]
  },
  {
   "cell_type": "code",
   "execution_count": 14,
   "id": "439ecee9",
   "metadata": {},
   "outputs": [
    {
     "data": {
      "text/html": [
       "<div>\n",
       "<style scoped>\n",
       "    .dataframe tbody tr th:only-of-type {\n",
       "        vertical-align: middle;\n",
       "    }\n",
       "\n",
       "    .dataframe tbody tr th {\n",
       "        vertical-align: top;\n",
       "    }\n",
       "\n",
       "    .dataframe thead th {\n",
       "        text-align: right;\n",
       "    }\n",
       "</style>\n",
       "<table border=\"1\" class=\"dataframe\">\n",
       "  <thead>\n",
       "    <tr style=\"text-align: right;\">\n",
       "      <th></th>\n",
       "      <th>구분;당초예산;구성비(%);증감액(B-A);증감률((B-A)/A)</th>\n",
       "      <th>Unnamed: 1</th>\n",
       "      <th>Unnamed: 2</th>\n",
       "      <th>Unnamed: 3</th>\n",
       "      <th>Unnamed: 4</th>\n",
       "      <th>Unnamed: 5</th>\n",
       "      <th>Unnamed: 6</th>\n",
       "    </tr>\n",
       "  </thead>\n",
       "  <tbody>\n",
       "    <tr>\n",
       "      <th>0</th>\n",
       "      <td>전체;55</td>\n",
       "      <td>73</td>\n",
       "      <td>394;59</td>\n",
       "      <td>66</td>\n",
       "      <td>215;3</td>\n",
       "      <td>992</td>\n",
       "      <td>821;0.07</td>\n",
       "    </tr>\n",
       "    <tr>\n",
       "      <th>1</th>\n",
       "      <td>서울;7</td>\n",
       "      <td>852</td>\n",
       "      <td>159;8</td>\n",
       "      <td>147</td>\n",
       "      <td>725;295</td>\n",
       "      <td>565;0.03</td>\n",
       "      <td>NaN</td>\n",
       "    </tr>\n",
       "    <tr>\n",
       "      <th>2</th>\n",
       "      <td>부산;3</td>\n",
       "      <td>396</td>\n",
       "      <td>531;3</td>\n",
       "      <td>635</td>\n",
       "      <td>672;239</td>\n",
       "      <td>141;0.07</td>\n",
       "      <td>NaN</td>\n",
       "    </tr>\n",
       "    <tr>\n",
       "      <th>3</th>\n",
       "      <td>대구;2</td>\n",
       "      <td>624</td>\n",
       "      <td>925;2</td>\n",
       "      <td>943</td>\n",
       "      <td>500;318</td>\n",
       "      <td>575;0.12</td>\n",
       "      <td>NaN</td>\n",
       "    </tr>\n",
       "    <tr>\n",
       "      <th>4</th>\n",
       "      <td>인천;2</td>\n",
       "      <td>868</td>\n",
       "      <td>765;3</td>\n",
       "      <td>132</td>\n",
       "      <td>755;263</td>\n",
       "      <td>990;0.09</td>\n",
       "      <td>NaN</td>\n",
       "    </tr>\n",
       "  </tbody>\n",
       "</table>\n",
       "</div>"
      ],
      "text/plain": [
       "  구분;당초예산;구성비(%);증감액(B-A);증감률((B-A)/A) Unnamed: 1 Unnamed: 2 Unnamed: 3  \\\n",
       "0                                전체;55         73     394;59         66   \n",
       "1                                 서울;7        852      159;8        147   \n",
       "2                                 부산;3        396      531;3        635   \n",
       "3                                 대구;2        624      925;2        943   \n",
       "4                                 인천;2        868      765;3        132   \n",
       "\n",
       "  Unnamed: 4 Unnamed: 5 Unnamed: 6  \n",
       "0      215;3        992   821;0.07  \n",
       "1    725;295   565;0.03        NaN  \n",
       "2    672;239   141;0.07        NaN  \n",
       "3    500;318   575;0.12        NaN  \n",
       "4    755;263   990;0.09        NaN  "
      ]
     },
     "execution_count": 14,
     "metadata": {},
     "output_type": "execute_result"
    }
   ],
   "source": [
    "\n",
    "data = pd.read_csv('money/2017_교육청별 예산규모.csv',  encoding ='utf-8')\n",
    " \n",
    "data.head()"
   ]
  },
  {
   "cell_type": "code",
   "execution_count": null,
   "id": "5014354d",
   "metadata": {},
   "outputs": [],
   "source": []
  },
  {
   "cell_type": "code",
   "execution_count": null,
   "id": "69d72232",
   "metadata": {},
   "outputs": [],
   "source": []
  },
  {
   "cell_type": "code",
   "execution_count": null,
   "id": "14b7d8f9",
   "metadata": {},
   "outputs": [],
   "source": []
  },
  {
   "cell_type": "code",
   "execution_count": null,
   "id": "2dd8a16e",
   "metadata": {},
   "outputs": [],
   "source": []
  },
  {
   "cell_type": "code",
   "execution_count": null,
   "id": "14f48ac4",
   "metadata": {},
   "outputs": [],
   "source": []
  }
 ],
 "metadata": {
  "kernelspec": {
   "display_name": "Python 3",
   "language": "python",
   "name": "python3"
  },
  "language_info": {
   "codemirror_mode": {
    "name": "ipython",
    "version": 3
   },
   "file_extension": ".py",
   "mimetype": "text/x-python",
   "name": "python",
   "nbconvert_exporter": "python",
   "pygments_lexer": "ipython3",
   "version": "3.8.8"
  }
 },
 "nbformat": 4,
 "nbformat_minor": 5
}
