{
 "cells": [
  {
   "cell_type": "code",
   "execution_count": 194,
   "id": "934748e8",
   "metadata": {},
   "outputs": [],
   "source": [
    "from urllib.parse import quote_plus, urlencode\n",
    "from urllib.request import urlopen, Request\n",
    "import xml.etree.ElementTree as ET\n",
    "import json\n",
    "import pandas as pd\n",
    "import numpy as np\n",
    "import os\n",
    "import glob\n",
    "from IPython.core.interactiveshell import InteractiveShell\n",
    "InteractiveShell.ast_node_interactivity = \"all\""
   ]
  },
  {
   "cell_type": "code",
   "execution_count": 195,
   "id": "a69b3a32",
   "metadata": {},
   "outputs": [
    {
     "data": {
      "text/html": [
       "<div>\n",
       "<style scoped>\n",
       "    .dataframe tbody tr th:only-of-type {\n",
       "        vertical-align: middle;\n",
       "    }\n",
       "\n",
       "    .dataframe tbody tr th {\n",
       "        vertical-align: top;\n",
       "    }\n",
       "\n",
       "    .dataframe thead th {\n",
       "        text-align: right;\n",
       "    }\n",
       "</style>\n",
       "<table border=\"1\" class=\"dataframe\">\n",
       "  <thead>\n",
       "    <tr style=\"text-align: right;\">\n",
       "      <th></th>\n",
       "      <th>시도코드</th>\n",
       "      <th>시도명칭</th>\n",
       "      <th>시군구코드</th>\n",
       "      <th>시군구명칭</th>\n",
       "    </tr>\n",
       "  </thead>\n",
       "  <tbody>\n",
       "    <tr>\n",
       "      <th>0</th>\n",
       "      <td>11</td>\n",
       "      <td>서울특별시</td>\n",
       "      <td>11010</td>\n",
       "      <td>종로구</td>\n",
       "    </tr>\n",
       "    <tr>\n",
       "      <th>1</th>\n",
       "      <td>11</td>\n",
       "      <td>서울특별시</td>\n",
       "      <td>11010</td>\n",
       "      <td>종로구</td>\n",
       "    </tr>\n",
       "    <tr>\n",
       "      <th>2</th>\n",
       "      <td>11</td>\n",
       "      <td>서울특별시</td>\n",
       "      <td>11010</td>\n",
       "      <td>종로구</td>\n",
       "    </tr>\n",
       "    <tr>\n",
       "      <th>3</th>\n",
       "      <td>11</td>\n",
       "      <td>서울특별시</td>\n",
       "      <td>11010</td>\n",
       "      <td>종로구</td>\n",
       "    </tr>\n",
       "    <tr>\n",
       "      <th>4</th>\n",
       "      <td>11</td>\n",
       "      <td>서울특별시</td>\n",
       "      <td>11010</td>\n",
       "      <td>종로구</td>\n",
       "    </tr>\n",
       "  </tbody>\n",
       "</table>\n",
       "</div>"
      ],
      "text/plain": [
       "   시도코드   시도명칭  시군구코드 시군구명칭\n",
       "0    11  서울특별시  11010   종로구\n",
       "1    11  서울특별시  11010   종로구\n",
       "2    11  서울특별시  11010   종로구\n",
       "3    11  서울특별시  11010   종로구\n",
       "4    11  서울특별시  11010   종로구"
      ]
     },
     "execution_count": 195,
     "metadata": {},
     "output_type": "execute_result"
    }
   ],
   "source": [
    "df=pd.read_excel('number/adm_code.xls', usecols=[0,1,2,3], header=1)\n",
    "df.head()"
   ]
  },
  {
   "cell_type": "code",
   "execution_count": 196,
   "id": "c96b255d",
   "metadata": {},
   "outputs": [
    {
     "data": {
      "text/plain": [
       "3493"
      ]
     },
     "execution_count": 196,
     "metadata": {},
     "output_type": "execute_result"
    }
   ],
   "source": [
    "imd=[]\n",
    "for i in range(len(df)):\n",
    "    st=df['시군구명칭'][i].split(' ')[0]\n",
    "    if st=='세종시' :\n",
    "        imd.append('세종특별자치시')\n",
    "    else:\n",
    "        imd.append(st)\n",
    "len(imd)\n",
    "df['법정동명']= df['시도명칭']+' ' + imd"
   ]
  },
  {
   "cell_type": "code",
   "execution_count": 197,
   "id": "00402489",
   "metadata": {},
   "outputs": [
    {
     "data": {
      "text/html": [
       "<div>\n",
       "<style scoped>\n",
       "    .dataframe tbody tr th:only-of-type {\n",
       "        vertical-align: middle;\n",
       "    }\n",
       "\n",
       "    .dataframe tbody tr th {\n",
       "        vertical-align: top;\n",
       "    }\n",
       "\n",
       "    .dataframe thead th {\n",
       "        text-align: right;\n",
       "    }\n",
       "</style>\n",
       "<table border=\"1\" class=\"dataframe\">\n",
       "  <thead>\n",
       "    <tr style=\"text-align: right;\">\n",
       "      <th></th>\n",
       "      <th>시도코드</th>\n",
       "      <th>시도명칭</th>\n",
       "      <th>시군구코드</th>\n",
       "      <th>시군구명칭</th>\n",
       "      <th>법정동명</th>\n",
       "    </tr>\n",
       "  </thead>\n",
       "  <tbody>\n",
       "    <tr>\n",
       "      <th>0</th>\n",
       "      <td>11</td>\n",
       "      <td>서울특별시</td>\n",
       "      <td>11010</td>\n",
       "      <td>종로구</td>\n",
       "      <td>서울특별시 종로구</td>\n",
       "    </tr>\n",
       "    <tr>\n",
       "      <th>17</th>\n",
       "      <td>11</td>\n",
       "      <td>서울특별시</td>\n",
       "      <td>11020</td>\n",
       "      <td>중구</td>\n",
       "      <td>서울특별시 중구</td>\n",
       "    </tr>\n",
       "    <tr>\n",
       "      <th>32</th>\n",
       "      <td>11</td>\n",
       "      <td>서울특별시</td>\n",
       "      <td>11030</td>\n",
       "      <td>용산구</td>\n",
       "      <td>서울특별시 용산구</td>\n",
       "    </tr>\n",
       "    <tr>\n",
       "      <th>48</th>\n",
       "      <td>11</td>\n",
       "      <td>서울특별시</td>\n",
       "      <td>11040</td>\n",
       "      <td>성동구</td>\n",
       "      <td>서울특별시 성동구</td>\n",
       "    </tr>\n",
       "    <tr>\n",
       "      <th>65</th>\n",
       "      <td>11</td>\n",
       "      <td>서울특별시</td>\n",
       "      <td>11050</td>\n",
       "      <td>광진구</td>\n",
       "      <td>서울특별시 광진구</td>\n",
       "    </tr>\n",
       "    <tr>\n",
       "      <th>...</th>\n",
       "      <td>...</td>\n",
       "      <td>...</td>\n",
       "      <td>...</td>\n",
       "      <td>...</td>\n",
       "      <td>...</td>\n",
       "    </tr>\n",
       "    <tr>\n",
       "      <th>3410</th>\n",
       "      <td>38</td>\n",
       "      <td>경상남도</td>\n",
       "      <td>38380</td>\n",
       "      <td>함양군</td>\n",
       "      <td>경상남도 함양군</td>\n",
       "    </tr>\n",
       "    <tr>\n",
       "      <th>3421</th>\n",
       "      <td>38</td>\n",
       "      <td>경상남도</td>\n",
       "      <td>38390</td>\n",
       "      <td>거창군</td>\n",
       "      <td>경상남도 거창군</td>\n",
       "    </tr>\n",
       "    <tr>\n",
       "      <th>3433</th>\n",
       "      <td>38</td>\n",
       "      <td>경상남도</td>\n",
       "      <td>38400</td>\n",
       "      <td>합천군</td>\n",
       "      <td>경상남도 합천군</td>\n",
       "    </tr>\n",
       "    <tr>\n",
       "      <th>3450</th>\n",
       "      <td>39</td>\n",
       "      <td>제주특별자치도</td>\n",
       "      <td>39010</td>\n",
       "      <td>제주시</td>\n",
       "      <td>제주특별자치도 제주시</td>\n",
       "    </tr>\n",
       "    <tr>\n",
       "      <th>3476</th>\n",
       "      <td>39</td>\n",
       "      <td>제주특별자치도</td>\n",
       "      <td>39020</td>\n",
       "      <td>서귀포시</td>\n",
       "      <td>제주특별자치도 서귀포시</td>\n",
       "    </tr>\n",
       "  </tbody>\n",
       "</table>\n",
       "<p>229 rows × 5 columns</p>\n",
       "</div>"
      ],
      "text/plain": [
       "      시도코드     시도명칭  시군구코드 시군구명칭          법정동명\n",
       "0       11    서울특별시  11010   종로구     서울특별시 종로구\n",
       "17      11    서울특별시  11020    중구      서울특별시 중구\n",
       "32      11    서울특별시  11030   용산구     서울특별시 용산구\n",
       "48      11    서울특별시  11040   성동구     서울특별시 성동구\n",
       "65      11    서울특별시  11050   광진구     서울특별시 광진구\n",
       "...    ...      ...    ...   ...           ...\n",
       "3410    38     경상남도  38380   함양군      경상남도 함양군\n",
       "3421    38     경상남도  38390   거창군      경상남도 거창군\n",
       "3433    38     경상남도  38400   합천군      경상남도 합천군\n",
       "3450    39  제주특별자치도  39010   제주시   제주특별자치도 제주시\n",
       "3476    39  제주특별자치도  39020  서귀포시  제주특별자치도 서귀포시\n",
       "\n",
       "[229 rows x 5 columns]"
      ]
     },
     "execution_count": 197,
     "metadata": {},
     "output_type": "execute_result"
    }
   ],
   "source": [
    "df=df.drop_duplicates(['법정동명'])\n",
    "df"
   ]
  },
  {
   "cell_type": "code",
   "execution_count": null,
   "id": "21c91b7d",
   "metadata": {},
   "outputs": [],
   "source": []
  },
  {
   "cell_type": "code",
   "execution_count": 198,
   "id": "1f5a1802",
   "metadata": {},
   "outputs": [],
   "source": [
    "df=df.reset_index(drop=True)\n"
   ]
  },
  {
   "cell_type": "code",
   "execution_count": 209,
   "id": "7bfafcc1",
   "metadata": {},
   "outputs": [],
   "source": [
    "df.drop(['시도명칭', '시군구명칭'], axis=1, inplace =True)"
   ]
  },
  {
   "cell_type": "code",
   "execution_count": 210,
   "id": "fc544279",
   "metadata": {},
   "outputs": [
    {
     "data": {
      "text/html": [
       "<div>\n",
       "<style scoped>\n",
       "    .dataframe tbody tr th:only-of-type {\n",
       "        vertical-align: middle;\n",
       "    }\n",
       "\n",
       "    .dataframe tbody tr th {\n",
       "        vertical-align: top;\n",
       "    }\n",
       "\n",
       "    .dataframe thead th {\n",
       "        text-align: right;\n",
       "    }\n",
       "</style>\n",
       "<table border=\"1\" class=\"dataframe\">\n",
       "  <thead>\n",
       "    <tr style=\"text-align: right;\">\n",
       "      <th></th>\n",
       "      <th>시도코드</th>\n",
       "      <th>시군구코드</th>\n",
       "      <th>법정동명</th>\n",
       "    </tr>\n",
       "  </thead>\n",
       "  <tbody>\n",
       "    <tr>\n",
       "      <th>0</th>\n",
       "      <td>11</td>\n",
       "      <td>11010</td>\n",
       "      <td>서울특별시 종로구</td>\n",
       "    </tr>\n",
       "    <tr>\n",
       "      <th>1</th>\n",
       "      <td>11</td>\n",
       "      <td>11020</td>\n",
       "      <td>서울특별시 중구</td>\n",
       "    </tr>\n",
       "    <tr>\n",
       "      <th>2</th>\n",
       "      <td>11</td>\n",
       "      <td>11030</td>\n",
       "      <td>서울특별시 용산구</td>\n",
       "    </tr>\n",
       "    <tr>\n",
       "      <th>3</th>\n",
       "      <td>11</td>\n",
       "      <td>11040</td>\n",
       "      <td>서울특별시 성동구</td>\n",
       "    </tr>\n",
       "    <tr>\n",
       "      <th>4</th>\n",
       "      <td>11</td>\n",
       "      <td>11050</td>\n",
       "      <td>서울특별시 광진구</td>\n",
       "    </tr>\n",
       "    <tr>\n",
       "      <th>...</th>\n",
       "      <td>...</td>\n",
       "      <td>...</td>\n",
       "      <td>...</td>\n",
       "    </tr>\n",
       "    <tr>\n",
       "      <th>224</th>\n",
       "      <td>38</td>\n",
       "      <td>38380</td>\n",
       "      <td>경상남도 함양군</td>\n",
       "    </tr>\n",
       "    <tr>\n",
       "      <th>225</th>\n",
       "      <td>38</td>\n",
       "      <td>38390</td>\n",
       "      <td>경상남도 거창군</td>\n",
       "    </tr>\n",
       "    <tr>\n",
       "      <th>226</th>\n",
       "      <td>38</td>\n",
       "      <td>38400</td>\n",
       "      <td>경상남도 합천군</td>\n",
       "    </tr>\n",
       "    <tr>\n",
       "      <th>227</th>\n",
       "      <td>39</td>\n",
       "      <td>39010</td>\n",
       "      <td>제주특별자치도 제주시</td>\n",
       "    </tr>\n",
       "    <tr>\n",
       "      <th>228</th>\n",
       "      <td>39</td>\n",
       "      <td>39020</td>\n",
       "      <td>제주특별자치도 서귀포시</td>\n",
       "    </tr>\n",
       "  </tbody>\n",
       "</table>\n",
       "<p>229 rows × 3 columns</p>\n",
       "</div>"
      ],
      "text/plain": [
       "     시도코드  시군구코드          법정동명\n",
       "0      11  11010     서울특별시 종로구\n",
       "1      11  11020      서울특별시 중구\n",
       "2      11  11030     서울특별시 용산구\n",
       "3      11  11040     서울특별시 성동구\n",
       "4      11  11050     서울특별시 광진구\n",
       "..    ...    ...           ...\n",
       "224    38  38380      경상남도 함양군\n",
       "225    38  38390      경상남도 거창군\n",
       "226    38  38400      경상남도 합천군\n",
       "227    39  39010   제주특별자치도 제주시\n",
       "228    39  39020  제주특별자치도 서귀포시\n",
       "\n",
       "[229 rows x 3 columns]"
      ]
     },
     "execution_count": 210,
     "metadata": {},
     "output_type": "execute_result"
    }
   ],
   "source": [
    "df"
   ]
  },
  {
   "cell_type": "code",
   "execution_count": 211,
   "id": "61e1b1f5",
   "metadata": {},
   "outputs": [],
   "source": [
    "df.to_csv('result/시군구코드_최종.csv')"
   ]
  },
  {
   "cell_type": "code",
   "execution_count": 200,
   "id": "bbd103c9",
   "metadata": {
    "scrolled": true
   },
   "outputs": [
    {
     "data": {
      "text/html": [
       "<div>\n",
       "<style scoped>\n",
       "    .dataframe tbody tr th:only-of-type {\n",
       "        vertical-align: middle;\n",
       "    }\n",
       "\n",
       "    .dataframe tbody tr th {\n",
       "        vertical-align: top;\n",
       "    }\n",
       "\n",
       "    .dataframe thead th {\n",
       "        text-align: right;\n",
       "    }\n",
       "</style>\n",
       "<table border=\"1\" class=\"dataframe\">\n",
       "  <thead>\n",
       "    <tr style=\"text-align: right;\">\n",
       "      <th></th>\n",
       "      <th>법정동코드</th>\n",
       "      <th>법정동명</th>\n",
       "      <th>폐지여부</th>\n",
       "    </tr>\n",
       "  </thead>\n",
       "  <tbody>\n",
       "    <tr>\n",
       "      <th>0</th>\n",
       "      <td>1111000000</td>\n",
       "      <td>서울특별시 종로구</td>\n",
       "      <td>존재</td>\n",
       "    </tr>\n",
       "    <tr>\n",
       "      <th>1</th>\n",
       "      <td>1114000000</td>\n",
       "      <td>서울특별시 중구</td>\n",
       "      <td>존재</td>\n",
       "    </tr>\n",
       "    <tr>\n",
       "      <th>2</th>\n",
       "      <td>1117000000</td>\n",
       "      <td>서울특별시 용산구</td>\n",
       "      <td>존재</td>\n",
       "    </tr>\n",
       "    <tr>\n",
       "      <th>3</th>\n",
       "      <td>1120000000</td>\n",
       "      <td>서울특별시 성동구</td>\n",
       "      <td>존재</td>\n",
       "    </tr>\n",
       "    <tr>\n",
       "      <th>4</th>\n",
       "      <td>1121500000</td>\n",
       "      <td>서울특별시 광진구</td>\n",
       "      <td>존재</td>\n",
       "    </tr>\n",
       "    <tr>\n",
       "      <th>...</th>\n",
       "      <td>...</td>\n",
       "      <td>...</td>\n",
       "      <td>...</td>\n",
       "    </tr>\n",
       "    <tr>\n",
       "      <th>224</th>\n",
       "      <td>4887000000</td>\n",
       "      <td>경상남도 함양군</td>\n",
       "      <td>존재</td>\n",
       "    </tr>\n",
       "    <tr>\n",
       "      <th>225</th>\n",
       "      <td>4888000000</td>\n",
       "      <td>경상남도 거창군</td>\n",
       "      <td>존재</td>\n",
       "    </tr>\n",
       "    <tr>\n",
       "      <th>226</th>\n",
       "      <td>4889000000</td>\n",
       "      <td>경상남도 합천군</td>\n",
       "      <td>존재</td>\n",
       "    </tr>\n",
       "    <tr>\n",
       "      <th>227</th>\n",
       "      <td>5011000000</td>\n",
       "      <td>제주특별자치도 제주시</td>\n",
       "      <td>존재</td>\n",
       "    </tr>\n",
       "    <tr>\n",
       "      <th>228</th>\n",
       "      <td>5013000000</td>\n",
       "      <td>제주특별자치도 서귀포시</td>\n",
       "      <td>존재</td>\n",
       "    </tr>\n",
       "  </tbody>\n",
       "</table>\n",
       "<p>229 rows × 3 columns</p>\n",
       "</div>"
      ],
      "text/plain": [
       "          법정동코드          법정동명 폐지여부\n",
       "0    1111000000     서울특별시 종로구   존재\n",
       "1    1114000000      서울특별시 중구   존재\n",
       "2    1117000000     서울특별시 용산구   존재\n",
       "3    1120000000     서울특별시 성동구   존재\n",
       "4    1121500000     서울특별시 광진구   존재\n",
       "..          ...           ...  ...\n",
       "224  4887000000      경상남도 함양군   존재\n",
       "225  4888000000      경상남도 거창군   존재\n",
       "226  4889000000      경상남도 합천군   존재\n",
       "227  5011000000   제주특별자치도 제주시   존재\n",
       "228  5013000000  제주특별자치도 서귀포시   존재\n",
       "\n",
       "[229 rows x 3 columns]"
      ]
     },
     "execution_count": 200,
     "metadata": {},
     "output_type": "execute_result"
    },
    {
     "data": {
      "text/plain": [
       "229"
      ]
     },
     "execution_count": 200,
     "metadata": {},
     "output_type": "execute_result"
    }
   ],
   "source": [
    "df_b=pd.read_csv('result/법정동코드_최종본.csv', encoding='utf-8', index_col=0)\n",
    "df_b\n",
    "len(df_b)\n"
   ]
  },
  {
   "cell_type": "code",
   "execution_count": 201,
   "id": "4d8916af",
   "metadata": {
    "scrolled": true
   },
   "outputs": [
    {
     "data": {
      "text/plain": [
       "229"
      ]
     },
     "execution_count": 201,
     "metadata": {},
     "output_type": "execute_result"
    }
   ],
   "source": [
    "ind=[]\n",
    "\n",
    "for i in range(len(df_b)):\n",
    "    if len(df_b['법정동명'][i].split(' '))<=1:\n",
    "        st=df_b['법정동명'][i].split(' ')[0]\n",
    "        ind.append(st)\n",
    "    else :\n",
    "        st=df_b['법정동명'][i].split(' ')[1]\n",
    "        ind.append(st)\n",
    " \n",
    "len(ind)\n",
    "df_b['시군구']=ind\n"
   ]
  },
  {
   "cell_type": "code",
   "execution_count": 202,
   "id": "385f9750",
   "metadata": {},
   "outputs": [
    {
     "data": {
      "text/html": [
       "<div>\n",
       "<style scoped>\n",
       "    .dataframe tbody tr th:only-of-type {\n",
       "        vertical-align: middle;\n",
       "    }\n",
       "\n",
       "    .dataframe tbody tr th {\n",
       "        vertical-align: top;\n",
       "    }\n",
       "\n",
       "    .dataframe thead th {\n",
       "        text-align: right;\n",
       "    }\n",
       "</style>\n",
       "<table border=\"1\" class=\"dataframe\">\n",
       "  <thead>\n",
       "    <tr style=\"text-align: right;\">\n",
       "      <th></th>\n",
       "      <th>법정동코드</th>\n",
       "      <th>법정동명</th>\n",
       "      <th>폐지여부</th>\n",
       "      <th>시군구</th>\n",
       "    </tr>\n",
       "  </thead>\n",
       "  <tbody>\n",
       "    <tr>\n",
       "      <th>0</th>\n",
       "      <td>1111000000</td>\n",
       "      <td>서울특별시 종로구</td>\n",
       "      <td>존재</td>\n",
       "      <td>종로구</td>\n",
       "    </tr>\n",
       "    <tr>\n",
       "      <th>1</th>\n",
       "      <td>1114000000</td>\n",
       "      <td>서울특별시 중구</td>\n",
       "      <td>존재</td>\n",
       "      <td>중구</td>\n",
       "    </tr>\n",
       "    <tr>\n",
       "      <th>2</th>\n",
       "      <td>1117000000</td>\n",
       "      <td>서울특별시 용산구</td>\n",
       "      <td>존재</td>\n",
       "      <td>용산구</td>\n",
       "    </tr>\n",
       "    <tr>\n",
       "      <th>3</th>\n",
       "      <td>1120000000</td>\n",
       "      <td>서울특별시 성동구</td>\n",
       "      <td>존재</td>\n",
       "      <td>성동구</td>\n",
       "    </tr>\n",
       "    <tr>\n",
       "      <th>4</th>\n",
       "      <td>1121500000</td>\n",
       "      <td>서울특별시 광진구</td>\n",
       "      <td>존재</td>\n",
       "      <td>광진구</td>\n",
       "    </tr>\n",
       "    <tr>\n",
       "      <th>...</th>\n",
       "      <td>...</td>\n",
       "      <td>...</td>\n",
       "      <td>...</td>\n",
       "      <td>...</td>\n",
       "    </tr>\n",
       "    <tr>\n",
       "      <th>224</th>\n",
       "      <td>4887000000</td>\n",
       "      <td>경상남도 함양군</td>\n",
       "      <td>존재</td>\n",
       "      <td>함양군</td>\n",
       "    </tr>\n",
       "    <tr>\n",
       "      <th>225</th>\n",
       "      <td>4888000000</td>\n",
       "      <td>경상남도 거창군</td>\n",
       "      <td>존재</td>\n",
       "      <td>거창군</td>\n",
       "    </tr>\n",
       "    <tr>\n",
       "      <th>226</th>\n",
       "      <td>4889000000</td>\n",
       "      <td>경상남도 합천군</td>\n",
       "      <td>존재</td>\n",
       "      <td>합천군</td>\n",
       "    </tr>\n",
       "    <tr>\n",
       "      <th>227</th>\n",
       "      <td>5011000000</td>\n",
       "      <td>제주특별자치도 제주시</td>\n",
       "      <td>존재</td>\n",
       "      <td>제주시</td>\n",
       "    </tr>\n",
       "    <tr>\n",
       "      <th>228</th>\n",
       "      <td>5013000000</td>\n",
       "      <td>제주특별자치도 서귀포시</td>\n",
       "      <td>존재</td>\n",
       "      <td>서귀포시</td>\n",
       "    </tr>\n",
       "  </tbody>\n",
       "</table>\n",
       "<p>229 rows × 4 columns</p>\n",
       "</div>"
      ],
      "text/plain": [
       "          법정동코드          법정동명 폐지여부   시군구\n",
       "0    1111000000     서울특별시 종로구   존재   종로구\n",
       "1    1114000000      서울특별시 중구   존재    중구\n",
       "2    1117000000     서울특별시 용산구   존재   용산구\n",
       "3    1120000000     서울특별시 성동구   존재   성동구\n",
       "4    1121500000     서울특별시 광진구   존재   광진구\n",
       "..          ...           ...  ...   ...\n",
       "224  4887000000      경상남도 함양군   존재   함양군\n",
       "225  4888000000      경상남도 거창군   존재   거창군\n",
       "226  4889000000      경상남도 합천군   존재   합천군\n",
       "227  5011000000   제주특별자치도 제주시   존재   제주시\n",
       "228  5013000000  제주특별자치도 서귀포시   존재  서귀포시\n",
       "\n",
       "[229 rows x 4 columns]"
      ]
     },
     "execution_count": 202,
     "metadata": {},
     "output_type": "execute_result"
    }
   ],
   "source": [
    "df_b"
   ]
  },
  {
   "cell_type": "code",
   "execution_count": 203,
   "id": "6fb5539b",
   "metadata": {},
   "outputs": [],
   "source": [
    "set1=set(imd)\n",
    "set2= set(ind)"
   ]
  },
  {
   "cell_type": "code",
   "execution_count": 204,
   "id": "ea6eecaf",
   "metadata": {},
   "outputs": [
    {
     "data": {
      "text/plain": [
       "207"
      ]
     },
     "execution_count": 204,
     "metadata": {},
     "output_type": "execute_result"
    },
    {
     "data": {
      "text/plain": [
       "207"
      ]
     },
     "execution_count": 204,
     "metadata": {},
     "output_type": "execute_result"
    }
   ],
   "source": [
    "len(set1.intersection(set2))\n",
    "len(set2.intersection(set1))"
   ]
  },
  {
   "cell_type": "code",
   "execution_count": 205,
   "id": "662e7b9c",
   "metadata": {},
   "outputs": [
    {
     "data": {
      "text/plain": [
       "set()"
      ]
     },
     "execution_count": 205,
     "metadata": {},
     "output_type": "execute_result"
    },
    {
     "data": {
      "text/plain": [
       "set()"
      ]
     },
     "execution_count": 205,
     "metadata": {},
     "output_type": "execute_result"
    }
   ],
   "source": [
    "set1.difference(set2)\n",
    "set2.difference(set1)"
   ]
  },
  {
   "cell_type": "code",
   "execution_count": 206,
   "id": "805f4c08",
   "metadata": {},
   "outputs": [],
   "source": [
    "tmp = df_b.sort_values(by='법정동명')\n",
    "tmp2 = df.sort_values(by='법정동명')"
   ]
  },
  {
   "cell_type": "code",
   "execution_count": 207,
   "id": "e0470833",
   "metadata": {
    "scrolled": true
   },
   "outputs": [
    {
     "ename": "PermissionError",
     "evalue": "[Errno 13] Permission denied: 'tmp.xlsx'",
     "output_type": "error",
     "traceback": [
      "\u001b[1;31m---------------------------------------------------------------------------\u001b[0m",
      "\u001b[1;31mPermissionError\u001b[0m                           Traceback (most recent call last)",
      "\u001b[1;32m<ipython-input-207-c388fca25f57>\u001b[0m in \u001b[0;36m<module>\u001b[1;34m\u001b[0m\n\u001b[1;32m----> 1\u001b[1;33m \u001b[0mtmp\u001b[0m\u001b[1;33m.\u001b[0m\u001b[0mto_excel\u001b[0m\u001b[1;33m(\u001b[0m\u001b[1;34m'tmp.xlsx'\u001b[0m\u001b[1;33m)\u001b[0m\u001b[1;33m\u001b[0m\u001b[1;33m\u001b[0m\u001b[0m\n\u001b[0m\u001b[0;32m      2\u001b[0m \u001b[0mtmp2\u001b[0m\u001b[1;33m.\u001b[0m\u001b[0mto_excel\u001b[0m\u001b[1;33m(\u001b[0m\u001b[1;34m'tmp2.xlsx'\u001b[0m\u001b[1;33m)\u001b[0m\u001b[1;33m\u001b[0m\u001b[1;33m\u001b[0m\u001b[0m\n",
      "\u001b[1;32m~\\anaconda3\\lib\\site-packages\\pandas\\core\\generic.py\u001b[0m in \u001b[0;36mto_excel\u001b[1;34m(self, excel_writer, sheet_name, na_rep, float_format, columns, header, index, index_label, startrow, startcol, engine, merge_cells, encoding, inf_rep, verbose, freeze_panes, storage_options)\u001b[0m\n\u001b[0;32m   2187\u001b[0m             \u001b[0minf_rep\u001b[0m\u001b[1;33m=\u001b[0m\u001b[0minf_rep\u001b[0m\u001b[1;33m,\u001b[0m\u001b[1;33m\u001b[0m\u001b[1;33m\u001b[0m\u001b[0m\n\u001b[0;32m   2188\u001b[0m         )\n\u001b[1;32m-> 2189\u001b[1;33m         formatter.write(\n\u001b[0m\u001b[0;32m   2190\u001b[0m             \u001b[0mexcel_writer\u001b[0m\u001b[1;33m,\u001b[0m\u001b[1;33m\u001b[0m\u001b[1;33m\u001b[0m\u001b[0m\n\u001b[0;32m   2191\u001b[0m             \u001b[0msheet_name\u001b[0m\u001b[1;33m=\u001b[0m\u001b[0msheet_name\u001b[0m\u001b[1;33m,\u001b[0m\u001b[1;33m\u001b[0m\u001b[1;33m\u001b[0m\u001b[0m\n",
      "\u001b[1;32m~\\anaconda3\\lib\\site-packages\\pandas\\io\\formats\\excel.py\u001b[0m in \u001b[0;36mwrite\u001b[1;34m(self, writer, sheet_name, startrow, startcol, freeze_panes, engine, storage_options)\u001b[0m\n\u001b[0;32m    813\u001b[0m             \u001b[1;31m# abstract class 'ExcelWriter' with abstract attributes 'engine',\u001b[0m\u001b[1;33m\u001b[0m\u001b[1;33m\u001b[0m\u001b[1;33m\u001b[0m\u001b[0m\n\u001b[0;32m    814\u001b[0m             \u001b[1;31m# 'save', 'supported_extensions' and 'write_cells'  [abstract]\u001b[0m\u001b[1;33m\u001b[0m\u001b[1;33m\u001b[0m\u001b[1;33m\u001b[0m\u001b[0m\n\u001b[1;32m--> 815\u001b[1;33m             writer = ExcelWriter(  # type: ignore[abstract]\n\u001b[0m\u001b[0;32m    816\u001b[0m                 \u001b[0mwriter\u001b[0m\u001b[1;33m,\u001b[0m \u001b[0mengine\u001b[0m\u001b[1;33m=\u001b[0m\u001b[0mengine\u001b[0m\u001b[1;33m,\u001b[0m \u001b[0mstorage_options\u001b[0m\u001b[1;33m=\u001b[0m\u001b[0mstorage_options\u001b[0m\u001b[1;33m\u001b[0m\u001b[1;33m\u001b[0m\u001b[0m\n\u001b[0;32m    817\u001b[0m             )\n",
      "\u001b[1;32m~\\anaconda3\\lib\\site-packages\\pandas\\io\\excel\\_xlsxwriter.py\u001b[0m in \u001b[0;36m__init__\u001b[1;34m(self, path, engine, date_format, datetime_format, mode, storage_options, **engine_kwargs)\u001b[0m\n\u001b[0;32m    180\u001b[0m             \u001b[1;32mraise\u001b[0m \u001b[0mValueError\u001b[0m\u001b[1;33m(\u001b[0m\u001b[1;34m\"Append mode is not supported with xlsxwriter!\"\u001b[0m\u001b[1;33m)\u001b[0m\u001b[1;33m\u001b[0m\u001b[1;33m\u001b[0m\u001b[0m\n\u001b[0;32m    181\u001b[0m \u001b[1;33m\u001b[0m\u001b[0m\n\u001b[1;32m--> 182\u001b[1;33m         super().__init__(\n\u001b[0m\u001b[0;32m    183\u001b[0m             \u001b[0mpath\u001b[0m\u001b[1;33m,\u001b[0m\u001b[1;33m\u001b[0m\u001b[1;33m\u001b[0m\u001b[0m\n\u001b[0;32m    184\u001b[0m             \u001b[0mengine\u001b[0m\u001b[1;33m=\u001b[0m\u001b[0mengine\u001b[0m\u001b[1;33m,\u001b[0m\u001b[1;33m\u001b[0m\u001b[1;33m\u001b[0m\u001b[0m\n",
      "\u001b[1;32m~\\anaconda3\\lib\\site-packages\\pandas\\io\\excel\\_base.py\u001b[0m in \u001b[0;36m__init__\u001b[1;34m(self, path, engine, date_format, datetime_format, mode, storage_options, **engine_kwargs)\u001b[0m\n\u001b[0;32m    808\u001b[0m         \u001b[0mself\u001b[0m\u001b[1;33m.\u001b[0m\u001b[0mhandles\u001b[0m \u001b[1;33m=\u001b[0m \u001b[0mIOHandles\u001b[0m\u001b[1;33m(\u001b[0m\u001b[0mcast\u001b[0m\u001b[1;33m(\u001b[0m\u001b[0mBuffer\u001b[0m\u001b[1;33m,\u001b[0m \u001b[0mpath\u001b[0m\u001b[1;33m)\u001b[0m\u001b[1;33m,\u001b[0m \u001b[0mcompression\u001b[0m\u001b[1;33m=\u001b[0m\u001b[1;33m{\u001b[0m\u001b[1;34m\"copression\"\u001b[0m\u001b[1;33m:\u001b[0m \u001b[1;32mNone\u001b[0m\u001b[1;33m}\u001b[0m\u001b[1;33m)\u001b[0m\u001b[1;33m\u001b[0m\u001b[1;33m\u001b[0m\u001b[0m\n\u001b[0;32m    809\u001b[0m         \u001b[1;32mif\u001b[0m \u001b[1;32mnot\u001b[0m \u001b[0misinstance\u001b[0m\u001b[1;33m(\u001b[0m\u001b[0mpath\u001b[0m\u001b[1;33m,\u001b[0m \u001b[0mExcelWriter\u001b[0m\u001b[1;33m)\u001b[0m\u001b[1;33m:\u001b[0m\u001b[1;33m\u001b[0m\u001b[1;33m\u001b[0m\u001b[0m\n\u001b[1;32m--> 810\u001b[1;33m             self.handles = get_handle(\n\u001b[0m\u001b[0;32m    811\u001b[0m                 \u001b[0mpath\u001b[0m\u001b[1;33m,\u001b[0m \u001b[0mmode\u001b[0m\u001b[1;33m,\u001b[0m \u001b[0mstorage_options\u001b[0m\u001b[1;33m=\u001b[0m\u001b[0mstorage_options\u001b[0m\u001b[1;33m,\u001b[0m \u001b[0mis_text\u001b[0m\u001b[1;33m=\u001b[0m\u001b[1;32mFalse\u001b[0m\u001b[1;33m\u001b[0m\u001b[1;33m\u001b[0m\u001b[0m\n\u001b[0;32m    812\u001b[0m             )\n",
      "\u001b[1;32m~\\anaconda3\\lib\\site-packages\\pandas\\io\\common.py\u001b[0m in \u001b[0;36mget_handle\u001b[1;34m(path_or_buf, mode, encoding, compression, memory_map, is_text, errors, storage_options)\u001b[0m\n\u001b[0;32m    649\u001b[0m         \u001b[1;32melse\u001b[0m\u001b[1;33m:\u001b[0m\u001b[1;33m\u001b[0m\u001b[1;33m\u001b[0m\u001b[0m\n\u001b[0;32m    650\u001b[0m             \u001b[1;31m# Binary mode\u001b[0m\u001b[1;33m\u001b[0m\u001b[1;33m\u001b[0m\u001b[1;33m\u001b[0m\u001b[0m\n\u001b[1;32m--> 651\u001b[1;33m             \u001b[0mhandle\u001b[0m \u001b[1;33m=\u001b[0m \u001b[0mopen\u001b[0m\u001b[1;33m(\u001b[0m\u001b[0mhandle\u001b[0m\u001b[1;33m,\u001b[0m \u001b[0mioargs\u001b[0m\u001b[1;33m.\u001b[0m\u001b[0mmode\u001b[0m\u001b[1;33m)\u001b[0m\u001b[1;33m\u001b[0m\u001b[1;33m\u001b[0m\u001b[0m\n\u001b[0m\u001b[0;32m    652\u001b[0m         \u001b[0mhandles\u001b[0m\u001b[1;33m.\u001b[0m\u001b[0mappend\u001b[0m\u001b[1;33m(\u001b[0m\u001b[0mhandle\u001b[0m\u001b[1;33m)\u001b[0m\u001b[1;33m\u001b[0m\u001b[1;33m\u001b[0m\u001b[0m\n\u001b[0;32m    653\u001b[0m \u001b[1;33m\u001b[0m\u001b[0m\n",
      "\u001b[1;31mPermissionError\u001b[0m: [Errno 13] Permission denied: 'tmp.xlsx'"
     ]
    }
   ],
   "source": []
  },
  {
   "cell_type": "code",
   "execution_count": null,
   "id": "3fbfa038",
   "metadata": {
    "scrolled": false
   },
   "outputs": [],
   "source": [
    "for i in df_b['법정동명']:\n",
    "    if i not in df.법정동명:\n",
    "        print(i)"
   ]
  },
  {
   "cell_type": "code",
   "execution_count": null,
   "id": "8e46de6e",
   "metadata": {},
   "outputs": [],
   "source": [
    "df_b"
   ]
  },
  {
   "cell_type": "code",
   "execution_count": null,
   "id": "fe59c4e4",
   "metadata": {
    "scrolled": false
   },
   "outputs": [],
   "source": [
    "df_m = pd.merge(df, df_b, how='right', on='법정동명')\n",
    "df_m"
   ]
  },
  {
   "cell_type": "code",
   "execution_count": null,
   "id": "20ed45e8",
   "metadata": {
    "scrolled": false
   },
   "outputs": [],
   "source": [
    "\n"
   ]
  },
  {
   "cell_type": "code",
   "execution_count": null,
   "id": "8fbd057c",
   "metadata": {},
   "outputs": [],
   "source": []
  },
  {
   "cell_type": "code",
   "execution_count": null,
   "id": "4c5ae33b",
   "metadata": {},
   "outputs": [],
   "source": [
    "# df_m[df_m['시군구명칭'].isnull()]"
   ]
  }
 ],
 "metadata": {
  "kernelspec": {
   "display_name": "Python 3",
   "language": "python",
   "name": "python3"
  },
  "language_info": {
   "codemirror_mode": {
    "name": "ipython",
    "version": 3
   },
   "file_extension": ".py",
   "mimetype": "text/x-python",
   "name": "python",
   "nbconvert_exporter": "python",
   "pygments_lexer": "ipython3",
   "version": "3.8.8"
  }
 },
 "nbformat": 4,
 "nbformat_minor": 5
}
