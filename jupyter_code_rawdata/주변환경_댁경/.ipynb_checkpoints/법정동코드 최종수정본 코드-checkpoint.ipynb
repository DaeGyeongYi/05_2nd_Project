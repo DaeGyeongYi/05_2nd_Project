{
 "cells": [
  {
   "cell_type": "code",
   "execution_count": 10,
   "id": "4cbc7f91",
   "metadata": {},
   "outputs": [],
   "source": [
    "import pandas as pd"
   ]
  },
  {
   "cell_type": "code",
   "execution_count": 11,
   "id": "b0dd6c84",
   "metadata": {},
   "outputs": [],
   "source": [
    "region_code = pd.read_csv(\"../Data/법정동_Data/법정동코드 전체자료.csv\",encoding='cp949',sep='\\t')"
   ]
  },
  {
   "cell_type": "code",
   "execution_count": 12,
   "id": "dc16220c",
   "metadata": {},
   "outputs": [],
   "source": [
    "idx = []\n",
    "for i in range(len(region_code)):\n",
    "    if len(region_code.법정동명[i].split(' '))<=2:\n",
    "        idx.append(i)"
   ]
  },
  {
   "cell_type": "code",
   "execution_count": 13,
   "id": "78696e84",
   "metadata": {
    "scrolled": true
   },
   "outputs": [],
   "source": [
    "region_code = region_code.iloc[idx]"
   ]
  },
  {
   "cell_type": "code",
   "execution_count": 14,
   "id": "040a935e",
   "metadata": {},
   "outputs": [],
   "source": [
    "region_code.reset_index(drop=True, inplace=True)"
   ]
  },
  {
   "cell_type": "code",
   "execution_count": 16,
   "id": "61d4bc26",
   "metadata": {},
   "outputs": [],
   "source": [
    "region_code = region_code[region_code.폐지여부=='존재']"
   ]
  },
  {
   "cell_type": "code",
   "execution_count": 17,
   "id": "b1e1a40c",
   "metadata": {},
   "outputs": [],
   "source": [
    "region_code.reset_index(inplace=True,drop=True)"
   ]
  },
  {
   "cell_type": "code",
   "execution_count": 18,
   "id": "8913e141",
   "metadata": {},
   "outputs": [],
   "source": [
    "idx = []\n",
    "for i in range(len(region_code)):\n",
    "    if len(region_code.법정동명[i].split(' '))==1:\n",
    "        idx.append(i)"
   ]
  },
  {
   "cell_type": "code",
   "execution_count": 19,
   "id": "2b374a7d",
   "metadata": {},
   "outputs": [],
   "source": [
    "idx.remove(81)"
   ]
  },
  {
   "cell_type": "code",
   "execution_count": 20,
   "id": "bc4e4906",
   "metadata": {},
   "outputs": [],
   "source": [
    "region_code.drop(idx,axis=0,inplace = True)"
   ]
  },
  {
   "cell_type": "code",
   "execution_count": 22,
   "id": "31bb4d9b",
   "metadata": {},
   "outputs": [],
   "source": [
    "region_code.to_csv(\"../Data/법정동_Data/법정동코드_최종본.csv\")"
   ]
  },
  {
   "cell_type": "code",
   "execution_count": null,
   "id": "ac2725ee",
   "metadata": {},
   "outputs": [],
   "source": []
  }
 ],
 "metadata": {
  "kernelspec": {
   "display_name": "Python 3",
   "language": "python",
   "name": "python3"
  },
  "language_info": {
   "codemirror_mode": {
    "name": "ipython",
    "version": 3
   },
   "file_extension": ".py",
   "mimetype": "text/x-python",
   "name": "python",
   "nbconvert_exporter": "python",
   "pygments_lexer": "ipython3",
   "version": "3.8.8"
  }
 },
 "nbformat": 4,
 "nbformat_minor": 5
}
