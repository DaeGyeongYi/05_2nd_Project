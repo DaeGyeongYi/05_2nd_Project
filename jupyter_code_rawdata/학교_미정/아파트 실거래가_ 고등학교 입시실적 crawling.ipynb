{
 "cells": [
  {
   "cell_type": "code",
   "execution_count": 2,
   "id": "0b9f8b25",
   "metadata": {},
   "outputs": [],
   "source": [
    "import requests\n",
    "from bs4 import BeautifulSoup \n",
    "from urllib.request import urlopen\n",
    "from selenium import webdriver\n",
    "import pandas as pd\n",
    "import time"
   ]
  },
  {
   "cell_type": "markdown",
   "id": "c677c333",
   "metadata": {},
   "source": [
    "# 순서\n",
    "- 셀레니움으로 원하는 페이지 열기\n",
    "1. 2017년 버튼 누르기\n",
    "2. 원하는 시도 버튼 누르기\n",
    "3. 원하는 시도의 상세주소정보 누르기\n",
    "4. 페이지 내의 정보 크롤링하기\n",
    "5. 다음 페이지 클릭하고 페이지 끝까지 4번 반복\n",
    "6. 마지막페이지에서 3~5 반복\n",
    "\n",
    "\n",
    "- 지역 하나 다 끝냈으면 다른 지역 선택해서 반복"
   ]
  },
  {
   "cell_type": "code",
   "execution_count": 3,
   "id": "ca978a04",
   "metadata": {},
   "outputs": [
    {
     "ename": "WebDriverException",
     "evalue": "Message: 'chromedriver' executable needs to be in PATH. Please see https://sites.google.com/a/chromium.org/chromedriver/home\n",
     "output_type": "error",
     "traceback": [
      "\u001b[1;31m---------------------------------------------------------------------------\u001b[0m",
      "\u001b[1;31mFileNotFoundError\u001b[0m                         Traceback (most recent call last)",
      "\u001b[1;32m~\\anaconda3\\lib\\site-packages\\selenium\\webdriver\\common\\service.py\u001b[0m in \u001b[0;36mstart\u001b[1;34m(self)\u001b[0m\n\u001b[0;32m     71\u001b[0m             \u001b[0mcmd\u001b[0m\u001b[1;33m.\u001b[0m\u001b[0mextend\u001b[0m\u001b[1;33m(\u001b[0m\u001b[0mself\u001b[0m\u001b[1;33m.\u001b[0m\u001b[0mcommand_line_args\u001b[0m\u001b[1;33m(\u001b[0m\u001b[1;33m)\u001b[0m\u001b[1;33m)\u001b[0m\u001b[1;33m\u001b[0m\u001b[1;33m\u001b[0m\u001b[0m\n\u001b[1;32m---> 72\u001b[1;33m             self.process = subprocess.Popen(cmd, env=self.env,\n\u001b[0m\u001b[0;32m     73\u001b[0m                                             \u001b[0mclose_fds\u001b[0m\u001b[1;33m=\u001b[0m\u001b[0mplatform\u001b[0m\u001b[1;33m.\u001b[0m\u001b[0msystem\u001b[0m\u001b[1;33m(\u001b[0m\u001b[1;33m)\u001b[0m \u001b[1;33m!=\u001b[0m \u001b[1;34m'Windows'\u001b[0m\u001b[1;33m,\u001b[0m\u001b[1;33m\u001b[0m\u001b[1;33m\u001b[0m\u001b[0m\n",
      "\u001b[1;32m~\\anaconda3\\lib\\subprocess.py\u001b[0m in \u001b[0;36m__init__\u001b[1;34m(self, args, bufsize, executable, stdin, stdout, stderr, preexec_fn, close_fds, shell, cwd, env, universal_newlines, startupinfo, creationflags, restore_signals, start_new_session, pass_fds, encoding, errors, text)\u001b[0m\n\u001b[0;32m    857\u001b[0m \u001b[1;33m\u001b[0m\u001b[0m\n\u001b[1;32m--> 858\u001b[1;33m             self._execute_child(args, executable, preexec_fn, close_fds,\n\u001b[0m\u001b[0;32m    859\u001b[0m                                 \u001b[0mpass_fds\u001b[0m\u001b[1;33m,\u001b[0m \u001b[0mcwd\u001b[0m\u001b[1;33m,\u001b[0m \u001b[0menv\u001b[0m\u001b[1;33m,\u001b[0m\u001b[1;33m\u001b[0m\u001b[1;33m\u001b[0m\u001b[0m\n",
      "\u001b[1;32m~\\anaconda3\\lib\\subprocess.py\u001b[0m in \u001b[0;36m_execute_child\u001b[1;34m(self, args, executable, preexec_fn, close_fds, pass_fds, cwd, env, startupinfo, creationflags, shell, p2cread, p2cwrite, c2pread, c2pwrite, errread, errwrite, unused_restore_signals, unused_start_new_session)\u001b[0m\n\u001b[0;32m   1310\u001b[0m             \u001b[1;32mtry\u001b[0m\u001b[1;33m:\u001b[0m\u001b[1;33m\u001b[0m\u001b[1;33m\u001b[0m\u001b[0m\n\u001b[1;32m-> 1311\u001b[1;33m                 hp, ht, pid, tid = _winapi.CreateProcess(executable, args,\n\u001b[0m\u001b[0;32m   1312\u001b[0m                                          \u001b[1;31m# no special security\u001b[0m\u001b[1;33m\u001b[0m\u001b[1;33m\u001b[0m\u001b[1;33m\u001b[0m\u001b[0m\n",
      "\u001b[1;31mFileNotFoundError\u001b[0m: [WinError 2] 지정된 파일을 찾을 수 없습니다",
      "\nDuring handling of the above exception, another exception occurred:\n",
      "\u001b[1;31mWebDriverException\u001b[0m                        Traceback (most recent call last)",
      "\u001b[1;32m<ipython-input-3-1e2af34575f1>\u001b[0m in \u001b[0;36m<module>\u001b[1;34m\u001b[0m\n\u001b[0;32m      1\u001b[0m \u001b[1;31m# chromedriver 구동, url 설정\u001b[0m\u001b[1;33m\u001b[0m\u001b[1;33m\u001b[0m\u001b[1;33m\u001b[0m\u001b[0m\n\u001b[1;32m----> 2\u001b[1;33m \u001b[0mdriver\u001b[0m \u001b[1;33m=\u001b[0m \u001b[0mwebdriver\u001b[0m\u001b[1;33m.\u001b[0m\u001b[0mChrome\u001b[0m\u001b[1;33m(\u001b[0m\u001b[1;34m'./chromedriver'\u001b[0m\u001b[1;33m)\u001b[0m\u001b[1;33m\u001b[0m\u001b[1;33m\u001b[0m\u001b[0m\n\u001b[0m\u001b[0;32m      3\u001b[0m \u001b[0murl\u001b[0m \u001b[1;33m=\u001b[0m\u001b[1;34m'https://apt2.me/apt/high.jsp#read/page=1&perPage=20'\u001b[0m\u001b[1;33m\u001b[0m\u001b[1;33m\u001b[0m\u001b[0m\n\u001b[0;32m      4\u001b[0m \u001b[0mdriver\u001b[0m\u001b[1;33m.\u001b[0m\u001b[0mget\u001b[0m\u001b[1;33m(\u001b[0m\u001b[0murl\u001b[0m\u001b[1;33m)\u001b[0m\u001b[1;33m\u001b[0m\u001b[1;33m\u001b[0m\u001b[0m\n",
      "\u001b[1;32m~\\anaconda3\\lib\\site-packages\\selenium\\webdriver\\chrome\\webdriver.py\u001b[0m in \u001b[0;36m__init__\u001b[1;34m(self, executable_path, port, options, service_args, desired_capabilities, service_log_path, chrome_options, keep_alive)\u001b[0m\n\u001b[0;32m     71\u001b[0m             \u001b[0mservice_args\u001b[0m\u001b[1;33m=\u001b[0m\u001b[0mservice_args\u001b[0m\u001b[1;33m,\u001b[0m\u001b[1;33m\u001b[0m\u001b[1;33m\u001b[0m\u001b[0m\n\u001b[0;32m     72\u001b[0m             log_path=service_log_path)\n\u001b[1;32m---> 73\u001b[1;33m         \u001b[0mself\u001b[0m\u001b[1;33m.\u001b[0m\u001b[0mservice\u001b[0m\u001b[1;33m.\u001b[0m\u001b[0mstart\u001b[0m\u001b[1;33m(\u001b[0m\u001b[1;33m)\u001b[0m\u001b[1;33m\u001b[0m\u001b[1;33m\u001b[0m\u001b[0m\n\u001b[0m\u001b[0;32m     74\u001b[0m \u001b[1;33m\u001b[0m\u001b[0m\n\u001b[0;32m     75\u001b[0m         \u001b[1;32mtry\u001b[0m\u001b[1;33m:\u001b[0m\u001b[1;33m\u001b[0m\u001b[1;33m\u001b[0m\u001b[0m\n",
      "\u001b[1;32m~\\anaconda3\\lib\\site-packages\\selenium\\webdriver\\common\\service.py\u001b[0m in \u001b[0;36mstart\u001b[1;34m(self)\u001b[0m\n\u001b[0;32m     79\u001b[0m         \u001b[1;32mexcept\u001b[0m \u001b[0mOSError\u001b[0m \u001b[1;32mas\u001b[0m \u001b[0merr\u001b[0m\u001b[1;33m:\u001b[0m\u001b[1;33m\u001b[0m\u001b[1;33m\u001b[0m\u001b[0m\n\u001b[0;32m     80\u001b[0m             \u001b[1;32mif\u001b[0m \u001b[0merr\u001b[0m\u001b[1;33m.\u001b[0m\u001b[0merrno\u001b[0m \u001b[1;33m==\u001b[0m \u001b[0merrno\u001b[0m\u001b[1;33m.\u001b[0m\u001b[0mENOENT\u001b[0m\u001b[1;33m:\u001b[0m\u001b[1;33m\u001b[0m\u001b[1;33m\u001b[0m\u001b[0m\n\u001b[1;32m---> 81\u001b[1;33m                 raise WebDriverException(\n\u001b[0m\u001b[0;32m     82\u001b[0m                     \"'%s' executable needs to be in PATH. %s\" % (\n\u001b[0;32m     83\u001b[0m                         os.path.basename(self.path), self.start_error_message)\n",
      "\u001b[1;31mWebDriverException\u001b[0m: Message: 'chromedriver' executable needs to be in PATH. Please see https://sites.google.com/a/chromium.org/chromedriver/home\n"
     ]
    }
   ],
   "source": [
    "# chromedriver 구동, url 설정\n",
    "driver = webdriver.Chrome('./chromedriver')\n",
    "url ='https://apt2.me/apt/high.jsp#read/page=1&perPage=20' \n",
    "driver.get(url)"
   ]
  },
  {
   "cell_type": "code",
   "execution_count": null,
   "id": "c7fd62b1",
   "metadata": {},
   "outputs": [],
   "source": [
    "#2017년 선택\n",
    "driver.find_element_by_xpath('//*[@id=\"Cmb_year\"]/option[2]').click()"
   ]
  },
  {
   "cell_type": "code",
   "execution_count": null,
   "id": "ac472076",
   "metadata": {},
   "outputs": [],
   "source": [
    "df = pd.DataFrame(columns=[\"학교명주소\",\"서울대 계수시정시\",\"KAIST 계수시정시\",\"서울대 + KAIST\"])"
   ]
  },
  {
   "cell_type": "code",
   "execution_count": null,
   "id": "87a76ff7",
   "metadata": {},
   "outputs": [],
   "source": [
    "sido = ['제주특별자치도']"
   ]
  },
  {
   "cell_type": "code",
   "execution_count": null,
   "id": "9040313e",
   "metadata": {},
   "outputs": [],
   "source": [
    "for si in sido:\n",
    "    driver.find_element_by_xpath('/html/body/a').click() \n",
    "    time.sleep(0.5)\n",
    "    #서울부터 지역 선택\n",
    "    driver.find_element_by_link_text(si).click()\n",
    "    time.sleep(0.3)\n",
    "    gungu_len = len(driver.find_element_by_xpath('//*[@id=\"area\"]').text.split(' '))\n",
    "    time.sleep(0.5)\n",
    "\n",
    "    for i in range(1,gungu_len+1):\n",
    "        if si == '인천광역시' and i == 4:\n",
    "            continue\n",
    "        elif si == '경기도' and i ==35:\n",
    "            continue\n",
    "        elif si == '강원도' and i == 17:\n",
    "            continue\n",
    "        elif si == '충청북도' and i==2:\n",
    "            continue\n",
    "        elif si =='충청남도' and i==16:\n",
    "            continue\n",
    "        elif si =='전라북도' and i ==6:\n",
    "            continue\n",
    "        elif si =='전라북도' and i ==11:\n",
    "            continue\n",
    "        elif si =='전라북도' and i ==16:\n",
    "            continue\n",
    "        elif si =='전라남도' and i ==1:\n",
    "            continue\n",
    "        elif si =='전라남도' and i ==3:\n",
    "            continue \n",
    "        elif si =='전라남도' and i ==5:\n",
    "            continue \n",
    "        elif si =='전라남도' and i ==20:\n",
    "            continue   \n",
    "        elif si =='경상북도' and i ==12:\n",
    "            continue   \n",
    "        elif si =='경상북도' and i ==17:\n",
    "            continue\n",
    "        elif si =='경상북도' and i ==18:\n",
    "            continue  \n",
    "        elif si =='경상북도' and i ==19:\n",
    "            continue \n",
    "        elif si =='경상북도' and i ==21:\n",
    "            continue\n",
    "        elif si =='경상남도' and i ==3:\n",
    "            continue\n",
    "        elif si =='경상남도' and i ==8:\n",
    "            continue\n",
    "        elif si =='경상남도' and i ==10:\n",
    "            continue\n",
    "        #지역 선택\n",
    "        driver.find_element_by_link_text(si).click()\n",
    "        time.sleep(0.5)\n",
    "        #첫번째 구부터 선택\n",
    "        driver.find_element_by_xpath('/html/body/div[3]/a['+str(i)+']').click()\n",
    "        time.sleep(0.5)\n",
    "        #페이지 수\n",
    "        page_num = int(driver.find_element_by_css_selector('#grid > div.tui-pagination.tui-grid-pagination').text.replace(\"firstprev\",\"\").replace(\"nextlast\",\"\"))\n",
    "\n",
    "        # df 만들기\n",
    "        html = driver.page_source\n",
    "        table_df_list =pd.read_html(html)\n",
    "\n",
    "        table_df_list[3].rename({0:\"학교명주소\",\n",
    "                   1:\"서울대 계수시정시\t\",\n",
    "                   2:\"KAIST 계수시정시\",\n",
    "                   3:\"서울대 + KAIST\"\n",
    "                  },axis=1,inplace=True)\n",
    "\n",
    "        df = pd.concat([ table_df_list[3], df])\n",
    "        driver.find_element_by_xpath('/html/body/a').click()\n",
    "        time.sleep(0.5)"
   ]
  },
  {
   "cell_type": "code",
   "execution_count": null,
   "id": "3d17d0c3",
   "metadata": {},
   "outputs": [],
   "source": [
    "df = df.drop_duplicates(keep='first')"
   ]
  },
  {
   "cell_type": "code",
   "execution_count": null,
   "id": "0289b181",
   "metadata": {},
   "outputs": [],
   "source": [
    "df.info()"
   ]
  },
  {
   "cell_type": "code",
   "execution_count": null,
   "id": "e08be617",
   "metadata": {},
   "outputs": [],
   "source": [
    "df.to_csv('../Data/학교_Data/원본_고등학교 입시실적 크롤링.csv')"
   ]
  },
  {
   "cell_type": "code",
   "execution_count": null,
   "id": "c7d80423",
   "metadata": {},
   "outputs": [],
   "source": [
    "df"
   ]
  },
  {
   "cell_type": "code",
   "execution_count": null,
   "id": "048cfcf9",
   "metadata": {},
   "outputs": [],
   "source": []
  },
  {
   "cell_type": "markdown",
   "id": "f19a8a6e",
   "metadata": {},
   "source": [
    "# 나중에 전처리할 코드"
   ]
  },
  {
   "cell_type": "code",
   "execution_count": null,
   "id": "b38c09d1",
   "metadata": {},
   "outputs": [],
   "source": [
    "table_df_list[3]['학교명'] = [i.split('중학교')[0]+'중학교' for i in table_df_list[3][0]]\n",
    "table_df_list[3]['주소'] = [i.split('중학교')[1].split(' ')[0]+\" \"+i.split('중학교')[1].split(' ')[1] for i in table_df_list[3][0]]\n",
    "\n",
    "table_df_list[3]['총인원'] = [i.split('명')[0].split(' ')[0] for i in table_df_list[3][1]]\n",
    "table_df_list[3]['남학생'] = [i.split('명')[1].split(' ')[0] for i in table_df_list[3][1]]\n",
    "table_df_list[3]['여학생'] = [i.split('명')[2].split(' ')[0] for i in table_df_list[3][1]] \n",
    "\n",
    "table_df_list[3]['과학고'] = [i.split('명')[0].split(' ')[0] for i in table_df_list[3][2]]\n",
    "table_df_list[3]['외고/국제고'] = [i.split('명')[1].split(' ')[0] for i in table_df_list[3][2]]\n",
    "table_df_list[3]['자사고'] = [i.split('명')[2].split(' ')[0] for i in table_df_list[3][2]]\n",
    "table_df_list[3]['기타계(외국,영재,유학,대안)'] = [i.split('명')[3].split(' ')[0] for i in table_df_list[3][2]]\n",
    "\n",
    "table_df_list[3]['특목고계'] = [i.split('명')[0].split(' ')[0] for i in table_df_list[3][3]]\n",
    "table_df_list[3]['특목고비율(%)'] = [i.split('명')[1].split(' ')[0] for i in table_df_list[3][3]]\n",
    "\n",
    "df = table_df_list[3].drop([0,1,2,3],axis=1)"
   ]
  },
  {
   "cell_type": "code",
   "execution_count": null,
   "id": "894dd588",
   "metadata": {},
   "outputs": [],
   "source": [
    "for _ in range(iter_num):\n",
    "    driver.find_elements_by_link_text('next')[0].click()\n",
    "    time.sleep(0.5) #이거 안넣으면 다 긁기도 전에 다음페이지 클릭해버려서 에러남\n",
    "    #페이지 html\n",
    "    html = driver.page_source\n",
    "    table_df_list =pd.read_html(html)\n",
    "\n",
    "    # dataframe 정리하고 합치기\n",
    "    table_df_list[3]['학교명'] = [i.split('중학교')[0]+'중학교' for i in table_df_list[3][0]]\n",
    "    table_df_list[3]['주소'] = [i.split('중학교')[1].split(' ')[0]+\" \"+i.split('중학교')[1].split(' ')[1] for i in table_df_list[3][0]]\n",
    "\n",
    "    table_df_list[3]['총인원'] = [i.split('명')[0].split(' ')[0] for i in table_df_list[3][1]]\n",
    "    table_df_list[3]['남학생'] = [i.split('명')[1].split(' ')[0] for i in table_df_list[3][1]]\n",
    "    table_df_list[3]['여학생'] = [i.split('명')[2].split(' ')[0] for i in table_df_list[3][1]] \n",
    "\n",
    "    table_df_list[3]['과학고'] = [i.split('명')[0].split(' ')[0] for i in table_df_list[3][2]]\n",
    "    table_df_list[3]['외고/국제고'] = [i.split('명')[1].split(' ')[0] for i in table_df_list[3][2]]\n",
    "    table_df_list[3]['자사고'] = [i.split('명')[2].split(' ')[0] for i in table_df_list[3][2]]\n",
    "    table_df_list[3]['기타계(외국,영재,유학,대안)'] = [i.split('명')[3].split(' ')[0] for i in table_df_list[3][2]]\n",
    "\n",
    "    table_df_list[3]['특목고계'] = [i.split('명')[0].split(' ')[0] for i in table_df_list[3][3]]\n",
    "    table_df_list[3]['특목고비율(%)'] = [i.split('명')[1].split(' ')[0] for i in table_df_list[3][3]]\n",
    "\n",
    "    df = table_df_list[3].drop([0,1,2,3],axis=1)\n",
    "    df_final = pd.concat([df_final,df])"
   ]
  }
 ],
 "metadata": {
  "kernelspec": {
   "display_name": "Python 3",
   "language": "python",
   "name": "python3"
  },
  "language_info": {
   "codemirror_mode": {
    "name": "ipython",
    "version": 3
   },
   "file_extension": ".py",
   "mimetype": "text/x-python",
   "name": "python",
   "nbconvert_exporter": "python",
   "pygments_lexer": "ipython3",
   "version": "3.8.8"
  }
 },
 "nbformat": 4,
 "nbformat_minor": 5
}
