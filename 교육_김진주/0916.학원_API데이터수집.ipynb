{
 "cells": [
  {
   "cell_type": "code",
   "execution_count": 127,
   "id": "32759059",
   "metadata": {},
   "outputs": [],
   "source": [
    "import requests\n",
    "\n",
    "from selenium import webdriver\n",
    "from bs4 import BeautifulSoup as bs\n",
    "from datetime import datetime\n",
    "\n",
    "import pandas as pd\n",
    "import json"
   ]
  },
  {
   "cell_type": "code",
   "execution_count": 160,
   "id": "588e523b",
   "metadata": {},
   "outputs": [],
   "source": [
    "tmp_dict = dict()"
   ]
  },
  {
   "cell_type": "code",
   "execution_count": 161,
   "id": "13eaedd4",
   "metadata": {},
   "outputs": [],
   "source": [
    "code_list = ['K10','J10','S10','R10','F10','D10','G10','C10','B10','I10','H10','E10','Q10','P10','T10','N10','M10']"
   ]
  },
  {
   "cell_type": "code",
   "execution_count": 162,
   "id": "3545d9e9",
   "metadata": {},
   "outputs": [],
   "source": [
    "def get_total_cnt(code):\n",
    "    \n",
    "    api_key=\"ccec8602a1984c5ebfe8a58c35e5a1fe\"\n",
    "    test = \"https://open.neis.go.kr/hub/acaInsTiInfo?KEY=\"+api_key+\"&Type=json&ATPT_OFCDC_SC_CODE=\"+code\n",
    "    res = requests.get(test)\n",
    "    res_json = res.json()\n",
    "\n",
    "    res_meta = res_json['acaInsTiInfo'][0]\n",
    "    list_total_count = res_meta['head'][0]['list_total_count']\n",
    "\n",
    "    return list_total_count\n"
   ]
  },
  {
   "cell_type": "code",
   "execution_count": 163,
   "id": "e8404402",
   "metadata": {},
   "outputs": [
    {
     "data": {
      "text/plain": [
       "{'K10': 3081,\n",
       " 'J10': 33036,\n",
       " 'S10': 8374,\n",
       " 'R10': 5628,\n",
       " 'F10': 4697,\n",
       " 'D10': 7723,\n",
       " 'G10': 3699,\n",
       " 'C10': 8587,\n",
       " 'B10': 25222,\n",
       " 'I10': 1061,\n",
       " 'H10': 3476,\n",
       " 'E10': 5583,\n",
       " 'Q10': 3381,\n",
       " 'P10': 4978,\n",
       " 'T10': 1591,\n",
       " 'N10': 3989,\n",
       " 'M10': 3161}"
      ]
     },
     "execution_count": 163,
     "metadata": {},
     "output_type": "execute_result"
    }
   ],
   "source": [
    "tmp_dict=dict()\n",
    "for code in code_list:\n",
    "    tmp_dict[code] = get_total_cnt(code)\n",
    "tmp_dict    "
   ]
  },
  {
   "cell_type": "code",
   "execution_count": 177,
   "id": "c3de26af",
   "metadata": {},
   "outputs": [],
   "source": [
    "def get_academy(code,tmp_index):\n",
    "    df_fin = pd.DataFrame()\n",
    "\n",
    "    for pg in range(1,tmp_index+1):\n",
    "        url = \"https://open.neis.go.kr/hub/acaInsTiInfo?KEY=\"+api_key+\"&Type=json&pSize=999&pIndex=\"+str(pg)+\"&ATPT_OFCDC_SC_CODE=\"+code\n",
    "        res = requests.get(url)\n",
    "        res_json = res.json()\n",
    "        res_row = res_json['acaInsTiInfo'][1]['row']\n",
    "        df = pd.DataFrame(res_row)\n",
    "        df_fin = pd.concat([df_fin,df],axis=0,ignore_index=True)\n",
    "\n",
    "    file_name=code+\"_academy.csv\"\n",
    "    df_fin.to_csv(\"./Data/학원_Data/\"+file_name,encoding=\"utf-8-sig\")\n"
   ]
  },
  {
   "cell_type": "code",
   "execution_count": 178,
   "id": "2226efb5",
   "metadata": {},
   "outputs": [],
   "source": [
    "for k,v in tmp_dict.items():\n",
    "    tmp_index = int(v/999)+1\n",
    "    get_academy(k,tmp_index)"
   ]
  },
  {
   "cell_type": "code",
   "execution_count": null,
   "id": "88b53939",
   "metadata": {},
   "outputs": [],
   "source": []
  }
 ],
 "metadata": {
  "kernelspec": {
   "display_name": "Python 3 (ipykernel)",
   "language": "python",
   "name": "python3"
  },
  "language_info": {
   "codemirror_mode": {
    "name": "ipython",
    "version": 3
   },
   "file_extension": ".py",
   "mimetype": "text/x-python",
   "name": "python",
   "nbconvert_exporter": "python",
   "pygments_lexer": "ipython3",
   "version": "3.8.7"
  }
 },
 "nbformat": 4,
 "nbformat_minor": 5
}
