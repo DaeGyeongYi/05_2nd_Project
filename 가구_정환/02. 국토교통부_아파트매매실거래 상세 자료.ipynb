{
 "cells": [
  {
   "cell_type": "code",
   "execution_count": 8,
   "id": "29c46c9c",
   "metadata": {},
   "outputs": [],
   "source": [
    "import requests\n",
    "from bs4 import BeautifulSoup"
   ]
  },
  {
   "cell_type": "code",
   "execution_count": 10,
   "id": "76ca7af3",
   "metadata": {},
   "outputs": [],
   "source": [
    "# url 및 서비스 키\n",
    "endpoint = 'http://openapi.molit.go.kr/OpenAPI_ToolInstallPackage/service/rest/RTMSOBJSvc/getRTMSDataSvcAptTradeDev?'\n",
    "ServiceKey = '3V2Bs5v1nPXfnd%2BDk29h%2BF83ZwLTLf7cbMRiztm0Idr1fHxun3DzZiqxlKXXjRb8QpH9poo8NBizRLCgvUkQaA%3D%3D'\n",
    "\n",
    "pageNo = '1'\n",
    "numOfRows = '10'\n",
    "LAWD_CD = '11110'\n",
    "DEAL_YMD = '201512'\n"
   ]
  },
  {
   "cell_type": "code",
   "execution_count": 11,
   "id": "6da2f203",
   "metadata": {},
   "outputs": [],
   "source": [
    "paramset = \"serviceKey=\" + ServiceKey +\"&\" \\\n",
    "            + \"numOfRows=\" + numOfRows +\"&\" \\\n",
    "            + \"pageNo=\" + pageNo +\"&\"  \\\n",
    "            + \"numOfRows=\" + numOfRows +\"&\"  \\\n",
    "            + \"LAWD_CD=\" + LAWD_CD + \"&\" \\\n",
    "            + \"DEAL_YMD=\"+ DEAL_YMD"
   ]
  },
  {
   "cell_type": "code",
   "execution_count": 12,
   "id": "09f95e17",
   "metadata": {},
   "outputs": [
    {
     "data": {
      "text/plain": [
       "'serviceKey=3V2Bs5v1nPXfnd%2BDk29h%2BF83ZwLTLf7cbMRiztm0Idr1fHxun3DzZiqxlKXXjRb8QpH9poo8NBizRLCgvUkQaA%3D%3D&numOfRows=10&pageNo=1&numOfRows=10&LAWD_CD=11110&DEAL_YMD=201512'"
      ]
     },
     "execution_count": 12,
     "metadata": {},
     "output_type": "execute_result"
    }
   ],
   "source": [
    "paramset"
   ]
  },
  {
   "cell_type": "code",
   "execution_count": 13,
   "id": "036aa3d7",
   "metadata": {},
   "outputs": [
    {
     "data": {
      "text/plain": [
       "'http://openapi.molit.go.kr/OpenAPI_ToolInstallPackage/service/rest/RTMSOBJSvc/getRTMSDataSvcAptTradeDev?serviceKey=3V2Bs5v1nPXfnd%2BDk29h%2BF83ZwLTLf7cbMRiztm0Idr1fHxun3DzZiqxlKXXjRb8QpH9poo8NBizRLCgvUkQaA%3D%3D&numOfRows=10&pageNo=1&numOfRows=10&LAWD_CD=11110&DEAL_YMD=201512'"
      ]
     },
     "execution_count": 13,
     "metadata": {},
     "output_type": "execute_result"
    }
   ],
   "source": [
    "url = endpoint + paramset\n",
    "url"
   ]
  },
  {
   "cell_type": "code",
   "execution_count": 14,
   "id": "0f83c7ec",
   "metadata": {},
   "outputs": [],
   "source": [
    "result = requests.get(url)\n",
    "bs_obj = BeautifulSoup(result.content, 'html.parser')"
   ]
  },
  {
   "cell_type": "code",
   "execution_count": 15,
   "id": "03a9ae98",
   "metadata": {},
   "outputs": [
    {
     "data": {
      "text/plain": [
       "<Response [200]>"
      ]
     },
     "execution_count": 15,
     "metadata": {},
     "output_type": "execute_result"
    }
   ],
   "source": [
    "result"
   ]
  },
  {
   "cell_type": "code",
   "execution_count": 16,
   "id": "dedcd423",
   "metadata": {},
   "outputs": [
    {
     "data": {
      "text/plain": [
       "<?xml version=\"1.0\" encoding=\"UTF-8\" standalone=\"yes\"?><response><header><resultcode>99</resultcode><resultmsg>SERVICE KEY IS NOT REGISTERED ERROR.</resultmsg></header></response>"
      ]
     },
     "execution_count": 16,
     "metadata": {},
     "output_type": "execute_result"
    }
   ],
   "source": [
    "bs_obj"
   ]
  },
  {
   "cell_type": "code",
   "execution_count": null,
   "id": "2063e512",
   "metadata": {},
   "outputs": [],
   "source": []
  }
 ],
 "metadata": {
  "kernelspec": {
   "display_name": "Python 3",
   "language": "python",
   "name": "python3"
  },
  "language_info": {
   "codemirror_mode": {
    "name": "ipython",
    "version": 3
   },
   "file_extension": ".py",
   "mimetype": "text/x-python",
   "name": "python",
   "nbconvert_exporter": "python",
   "pygments_lexer": "ipython3",
   "version": "3.8.8"
  }
 },
 "nbformat": 4,
 "nbformat_minor": 5
}
