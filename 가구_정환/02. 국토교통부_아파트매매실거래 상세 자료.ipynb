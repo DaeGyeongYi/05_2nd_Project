{
 "cells": [
  {
   "cell_type": "code",
   "execution_count": 8,
   "id": "29c46c9c",
   "metadata": {},
   "outputs": [],
   "source": [
    "import pandas as pd\n",
    "import re\n",
    "import requests\n",
    "from bs4 import BeautifulSoup"
   ]
  },
  {
   "cell_type": "code",
   "execution_count": null,
   "id": "15471acc",
   "metadata": {},
   "outputs": [],
   "source": [
    "df_lawd_cd = pd.read_excel('../Data/가구_Data/raw_Data/시군구코드.xls')"
   ]
  },
  {
   "cell_type": "code",
   "execution_count": null,
   "id": "55213fab",
   "metadata": {},
   "outputs": [],
   "source": [
    "df_lawd_cd"
   ]
  },
  {
   "cell_type": "code",
   "execution_count": 10,
   "id": "76ca7af3",
   "metadata": {},
   "outputs": [],
   "source": [
    "df_lawd_cd.set_axis(df_lawd_cd.loc[0], axis=1, inplace=True)"
   ]
  },
  {
   "cell_type": "code",
   "execution_count": null,
   "id": "1dd99be7",
   "metadata": {},
   "outputs": [],
   "source": [
    "df_lawd_cd.drop(0, inplace = True)"
   ]
  },
  {
   "cell_type": "code",
   "execution_count": null,
   "id": "2063e512",
   "metadata": {},
   "outputs": [],
   "source": [
    "df_lawd_cd.reset_index(drop=True, inplace=True)"
   ]
  },
  {
   "cell_type": "code",
   "execution_count": null,
   "id": "383fd01a",
   "metadata": {},
   "outputs": [],
   "source": [
    "df_lawd_cd"
   ]
  },
  {
   "cell_type": "code",
   "execution_count": null,
   "id": "9dd9c7b5",
   "metadata": {},
   "outputs": [],
   "source": [
    "LAWD_CD_arr = df_lawd_cd.시군구코드.unique()"
   ]
  },
  {
   "cell_type": "code",
   "execution_count": null,
   "id": "ca375c6a",
   "metadata": {},
   "outputs": [],
   "source": [
    "LAWD_CD_arr"
   ]
  },
  {
   "cell_type": "code",
   "execution_count": null,
   "id": "c9f83bd5",
   "metadata": {},
   "outputs": [],
   "source": [
    "DEAL_YMD_arr = []\n",
    "for y in range(2016, 2021):\n",
    "    for m in range(1, 13):\n",
    "        DEAL_YMD_arr.append(str(y) + str(m).zfill(2))"
   ]
  },
  {
   "cell_type": "code",
   "execution_count": null,
   "id": "e9822d05",
   "metadata": {},
   "outputs": [],
   "source": [
    "DEAL_YMD_arr"
   ]
  },
  {
   "cell_type": "code",
   "execution_count": null,
   "id": "fa7d60be",
   "metadata": {},
   "outputs": [],
   "source": [
    "def create_dataframe_by_first(txt) : \n",
    "    df = pd.DataFrame()\n",
    "    lis = re.split(r'[<>]', txt)    \n",
    "    \n",
    "    for i in range(1, len(lis), 2):\n",
    "        df[lis[i].strip()] = \"\"\n",
    "        \n",
    "    return df"
   ]
  },
  {
   "cell_type": "code",
   "execution_count": null,
   "id": "234306b3",
   "metadata": {},
   "outputs": [],
   "source": [
    "endpoint = 'http://openapi.molit.go.kr/OpenAPI_ToolInstallPackage/service/rest/RTMSOBJSvc/getRTMSDataSvcAptTradeDev?'\n",
    "ServiceKey = '3V2Bs5v1nPXfnd%2BDk29h%2BF83ZwLTLf7cbMRiztm0Idr1fHxun3DzZiqxlKXXjRb8QpH9poo8NBizRLCgvUkQaA%3D%3D'\n",
    "\n",
    "pageNo = '1'\n",
    "numOfRows = '100'\n",
    "LAWD_CD = '11110'\n",
    "DEAL_YMD = '201601'\n",
    "\n",
    "paramset = \"serviceKey=\" + ServiceKey +\"&\" \\\n",
    "            + \"numOfRows=\" + numOfRows +\"&\" \\\n",
    "            + \"pageNo=\" + pageNo +\"&\"  \\\n",
    "            + \"numOfRows=\" + numOfRows +\"&\"  \\\n",
    "            + \"LAWD_CD=\" + LAWD_CD + \"&\" \\\n",
    "            + \"DEAL_YMD=\"+ DEAL_YMD\n",
    "\n",
    "url = endpoint + paramset\n",
    "\n",
    "result = requests.get(url)\n",
    "bs_obj = BeautifulSoup(result.content, 'html.parser')\n",
    "\n",
    "items = bs_obj.findAll('item')\n",
    "\n",
    "df_apart_price_table = create_dataframe_by_first(items[0].text)\n"
   ]
  },
  {
   "cell_type": "code",
   "execution_count": null,
   "id": "8576a383",
   "metadata": {},
   "outputs": [],
   "source": [
    "result"
   ]
  },
  {
   "cell_type": "code",
   "execution_count": null,
   "id": "f0c09191",
   "metadata": {},
   "outputs": [],
   "source": [
    "bs_obj"
   ]
  },
  {
   "cell_type": "code",
   "execution_count": null,
   "id": "3999b19d",
   "metadata": {},
   "outputs": [],
   "source": [
    "items"
   ]
  },
  {
   "cell_type": "code",
   "execution_count": null,
   "id": "4a92db28",
   "metadata": {},
   "outputs": [],
   "source": [
    "df_apart_price_table"
   ]
  },
  {
   "cell_type": "code",
   "execution_count": null,
   "id": "791ad46e",
   "metadata": {},
   "outputs": [],
   "source": [
    "endpoint = 'http://openapi.molit.go.kr/OpenAPI_ToolInstallPackage/service/rest/RTMSOBJSvc/getRTMSDataSvcAptTradeDev?'\n",
    "ServiceKey = '3V2Bs5v1nPXfnd%2BDk29h%2BF83ZwLTLf7cbMRiztm0Idr1fHxun3DzZiqxlKXXjRb8QpH9poo8NBizRLCgvUkQaA%3D%3D'\n",
    "\n",
    "default_pageNo = '1'\n",
    "default_numOfRows = '1000'\n",
    "\n",
    "pageNo = default_pageNo\n",
    "numOfRows = default_numOfRows\n",
    "\n",
    "for ymd_param in DEAL_YMD_arr:\n",
    "    DEAL_YMD = ymd_param\n",
    "    for lawd_param in LAWD_CD_arr:\n",
    "        LAWD_CD = lawd_param\n",
    "        \n",
    "        paramset = \"serviceKey=\" + ServiceKey +\"&\" \\\n",
    "            + \"numOfRows=\" + numOfRows +\"&\" \\\n",
    "            + \"pageNo=\" + pageNo +\"&\"  \\\n",
    "            + \"numOfRows=\" + numOfRows +\"&\"  \\\n",
    "            + \"LAWD_CD=\" + LAWD_CD + \"&\" \\\n",
    "            + \"DEAL_YMD=\"+ DEAL_YMD\n",
    "        \n",
    "        url = endpoint + paramset\n",
    "        \n",
    "        result = requests.get(url)\n",
    "        bs_obj = BeautifulSoup(result.content, 'html.parser')\n",
    "        \n",
    "        items = bs_obj.findAll('item')\n",
    "        \n",
    "        to = bs_obj.findAll('totalcount')\n",
    "        try:\n",
    "            if (int(to[0].text) > 1000) : \n",
    "                print(DEAL_YMD + \", \" + LAWD_CD)\n",
    "        except:\n",
    "            pass\n",
    "        for itm in items:\n",
    "            dlis = re.split(r'[<>]', itm.text)\n",
    "            ddic = {}\n",
    "            for i in range(1, len(dlis), 2):\n",
    "                ddic[dlis[i].strip()] = dlis[i+1].strip()\n",
    "            df_apart_price_table = df_apart_price_table.append(ddic, ignore_index=True)"
   ]
  },
  {
   "cell_type": "code",
   "execution_count": null,
   "id": "8f31036a",
   "metadata": {},
   "outputs": [],
   "source": [
    "DEAL_YMD\n",
    "# 201612\n"
   ]
  },
  {
   "cell_type": "code",
   "execution_count": null,
   "id": "f83917d0",
   "metadata": {},
   "outputs": [],
   "source": [
    "LAWD_CD\n",
    "# 34040"
   ]
  },
  {
   "cell_type": "code",
   "execution_count": null,
   "id": "f8e54403",
   "metadata": {},
   "outputs": [],
   "source": [
    "df_apart_price_table"
   ]
  },
  {
   "cell_type": "code",
   "execution_count": null,
   "id": "231e664e",
   "metadata": {},
   "outputs": [],
   "source": [
    "df_apart_price_table.tail(30)"
   ]
  },
  {
   "cell_type": "code",
   "execution_count": null,
   "id": "7b120eae",
   "metadata": {},
   "outputs": [],
   "source": [
    "# 데이터가 너무 많아서 현재 다 못받아온 상황 \n",
    "# DEAL_YMD = '201612'\n",
    "# LAWD_CD = '34040' \n",
    "# 부터 다시 받아서 ..?? 음.... \n",
    "\n",
    "df_apart_price_table.to_csv(\"../Data/가구_Data/아파트매매실거래 상세 자료(16-20).csv\")"
   ]
  },
  {
   "cell_type": "code",
   "execution_count": null,
   "id": "cd2e8b37",
   "metadata": {},
   "outputs": [],
   "source": []
  },
  {
   "cell_type": "code",
   "execution_count": null,
   "id": "bc13a78f",
   "metadata": {},
   "outputs": [],
   "source": []
  },
  {
   "cell_type": "code",
   "execution_count": null,
   "id": "49789397",
   "metadata": {},
   "outputs": [],
   "source": []
  },
  {
   "cell_type": "code",
   "execution_count": null,
   "id": "63894b1c",
   "metadata": {},
   "outputs": [],
   "source": []
  },
  {
   "cell_type": "code",
   "execution_count": null,
   "id": "4ae08b17",
   "metadata": {},
   "outputs": [],
   "source": []
  },
  {
   "cell_type": "code",
   "execution_count": null,
   "id": "3e7d6837",
   "metadata": {},
   "outputs": [],
   "source": []
  },
  {
   "cell_type": "code",
   "execution_count": null,
   "id": "28ed0dde",
   "metadata": {},
   "outputs": [],
   "source": []
  },
  {
   "cell_type": "code",
   "execution_count": null,
   "id": "c7e47686",
   "metadata": {},
   "outputs": [],
   "source": []
  }
 ],
 "metadata": {
  "kernelspec": {
   "display_name": "Python 3",
   "language": "python",
   "name": "python3"
  },
  "language_info": {
   "codemirror_mode": {
    "name": "ipython",
    "version": 3
   },
   "file_extension": ".py",
   "mimetype": "text/x-python",
   "name": "python",
   "nbconvert_exporter": "python",
   "pygments_lexer": "ipython3",
   "version": "3.8.8"
  }
 },
 "nbformat": 4,
 "nbformat_minor": 5
}
